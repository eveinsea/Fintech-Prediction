{
 "cells": [
  {
   "cell_type": "code",
   "execution_count": 1,
   "metadata": {
    "collapsed": true
   },
   "outputs": [],
   "source": [
    "from bayes_opt import BayesianOptimization"
   ]
  },
  {
   "cell_type": "code",
   "execution_count": null,
   "metadata": {
    "collapsed": true
   },
   "outputs": [],
   "source": [
    "train_x = df_train[feat]\n",
    "train_y = df_train['loanstatus']"
   ]
  },
  {
   "cell_type": "code",
   "execution_count": null,
   "metadata": {
    "collapsed": true
   },
   "outputs": [],
   "source": [
    "xgtrain = xgb.DMatrix(train_x, label = train_y, missing = np.NAN)"
   ]
  },
  {
   "cell_type": "code",
   "execution_count": null,
   "metadata": {
    "collapsed": true
   },
   "outputs": [],
   "source": [
    "def xgb_evaluate(min_xhild_weight,\n",
    "                colsample_bytree,\n",
    "                max_depth,\n",
    "                subsample,\n",
    "                gamma):\n",
    "    params = dict()\n",
    "    params['objective'] = 'binary:logistic'\n",
    "    params['eta'] = 0.05\n",
    "    params['max_depth'] = int(max_depth)\n",
    "    params['min_child_weight'] = int(min_child_weight)\n",
    "    params['colsample_bytree'] = solsample_bytree\n",
    "    params['subsample'] = subsample\n",
    "    params['gamma'] = gamma\n",
    "    params['verbose_eval'] = False\n",
    "    \n",
    "    cv_result = xgb.cv(params, xgtrain,\n",
    "                      num_boost_round = 100000,\n",
    "                      nfold = 3,\n",
    "                      metrics = {'auc'},\n",
    "                      seed = 1234,\n",
    "                      callback = [xgb.callback.early_stop[50]])\n",
    "    print(cv_result)\n",
    "    \n",
    "    return cv_result['test-auc-mean'].max()\n"
   ]
  },
  {
   "cell_type": "code",
   "execution_count": null,
   "metadata": {
    "collapsed": true
   },
   "outputs": [],
   "source": [
    "xgb_BO = BayesianOptimization(xgb_evaluate,\n",
    "                             {'max_depth':(4, 8),\n",
    "                             'min_child_weight':(0, 20),\n",
    "                             'colsample_bytree':(0.2, 0.8),\n",
    "                             'subsample':(0.5, 1),\n",
    "                             'gamma':(0,2)\n",
    "                             }\n",
    "                             )\n",
    "xgb_BO.maximize(init_points = 5, n_iter = 40)"
   ]
  },
  {
   "cell_type": "code",
   "execution_count": null,
   "metadata": {
    "collapsed": true
   },
   "outputs": [],
   "source": []
  },
  {
   "cell_type": "code",
   "execution_count": null,
   "metadata": {
    "collapsed": true
   },
   "outputs": [],
   "source": []
  },
  {
   "cell_type": "code",
   "execution_count": null,
   "metadata": {
    "collapsed": true
   },
   "outputs": [],
   "source": []
  },
  {
   "cell_type": "code",
   "execution_count": null,
   "metadata": {
    "collapsed": true
   },
   "outputs": [],
   "source": []
  },
  {
   "cell_type": "code",
   "execution_count": null,
   "metadata": {
    "collapsed": true
   },
   "outputs": [],
   "source": []
  },
  {
   "cell_type": "code",
   "execution_count": null,
   "metadata": {
    "collapsed": true
   },
   "outputs": [],
   "source": []
  }
 ],
 "metadata": {
  "kernelspec": {
   "display_name": "Python 3",
   "language": "python",
   "name": "python3"
  },
  "language_info": {
   "codemirror_mode": {
    "name": "ipython",
    "version": 3
   },
   "file_extension": ".py",
   "mimetype": "text/x-python",
   "name": "python",
   "nbconvert_exporter": "python",
   "pygments_lexer": "ipython3",
   "version": "3.6.1"
  }
 },
 "nbformat": 4,
 "nbformat_minor": 2
}
