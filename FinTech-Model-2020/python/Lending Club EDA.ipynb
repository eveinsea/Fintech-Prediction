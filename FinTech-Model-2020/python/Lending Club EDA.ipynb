{
 "cells": [
  {
   "cell_type": "markdown",
   "metadata": {},
   "source": [
    "### Lending Club EDA"
   ]
  },
  {
   "cell_type": "code",
   "execution_count": 1,
   "metadata": {
    "collapsed": true
   },
   "outputs": [],
   "source": [
    "import pandas as pd\n",
    "import numpy as np\n",
    "import matplotlib.pyplot as plt\n",
    "%matplotlib inline\n",
    "import seaborn as sns"
   ]
  },
  {
   "cell_type": "markdown",
   "metadata": {},
   "source": [
    "#### Loan_2014 data"
   ]
  },
  {
   "cell_type": "code",
   "execution_count": 2,
   "metadata": {},
   "outputs": [
    {
     "name": "stderr",
     "output_type": "stream",
     "text": [
      "/home/wing/anaconda3/lib/python3.6/site-packages/IPython/core/interactiveshell.py:2717: DtypeWarning: Columns (12,81) have mixed types. Specify dtype option on import or set low_memory=False.\n",
      "  interactivity=interactivity, compiler=compiler, result=result)\n"
     ]
    }
   ],
   "source": [
    "df = pd.read_csv('../input/loan_2014.csv')"
   ]
  },
  {
   "cell_type": "code",
   "execution_count": 3,
   "metadata": {},
   "outputs": [
    {
     "data": {
      "text/plain": [
       "(235631, 95)"
      ]
     },
     "execution_count": 3,
     "metadata": {},
     "output_type": "execute_result"
    }
   ],
   "source": [
    "df.shape"
   ]
  },
  {
   "cell_type": "code",
   "execution_count": 4,
   "metadata": {},
   "outputs": [
    {
     "data": {
      "text/plain": [
       "array(['homeownership', 'totalbclimit', 'loanamnt', 'numtloppast12m',\n",
       "       'pubrecbankruptcies', 'taxliens', 'totalilhighcreditlimit',\n",
       "       'verificationstatusjoint', 'pcttlnvrdlq', 'mosinrcnttl',\n",
       "       'accnowdelinq', 'totalbalexmort', 'id', 'grade', 'intrate',\n",
       "       'tothicredlim', 'emplength', 'verificationstatus', 'bcutil',\n",
       "       'mthssincerecentinq', 'mortacc', 'numrevaccts', 'totalbalil',\n",
       "       'maxbalbc', 'numtl120dpd2m', 'mthssincelastdelinq',\n",
       "       'mthssincelastmajorderog', 'revolbal', 'mosinoldrevtlop',\n",
       "       'revolutil', 'zipcode', 'accopenpast24mths', 'openil6m',\n",
       "       'mosinoldilacct', 'numiltl', 'purpose', 'ficorangehigh',\n",
       "       'totcollamt', 'allutil', 'installment', 'addrstate',\n",
       "       'mosinrcntrevtlop', 'dtijoint', 'numtl90gdpd24m', 'memberid',\n",
       "       'inqlast6mths', 'numactvbctl', 'subgrade', 'openil24m', 'emptitle',\n",
       "       'inqlast12m', 'annualincjoint', 'totcurbal', 'annualinc', 'openacc',\n",
       "       'mthssincerecentbcdlq', 'applicationtype', 'totalacc',\n",
       "       'initialliststatus', 'collections12mthsexmed', 'fundedamnt',\n",
       "       'totalcutl', 'totalrevhilim', 'mthssincercntil', 'dti',\n",
       "       'numrevtlbalgt0', 'numoprevtl', 'openrv24m', 'numtl30dpd',\n",
       "       'delinqamnt', 'numactvrevtl', 'numbcsats', 'numsats', 'bcopentobuy',\n",
       "       'ficorangelow', 'numacctsever120pd', 'chargeoffwithin12mths',\n",
       "       'pubrec', 'openacc6m', 'mthssincelastrecord', 'openrv12m', 'desc',\n",
       "       'mthssincerecentrevoldelinq', 'delinq2yrs', 'inqfi', 'openil12m',\n",
       "       'mthssincerecentbc', 'numbctl', 'earliestcrline', 'ilutil',\n",
       "       'avgcurbal', 'percentbcgt75', 'term', 'issued', 'loanstatus'], dtype=object)"
      ]
     },
     "execution_count": 4,
     "metadata": {},
     "output_type": "execute_result"
    }
   ],
   "source": [
    "df.columns.values\n",
    "#不会像df.columns一样中间用省略号表示"
   ]
  },
  {
   "cell_type": "markdown",
   "metadata": {},
   "source": [
    "#### 最后2行， invalid，删除"
   ]
  },
  {
   "cell_type": "code",
   "execution_count": 5,
   "metadata": {},
   "outputs": [
    {
     "data": {
      "text/html": [
       "<div>\n",
       "<style>\n",
       "    .dataframe thead tr:only-child th {\n",
       "        text-align: right;\n",
       "    }\n",
       "\n",
       "    .dataframe thead th {\n",
       "        text-align: left;\n",
       "    }\n",
       "\n",
       "    .dataframe tbody tr th {\n",
       "        vertical-align: top;\n",
       "    }\n",
       "</style>\n",
       "<table border=\"1\" class=\"dataframe\">\n",
       "  <thead>\n",
       "    <tr style=\"text-align: right;\">\n",
       "      <th></th>\n",
       "      <th>homeownership</th>\n",
       "      <th>totalbclimit</th>\n",
       "      <th>loanamnt</th>\n",
       "      <th>numtloppast12m</th>\n",
       "      <th>pubrecbankruptcies</th>\n",
       "      <th>taxliens</th>\n",
       "      <th>totalilhighcreditlimit</th>\n",
       "      <th>verificationstatusjoint</th>\n",
       "      <th>pcttlnvrdlq</th>\n",
       "      <th>mosinrcnttl</th>\n",
       "      <th>...</th>\n",
       "      <th>openil12m</th>\n",
       "      <th>mthssincerecentbc</th>\n",
       "      <th>numbctl</th>\n",
       "      <th>earliestcrline</th>\n",
       "      <th>ilutil</th>\n",
       "      <th>avgcurbal</th>\n",
       "      <th>percentbcgt75</th>\n",
       "      <th>term</th>\n",
       "      <th>issued</th>\n",
       "      <th>loanstatus</th>\n",
       "    </tr>\n",
       "  </thead>\n",
       "  <tbody>\n",
       "    <tr>\n",
       "      <th>235626</th>\n",
       "      <td>MORTGAGE</td>\n",
       "      <td>8500.0</td>\n",
       "      <td>20700.0</td>\n",
       "      <td>0.0</td>\n",
       "      <td>0.0</td>\n",
       "      <td>0.0</td>\n",
       "      <td>83482.0</td>\n",
       "      <td>NaN</td>\n",
       "      <td>97.6</td>\n",
       "      <td>19.0</td>\n",
       "      <td>...</td>\n",
       "      <td>NaN</td>\n",
       "      <td>93.0</td>\n",
       "      <td>1.0</td>\n",
       "      <td>Dec-2001</td>\n",
       "      <td>NaN</td>\n",
       "      <td>4089.0</td>\n",
       "      <td>100.0</td>\n",
       "      <td>60 months</td>\n",
       "      <td>Jan-2014</td>\n",
       "      <td>Current</td>\n",
       "    </tr>\n",
       "    <tr>\n",
       "      <th>235627</th>\n",
       "      <td>OWN</td>\n",
       "      <td>47500.0</td>\n",
       "      <td>2000.0</td>\n",
       "      <td>4.0</td>\n",
       "      <td>0.0</td>\n",
       "      <td>0.0</td>\n",
       "      <td>37200.0</td>\n",
       "      <td>NaN</td>\n",
       "      <td>85.2</td>\n",
       "      <td>5.0</td>\n",
       "      <td>...</td>\n",
       "      <td>NaN</td>\n",
       "      <td>5.0</td>\n",
       "      <td>10.0</td>\n",
       "      <td>Feb-2003</td>\n",
       "      <td>NaN</td>\n",
       "      <td>28172.0</td>\n",
       "      <td>11.1</td>\n",
       "      <td>36 months</td>\n",
       "      <td>Jan-2014</td>\n",
       "      <td>Fully Paid</td>\n",
       "    </tr>\n",
       "    <tr>\n",
       "      <th>235628</th>\n",
       "      <td>MORTGAGE</td>\n",
       "      <td>13500.0</td>\n",
       "      <td>10000.0</td>\n",
       "      <td>2.0</td>\n",
       "      <td>0.0</td>\n",
       "      <td>0.0</td>\n",
       "      <td>65470.0</td>\n",
       "      <td>NaN</td>\n",
       "      <td>90.9</td>\n",
       "      <td>4.0</td>\n",
       "      <td>...</td>\n",
       "      <td>NaN</td>\n",
       "      <td>4.0</td>\n",
       "      <td>11.0</td>\n",
       "      <td>Feb-2000</td>\n",
       "      <td>NaN</td>\n",
       "      <td>11495.0</td>\n",
       "      <td>50.0</td>\n",
       "      <td>36 months</td>\n",
       "      <td>Jan-2014</td>\n",
       "      <td>Fully Paid</td>\n",
       "    </tr>\n",
       "    <tr>\n",
       "      <th>235629</th>\n",
       "      <td>NaN</td>\n",
       "      <td>NaN</td>\n",
       "      <td>NaN</td>\n",
       "      <td>NaN</td>\n",
       "      <td>NaN</td>\n",
       "      <td>NaN</td>\n",
       "      <td>NaN</td>\n",
       "      <td>NaN</td>\n",
       "      <td>NaN</td>\n",
       "      <td>NaN</td>\n",
       "      <td>...</td>\n",
       "      <td>NaN</td>\n",
       "      <td>NaN</td>\n",
       "      <td>NaN</td>\n",
       "      <td>NaN</td>\n",
       "      <td>NaN</td>\n",
       "      <td>NaN</td>\n",
       "      <td>NaN</td>\n",
       "      <td>NaN</td>\n",
       "      <td>NaN</td>\n",
       "      <td>NaN</td>\n",
       "    </tr>\n",
       "    <tr>\n",
       "      <th>235630</th>\n",
       "      <td>NaN</td>\n",
       "      <td>NaN</td>\n",
       "      <td>NaN</td>\n",
       "      <td>NaN</td>\n",
       "      <td>NaN</td>\n",
       "      <td>NaN</td>\n",
       "      <td>NaN</td>\n",
       "      <td>NaN</td>\n",
       "      <td>NaN</td>\n",
       "      <td>NaN</td>\n",
       "      <td>...</td>\n",
       "      <td>NaN</td>\n",
       "      <td>NaN</td>\n",
       "      <td>NaN</td>\n",
       "      <td>NaN</td>\n",
       "      <td>NaN</td>\n",
       "      <td>NaN</td>\n",
       "      <td>NaN</td>\n",
       "      <td>NaN</td>\n",
       "      <td>NaN</td>\n",
       "      <td>NaN</td>\n",
       "    </tr>\n",
       "  </tbody>\n",
       "</table>\n",
       "<p>5 rows × 95 columns</p>\n",
       "</div>"
      ],
      "text/plain": [
       "       homeownership  totalbclimit  loanamnt  numtloppast12m  \\\n",
       "235626      MORTGAGE        8500.0   20700.0             0.0   \n",
       "235627           OWN       47500.0    2000.0             4.0   \n",
       "235628      MORTGAGE       13500.0   10000.0             2.0   \n",
       "235629           NaN           NaN       NaN             NaN   \n",
       "235630           NaN           NaN       NaN             NaN   \n",
       "\n",
       "        pubrecbankruptcies  taxliens  totalilhighcreditlimit  \\\n",
       "235626                 0.0       0.0                 83482.0   \n",
       "235627                 0.0       0.0                 37200.0   \n",
       "235628                 0.0       0.0                 65470.0   \n",
       "235629                 NaN       NaN                     NaN   \n",
       "235630                 NaN       NaN                     NaN   \n",
       "\n",
       "        verificationstatusjoint  pcttlnvrdlq  mosinrcnttl     ...      \\\n",
       "235626                      NaN         97.6         19.0     ...       \n",
       "235627                      NaN         85.2          5.0     ...       \n",
       "235628                      NaN         90.9          4.0     ...       \n",
       "235629                      NaN          NaN          NaN     ...       \n",
       "235630                      NaN          NaN          NaN     ...       \n",
       "\n",
       "        openil12m  mthssincerecentbc numbctl earliestcrline ilutil  avgcurbal  \\\n",
       "235626        NaN               93.0     1.0       Dec-2001    NaN     4089.0   \n",
       "235627        NaN                5.0    10.0       Feb-2003    NaN    28172.0   \n",
       "235628        NaN                4.0    11.0       Feb-2000    NaN    11495.0   \n",
       "235629        NaN                NaN     NaN            NaN    NaN        NaN   \n",
       "235630        NaN                NaN     NaN            NaN    NaN        NaN   \n",
       "\n",
       "       percentbcgt75        term    issued  loanstatus  \n",
       "235626         100.0   60 months  Jan-2014     Current  \n",
       "235627          11.1   36 months  Jan-2014  Fully Paid  \n",
       "235628          50.0   36 months  Jan-2014  Fully Paid  \n",
       "235629           NaN         NaN       NaN         NaN  \n",
       "235630           NaN         NaN       NaN         NaN  \n",
       "\n",
       "[5 rows x 95 columns]"
      ]
     },
     "execution_count": 5,
     "metadata": {},
     "output_type": "execute_result"
    }
   ],
   "source": [
    "df.tail()"
   ]
  },
  {
   "cell_type": "code",
   "execution_count": 6,
   "metadata": {
    "collapsed": true
   },
   "outputs": [],
   "source": [
    "df = df[0:235629]"
   ]
  },
  {
   "cell_type": "code",
   "execution_count": 7,
   "metadata": {},
   "outputs": [
    {
     "data": {
      "text/html": [
       "<div>\n",
       "<style>\n",
       "    .dataframe thead tr:only-child th {\n",
       "        text-align: right;\n",
       "    }\n",
       "\n",
       "    .dataframe thead th {\n",
       "        text-align: left;\n",
       "    }\n",
       "\n",
       "    .dataframe tbody tr th {\n",
       "        vertical-align: top;\n",
       "    }\n",
       "</style>\n",
       "<table border=\"1\" class=\"dataframe\">\n",
       "  <thead>\n",
       "    <tr style=\"text-align: right;\">\n",
       "      <th></th>\n",
       "      <th>homeownership</th>\n",
       "      <th>totalbclimit</th>\n",
       "      <th>loanamnt</th>\n",
       "      <th>numtloppast12m</th>\n",
       "      <th>pubrecbankruptcies</th>\n",
       "      <th>taxliens</th>\n",
       "      <th>totalilhighcreditlimit</th>\n",
       "      <th>verificationstatusjoint</th>\n",
       "      <th>pcttlnvrdlq</th>\n",
       "      <th>mosinrcnttl</th>\n",
       "      <th>...</th>\n",
       "      <th>openil12m</th>\n",
       "      <th>mthssincerecentbc</th>\n",
       "      <th>numbctl</th>\n",
       "      <th>earliestcrline</th>\n",
       "      <th>ilutil</th>\n",
       "      <th>avgcurbal</th>\n",
       "      <th>percentbcgt75</th>\n",
       "      <th>term</th>\n",
       "      <th>issued</th>\n",
       "      <th>loanstatus</th>\n",
       "    </tr>\n",
       "  </thead>\n",
       "  <tbody>\n",
       "    <tr>\n",
       "      <th>235624</th>\n",
       "      <td>MORTGAGE</td>\n",
       "      <td>21200.0</td>\n",
       "      <td>18400.0</td>\n",
       "      <td>1.0</td>\n",
       "      <td>0.0</td>\n",
       "      <td>0.0</td>\n",
       "      <td>159744.0</td>\n",
       "      <td>NaN</td>\n",
       "      <td>100.0</td>\n",
       "      <td>3.0</td>\n",
       "      <td>...</td>\n",
       "      <td>NaN</td>\n",
       "      <td>69.0</td>\n",
       "      <td>7.0</td>\n",
       "      <td>Apr-2003</td>\n",
       "      <td>NaN</td>\n",
       "      <td>17353.0</td>\n",
       "      <td>80.0</td>\n",
       "      <td>60 months</td>\n",
       "      <td>Jan-2014</td>\n",
       "      <td>Fully Paid</td>\n",
       "    </tr>\n",
       "    <tr>\n",
       "      <th>235625</th>\n",
       "      <td>MORTGAGE</td>\n",
       "      <td>12200.0</td>\n",
       "      <td>22000.0</td>\n",
       "      <td>2.0</td>\n",
       "      <td>1.0</td>\n",
       "      <td>0.0</td>\n",
       "      <td>39347.0</td>\n",
       "      <td>NaN</td>\n",
       "      <td>100.0</td>\n",
       "      <td>3.0</td>\n",
       "      <td>...</td>\n",
       "      <td>NaN</td>\n",
       "      <td>17.0</td>\n",
       "      <td>9.0</td>\n",
       "      <td>Jun-1997</td>\n",
       "      <td>NaN</td>\n",
       "      <td>13864.0</td>\n",
       "      <td>20.0</td>\n",
       "      <td>60 months</td>\n",
       "      <td>Jan-2014</td>\n",
       "      <td>Charged Off</td>\n",
       "    </tr>\n",
       "    <tr>\n",
       "      <th>235626</th>\n",
       "      <td>MORTGAGE</td>\n",
       "      <td>8500.0</td>\n",
       "      <td>20700.0</td>\n",
       "      <td>0.0</td>\n",
       "      <td>0.0</td>\n",
       "      <td>0.0</td>\n",
       "      <td>83482.0</td>\n",
       "      <td>NaN</td>\n",
       "      <td>97.6</td>\n",
       "      <td>19.0</td>\n",
       "      <td>...</td>\n",
       "      <td>NaN</td>\n",
       "      <td>93.0</td>\n",
       "      <td>1.0</td>\n",
       "      <td>Dec-2001</td>\n",
       "      <td>NaN</td>\n",
       "      <td>4089.0</td>\n",
       "      <td>100.0</td>\n",
       "      <td>60 months</td>\n",
       "      <td>Jan-2014</td>\n",
       "      <td>Current</td>\n",
       "    </tr>\n",
       "    <tr>\n",
       "      <th>235627</th>\n",
       "      <td>OWN</td>\n",
       "      <td>47500.0</td>\n",
       "      <td>2000.0</td>\n",
       "      <td>4.0</td>\n",
       "      <td>0.0</td>\n",
       "      <td>0.0</td>\n",
       "      <td>37200.0</td>\n",
       "      <td>NaN</td>\n",
       "      <td>85.2</td>\n",
       "      <td>5.0</td>\n",
       "      <td>...</td>\n",
       "      <td>NaN</td>\n",
       "      <td>5.0</td>\n",
       "      <td>10.0</td>\n",
       "      <td>Feb-2003</td>\n",
       "      <td>NaN</td>\n",
       "      <td>28172.0</td>\n",
       "      <td>11.1</td>\n",
       "      <td>36 months</td>\n",
       "      <td>Jan-2014</td>\n",
       "      <td>Fully Paid</td>\n",
       "    </tr>\n",
       "    <tr>\n",
       "      <th>235628</th>\n",
       "      <td>MORTGAGE</td>\n",
       "      <td>13500.0</td>\n",
       "      <td>10000.0</td>\n",
       "      <td>2.0</td>\n",
       "      <td>0.0</td>\n",
       "      <td>0.0</td>\n",
       "      <td>65470.0</td>\n",
       "      <td>NaN</td>\n",
       "      <td>90.9</td>\n",
       "      <td>4.0</td>\n",
       "      <td>...</td>\n",
       "      <td>NaN</td>\n",
       "      <td>4.0</td>\n",
       "      <td>11.0</td>\n",
       "      <td>Feb-2000</td>\n",
       "      <td>NaN</td>\n",
       "      <td>11495.0</td>\n",
       "      <td>50.0</td>\n",
       "      <td>36 months</td>\n",
       "      <td>Jan-2014</td>\n",
       "      <td>Fully Paid</td>\n",
       "    </tr>\n",
       "  </tbody>\n",
       "</table>\n",
       "<p>5 rows × 95 columns</p>\n",
       "</div>"
      ],
      "text/plain": [
       "       homeownership  totalbclimit  loanamnt  numtloppast12m  \\\n",
       "235624      MORTGAGE       21200.0   18400.0             1.0   \n",
       "235625      MORTGAGE       12200.0   22000.0             2.0   \n",
       "235626      MORTGAGE        8500.0   20700.0             0.0   \n",
       "235627           OWN       47500.0    2000.0             4.0   \n",
       "235628      MORTGAGE       13500.0   10000.0             2.0   \n",
       "\n",
       "        pubrecbankruptcies  taxliens  totalilhighcreditlimit  \\\n",
       "235624                 0.0       0.0                159744.0   \n",
       "235625                 1.0       0.0                 39347.0   \n",
       "235626                 0.0       0.0                 83482.0   \n",
       "235627                 0.0       0.0                 37200.0   \n",
       "235628                 0.0       0.0                 65470.0   \n",
       "\n",
       "        verificationstatusjoint  pcttlnvrdlq  mosinrcnttl     ...       \\\n",
       "235624                      NaN        100.0          3.0     ...        \n",
       "235625                      NaN        100.0          3.0     ...        \n",
       "235626                      NaN         97.6         19.0     ...        \n",
       "235627                      NaN         85.2          5.0     ...        \n",
       "235628                      NaN         90.9          4.0     ...        \n",
       "\n",
       "        openil12m  mthssincerecentbc numbctl earliestcrline ilutil  avgcurbal  \\\n",
       "235624        NaN               69.0     7.0       Apr-2003    NaN    17353.0   \n",
       "235625        NaN               17.0     9.0       Jun-1997    NaN    13864.0   \n",
       "235626        NaN               93.0     1.0       Dec-2001    NaN     4089.0   \n",
       "235627        NaN                5.0    10.0       Feb-2003    NaN    28172.0   \n",
       "235628        NaN                4.0    11.0       Feb-2000    NaN    11495.0   \n",
       "\n",
       "       percentbcgt75        term    issued   loanstatus  \n",
       "235624          80.0   60 months  Jan-2014   Fully Paid  \n",
       "235625          20.0   60 months  Jan-2014  Charged Off  \n",
       "235626         100.0   60 months  Jan-2014      Current  \n",
       "235627          11.1   36 months  Jan-2014   Fully Paid  \n",
       "235628          50.0   36 months  Jan-2014   Fully Paid  \n",
       "\n",
       "[5 rows x 95 columns]"
      ]
     },
     "execution_count": 7,
     "metadata": {},
     "output_type": "execute_result"
    }
   ],
   "source": [
    "df.tail()"
   ]
  },
  {
   "cell_type": "code",
   "execution_count": 8,
   "metadata": {},
   "outputs": [
    {
     "data": {
      "text/plain": [
       "(235629, 95)"
      ]
     },
     "execution_count": 8,
     "metadata": {},
     "output_type": "execute_result"
    }
   ],
   "source": [
    "df.shape"
   ]
  },
  {
   "cell_type": "markdown",
   "metadata": {},
   "source": [
    "#### 根据project设定，只取term = 36 months的数据"
   ]
  },
  {
   "cell_type": "code",
   "execution_count": 9,
   "metadata": {
    "collapsed": true
   },
   "outputs": [],
   "source": [
    "df2 = df"
   ]
  },
  {
   "cell_type": "code",
   "execution_count": 10,
   "metadata": {},
   "outputs": [],
   "source": [
    "df = df[df.term == ' 36 months']\n",
    "#注意term取值前面有空格"
   ]
  },
  {
   "cell_type": "code",
   "execution_count": 11,
   "metadata": {},
   "outputs": [
    {
     "data": {
      "text/plain": [
       "(162570, 95)"
      ]
     },
     "execution_count": 11,
     "metadata": {},
     "output_type": "execute_result"
    }
   ],
   "source": [
    "df.shape"
   ]
  },
  {
   "cell_type": "code",
   "execution_count": null,
   "metadata": {
    "collapsed": true
   },
   "outputs": [],
   "source": []
  },
  {
   "cell_type": "markdown",
   "metadata": {},
   "source": [
    "#### 95列，19 object, 76 numeric( but 18 columns are Nulls, 13 of them have Nulls)"
   ]
  },
  {
   "cell_type": "code",
   "execution_count": 12,
   "metadata": {},
   "outputs": [
    {
     "name": "stdout",
     "output_type": "stream",
     "text": [
      "<class 'pandas.core.frame.DataFrame'>\n",
      "Int64Index: 162570 entries, 0 to 235628\n",
      "Data columns (total 95 columns):\n",
      "homeownership                 162570 non-null object\n",
      "totalbclimit                  162570 non-null float64\n",
      "loanamnt                      162570 non-null float64\n",
      "numtloppast12m                162570 non-null float64\n",
      "pubrecbankruptcies            162570 non-null float64\n",
      "taxliens                      162570 non-null float64\n",
      "totalilhighcreditlimit        162570 non-null float64\n",
      "verificationstatusjoint       0 non-null float64\n",
      "pcttlnvrdlq                   162570 non-null float64\n",
      "mosinrcnttl                   162570 non-null float64\n",
      "accnowdelinq                  162570 non-null float64\n",
      "totalbalexmort                162570 non-null float64\n",
      "id                            162570 non-null object\n",
      "grade                         162570 non-null object\n",
      "intrate                       162570 non-null object\n",
      "tothicredlim                  162570 non-null float64\n",
      "emplength                     162570 non-null object\n",
      "verificationstatus            162570 non-null object\n",
      "bcutil                        160682 non-null float64\n",
      "mthssincerecentinq            147156 non-null float64\n",
      "mortacc                       162570 non-null float64\n",
      "numrevaccts                   162570 non-null float64\n",
      "totalbalil                    0 non-null float64\n",
      "maxbalbc                      0 non-null float64\n",
      "numtl120dpd2m                 156109 non-null float64\n",
      "mthssincelastdelinq           83035 non-null float64\n",
      "mthssincelastmajorderog       47552 non-null float64\n",
      "revolbal                      162570 non-null float64\n",
      "mosinoldrevtlop               162570 non-null float64\n",
      "revolutil                     162493 non-null object\n",
      "zipcode                       162570 non-null object\n",
      "accopenpast24mths             162570 non-null float64\n",
      "openil6m                      0 non-null float64\n",
      "mosinoldilacct                156639 non-null float64\n",
      "numiltl                       162570 non-null float64\n",
      "purpose                       162570 non-null object\n",
      "ficorangehigh                 162570 non-null float64\n",
      "totcollamt                    162570 non-null float64\n",
      "allutil                       0 non-null float64\n",
      "installment                   162570 non-null float64\n",
      "addrstate                     162570 non-null object\n",
      "mosinrcntrevtlop              162570 non-null float64\n",
      "dtijoint                      0 non-null float64\n",
      "numtl90gdpd24m                162570 non-null float64\n",
      "memberid                      0 non-null float64\n",
      "inqlast6mths                  162570 non-null float64\n",
      "numactvbctl                   162570 non-null float64\n",
      "subgrade                      162570 non-null object\n",
      "openil24m                     0 non-null float64\n",
      "emptitle                      151942 non-null object\n",
      "inqlast12m                    0 non-null float64\n",
      "annualincjoint                0 non-null float64\n",
      "totcurbal                     162570 non-null float64\n",
      "annualinc                     162570 non-null float64\n",
      "openacc                       162570 non-null float64\n",
      "mthssincerecentbcdlq          43654 non-null float64\n",
      "applicationtype               162570 non-null object\n",
      "totalacc                      162570 non-null float64\n",
      "initialliststatus             162570 non-null object\n",
      "collections12mthsexmed        162570 non-null float64\n",
      "fundedamnt                    162570 non-null float64\n",
      "totalcutl                     0 non-null float64\n",
      "totalrevhilim                 162570 non-null float64\n",
      "mthssincercntil               0 non-null float64\n",
      "dti                           162570 non-null float64\n",
      "numrevtlbalgt0                162570 non-null float64\n",
      "numoprevtl                    162570 non-null float64\n",
      "openrv24m                     0 non-null float64\n",
      "numtl30dpd                    162570 non-null float64\n",
      "delinqamnt                    162570 non-null float64\n",
      "numactvrevtl                  162570 non-null float64\n",
      "numbcsats                     162570 non-null float64\n",
      "numsats                       162570 non-null float64\n",
      "bcopentobuy                   160811 non-null float64\n",
      "ficorangelow                  162570 non-null float64\n",
      "numacctsever120pd             162570 non-null float64\n",
      "chargeoffwithin12mths         162570 non-null float64\n",
      "pubrec                        162570 non-null float64\n",
      "openacc6m                     0 non-null float64\n",
      "mthssincelastrecord           30778 non-null float64\n",
      "openrv12m                     0 non-null float64\n",
      "desc                          11289 non-null object\n",
      "mthssincerecentrevoldelinq    59295 non-null float64\n",
      "delinq2yrs                    162570 non-null float64\n",
      "inqfi                         0 non-null float64\n",
      "openil12m                     0 non-null float64\n",
      "mthssincerecentbc             160960 non-null float64\n",
      "numbctl                       162570 non-null float64\n",
      "earliestcrline                162570 non-null object\n",
      "ilutil                        0 non-null float64\n",
      "avgcurbal                     162565 non-null float64\n",
      "percentbcgt75                 160712 non-null float64\n",
      "term                          162570 non-null object\n",
      "issued                        162570 non-null object\n",
      "loanstatus                    162570 non-null object\n",
      "dtypes: float64(76), object(19)\n",
      "memory usage: 119.1+ MB\n"
     ]
    }
   ],
   "source": [
    "df.info()"
   ]
  },
  {
   "cell_type": "code",
   "execution_count": 13,
   "metadata": {},
   "outputs": [
    {
     "data": {
      "text/html": [
       "<div>\n",
       "<style>\n",
       "    .dataframe thead tr:only-child th {\n",
       "        text-align: right;\n",
       "    }\n",
       "\n",
       "    .dataframe thead th {\n",
       "        text-align: left;\n",
       "    }\n",
       "\n",
       "    .dataframe tbody tr th {\n",
       "        vertical-align: top;\n",
       "    }\n",
       "</style>\n",
       "<table border=\"1\" class=\"dataframe\">\n",
       "  <thead>\n",
       "    <tr style=\"text-align: right;\">\n",
       "      <th></th>\n",
       "      <th>totalbclimit</th>\n",
       "      <th>loanamnt</th>\n",
       "      <th>numtloppast12m</th>\n",
       "      <th>pubrecbankruptcies</th>\n",
       "      <th>taxliens</th>\n",
       "      <th>totalilhighcreditlimit</th>\n",
       "      <th>verificationstatusjoint</th>\n",
       "      <th>pcttlnvrdlq</th>\n",
       "      <th>mosinrcnttl</th>\n",
       "      <th>accnowdelinq</th>\n",
       "      <th>...</th>\n",
       "      <th>openrv12m</th>\n",
       "      <th>mthssincerecentrevoldelinq</th>\n",
       "      <th>delinq2yrs</th>\n",
       "      <th>inqfi</th>\n",
       "      <th>openil12m</th>\n",
       "      <th>mthssincerecentbc</th>\n",
       "      <th>numbctl</th>\n",
       "      <th>ilutil</th>\n",
       "      <th>avgcurbal</th>\n",
       "      <th>percentbcgt75</th>\n",
       "    </tr>\n",
       "  </thead>\n",
       "  <tbody>\n",
       "    <tr>\n",
       "      <th>count</th>\n",
       "      <td>162570.000000</td>\n",
       "      <td>162570.000000</td>\n",
       "      <td>162570.000000</td>\n",
       "      <td>162570.000000</td>\n",
       "      <td>162570.000000</td>\n",
       "      <td>1.625700e+05</td>\n",
       "      <td>0.0</td>\n",
       "      <td>162570.000000</td>\n",
       "      <td>162570.000000</td>\n",
       "      <td>162570.000000</td>\n",
       "      <td>...</td>\n",
       "      <td>0.0</td>\n",
       "      <td>59295.000000</td>\n",
       "      <td>162570.000000</td>\n",
       "      <td>0.0</td>\n",
       "      <td>0.0</td>\n",
       "      <td>160960.000000</td>\n",
       "      <td>162570.000000</td>\n",
       "      <td>0.0</td>\n",
       "      <td>162565.000000</td>\n",
       "      <td>160712.000000</td>\n",
       "    </tr>\n",
       "    <tr>\n",
       "      <th>mean</th>\n",
       "      <td>19115.064877</td>\n",
       "      <td>12585.598511</td>\n",
       "      <td>2.014886</td>\n",
       "      <td>0.146989</td>\n",
       "      <td>0.058892</td>\n",
       "      <td>3.779097e+04</td>\n",
       "      <td>NaN</td>\n",
       "      <td>93.952755</td>\n",
       "      <td>7.989112</td>\n",
       "      <td>0.005561</td>\n",
       "      <td>...</td>\n",
       "      <td>NaN</td>\n",
       "      <td>35.659685</td>\n",
       "      <td>0.349419</td>\n",
       "      <td>NaN</td>\n",
       "      <td>NaN</td>\n",
       "      <td>23.949105</td>\n",
       "      <td>8.434238</td>\n",
       "      <td>NaN</td>\n",
       "      <td>12446.124627</td>\n",
       "      <td>48.889211</td>\n",
       "    </tr>\n",
       "    <tr>\n",
       "      <th>std</th>\n",
       "      <td>20173.434138</td>\n",
       "      <td>7843.017519</td>\n",
       "      <td>1.613158</td>\n",
       "      <td>0.392177</td>\n",
       "      <td>0.438718</td>\n",
       "      <td>4.081113e+04</td>\n",
       "      <td>NaN</td>\n",
       "      <td>8.778486</td>\n",
       "      <td>8.807354</td>\n",
       "      <td>0.080174</td>\n",
       "      <td>...</td>\n",
       "      <td>NaN</td>\n",
       "      <td>22.267571</td>\n",
       "      <td>0.916013</td>\n",
       "      <td>NaN</td>\n",
       "      <td>NaN</td>\n",
       "      <td>30.064351</td>\n",
       "      <td>4.854879</td>\n",
       "      <td>NaN</td>\n",
       "      <td>15844.127703</td>\n",
       "      <td>35.218986</td>\n",
       "    </tr>\n",
       "    <tr>\n",
       "      <th>min</th>\n",
       "      <td>0.000000</td>\n",
       "      <td>1000.000000</td>\n",
       "      <td>0.000000</td>\n",
       "      <td>0.000000</td>\n",
       "      <td>0.000000</td>\n",
       "      <td>0.000000e+00</td>\n",
       "      <td>NaN</td>\n",
       "      <td>16.700000</td>\n",
       "      <td>0.000000</td>\n",
       "      <td>0.000000</td>\n",
       "      <td>...</td>\n",
       "      <td>NaN</td>\n",
       "      <td>0.000000</td>\n",
       "      <td>0.000000</td>\n",
       "      <td>NaN</td>\n",
       "      <td>NaN</td>\n",
       "      <td>0.000000</td>\n",
       "      <td>0.000000</td>\n",
       "      <td>NaN</td>\n",
       "      <td>0.000000</td>\n",
       "      <td>0.000000</td>\n",
       "    </tr>\n",
       "    <tr>\n",
       "      <th>25%</th>\n",
       "      <td>6300.000000</td>\n",
       "      <td>6800.000000</td>\n",
       "      <td>1.000000</td>\n",
       "      <td>0.000000</td>\n",
       "      <td>0.000000</td>\n",
       "      <td>1.193600e+04</td>\n",
       "      <td>NaN</td>\n",
       "      <td>90.900000</td>\n",
       "      <td>3.000000</td>\n",
       "      <td>0.000000</td>\n",
       "      <td>...</td>\n",
       "      <td>NaN</td>\n",
       "      <td>17.000000</td>\n",
       "      <td>0.000000</td>\n",
       "      <td>NaN</td>\n",
       "      <td>NaN</td>\n",
       "      <td>6.000000</td>\n",
       "      <td>5.000000</td>\n",
       "      <td>NaN</td>\n",
       "      <td>2737.000000</td>\n",
       "      <td>20.000000</td>\n",
       "    </tr>\n",
       "    <tr>\n",
       "      <th>50%</th>\n",
       "      <td>12700.000000</td>\n",
       "      <td>10000.000000</td>\n",
       "      <td>2.000000</td>\n",
       "      <td>0.000000</td>\n",
       "      <td>0.000000</td>\n",
       "      <td>2.800200e+04</td>\n",
       "      <td>NaN</td>\n",
       "      <td>97.400000</td>\n",
       "      <td>6.000000</td>\n",
       "      <td>0.000000</td>\n",
       "      <td>...</td>\n",
       "      <td>NaN</td>\n",
       "      <td>33.000000</td>\n",
       "      <td>0.000000</td>\n",
       "      <td>NaN</td>\n",
       "      <td>NaN</td>\n",
       "      <td>13.000000</td>\n",
       "      <td>8.000000</td>\n",
       "      <td>NaN</td>\n",
       "      <td>6263.000000</td>\n",
       "      <td>50.000000</td>\n",
       "    </tr>\n",
       "    <tr>\n",
       "      <th>75%</th>\n",
       "      <td>24700.000000</td>\n",
       "      <td>16200.000000</td>\n",
       "      <td>3.000000</td>\n",
       "      <td>0.000000</td>\n",
       "      <td>0.000000</td>\n",
       "      <td>5.071475e+04</td>\n",
       "      <td>NaN</td>\n",
       "      <td>100.000000</td>\n",
       "      <td>10.000000</td>\n",
       "      <td>0.000000</td>\n",
       "      <td>...</td>\n",
       "      <td>NaN</td>\n",
       "      <td>53.000000</td>\n",
       "      <td>0.000000</td>\n",
       "      <td>NaN</td>\n",
       "      <td>NaN</td>\n",
       "      <td>29.000000</td>\n",
       "      <td>11.000000</td>\n",
       "      <td>NaN</td>\n",
       "      <td>17151.000000</td>\n",
       "      <td>75.000000</td>\n",
       "    </tr>\n",
       "    <tr>\n",
       "      <th>max</th>\n",
       "      <td>760000.000000</td>\n",
       "      <td>35000.000000</td>\n",
       "      <td>26.000000</td>\n",
       "      <td>12.000000</td>\n",
       "      <td>63.000000</td>\n",
       "      <td>1.241783e+06</td>\n",
       "      <td>NaN</td>\n",
       "      <td>100.000000</td>\n",
       "      <td>226.000000</td>\n",
       "      <td>4.000000</td>\n",
       "      <td>...</td>\n",
       "      <td>NaN</td>\n",
       "      <td>180.000000</td>\n",
       "      <td>22.000000</td>\n",
       "      <td>NaN</td>\n",
       "      <td>NaN</td>\n",
       "      <td>616.000000</td>\n",
       "      <td>61.000000</td>\n",
       "      <td>NaN</td>\n",
       "      <td>463945.000000</td>\n",
       "      <td>100.000000</td>\n",
       "    </tr>\n",
       "  </tbody>\n",
       "</table>\n",
       "<p>8 rows × 76 columns</p>\n",
       "</div>"
      ],
      "text/plain": [
       "        totalbclimit       loanamnt  numtloppast12m  pubrecbankruptcies  \\\n",
       "count  162570.000000  162570.000000   162570.000000       162570.000000   \n",
       "mean    19115.064877   12585.598511        2.014886            0.146989   \n",
       "std     20173.434138    7843.017519        1.613158            0.392177   \n",
       "min         0.000000    1000.000000        0.000000            0.000000   \n",
       "25%      6300.000000    6800.000000        1.000000            0.000000   \n",
       "50%     12700.000000   10000.000000        2.000000            0.000000   \n",
       "75%     24700.000000   16200.000000        3.000000            0.000000   \n",
       "max    760000.000000   35000.000000       26.000000           12.000000   \n",
       "\n",
       "            taxliens  totalilhighcreditlimit  verificationstatusjoint  \\\n",
       "count  162570.000000            1.625700e+05                      0.0   \n",
       "mean        0.058892            3.779097e+04                      NaN   \n",
       "std         0.438718            4.081113e+04                      NaN   \n",
       "min         0.000000            0.000000e+00                      NaN   \n",
       "25%         0.000000            1.193600e+04                      NaN   \n",
       "50%         0.000000            2.800200e+04                      NaN   \n",
       "75%         0.000000            5.071475e+04                      NaN   \n",
       "max        63.000000            1.241783e+06                      NaN   \n",
       "\n",
       "         pcttlnvrdlq    mosinrcnttl   accnowdelinq      ...        openrv12m  \\\n",
       "count  162570.000000  162570.000000  162570.000000      ...              0.0   \n",
       "mean       93.952755       7.989112       0.005561      ...              NaN   \n",
       "std         8.778486       8.807354       0.080174      ...              NaN   \n",
       "min        16.700000       0.000000       0.000000      ...              NaN   \n",
       "25%        90.900000       3.000000       0.000000      ...              NaN   \n",
       "50%        97.400000       6.000000       0.000000      ...              NaN   \n",
       "75%       100.000000      10.000000       0.000000      ...              NaN   \n",
       "max       100.000000     226.000000       4.000000      ...              NaN   \n",
       "\n",
       "       mthssincerecentrevoldelinq     delinq2yrs  inqfi  openil12m  \\\n",
       "count                59295.000000  162570.000000    0.0        0.0   \n",
       "mean                    35.659685       0.349419    NaN        NaN   \n",
       "std                     22.267571       0.916013    NaN        NaN   \n",
       "min                      0.000000       0.000000    NaN        NaN   \n",
       "25%                     17.000000       0.000000    NaN        NaN   \n",
       "50%                     33.000000       0.000000    NaN        NaN   \n",
       "75%                     53.000000       0.000000    NaN        NaN   \n",
       "max                    180.000000      22.000000    NaN        NaN   \n",
       "\n",
       "       mthssincerecentbc        numbctl  ilutil      avgcurbal  percentbcgt75  \n",
       "count      160960.000000  162570.000000     0.0  162565.000000  160712.000000  \n",
       "mean           23.949105       8.434238     NaN   12446.124627      48.889211  \n",
       "std            30.064351       4.854879     NaN   15844.127703      35.218986  \n",
       "min             0.000000       0.000000     NaN       0.000000       0.000000  \n",
       "25%             6.000000       5.000000     NaN    2737.000000      20.000000  \n",
       "50%            13.000000       8.000000     NaN    6263.000000      50.000000  \n",
       "75%            29.000000      11.000000     NaN   17151.000000      75.000000  \n",
       "max           616.000000      61.000000     NaN  463945.000000     100.000000  \n",
       "\n",
       "[8 rows x 76 columns]"
      ]
     },
     "execution_count": 13,
     "metadata": {},
     "output_type": "execute_result"
    }
   ],
   "source": [
    "df.describe()"
   ]
  },
  {
   "cell_type": "markdown",
   "metadata": {},
   "source": [
    "#### Find all_null_feature, num_feature, ob_feature"
   ]
  },
  {
   "cell_type": "code",
   "execution_count": 14,
   "metadata": {},
   "outputs": [
    {
     "name": "stdout",
     "output_type": "stream",
     "text": [
      "verificationstatusjoint 162570\n",
      "bcutil 1888\n",
      "mthssincerecentinq 15414\n",
      "totalbalil 162570\n",
      "maxbalbc 162570\n",
      "numtl120dpd2m 6461\n",
      "mthssincelastdelinq 79535\n",
      "mthssincelastmajorderog 115018\n",
      "revolutil 77\n",
      "openil6m 162570\n",
      "mosinoldilacct 5931\n",
      "allutil 162570\n",
      "dtijoint 162570\n",
      "memberid 162570\n",
      "openil24m 162570\n",
      "emptitle 10628\n",
      "inqlast12m 162570\n",
      "annualincjoint 162570\n",
      "mthssincerecentbcdlq 118916\n",
      "totalcutl 162570\n",
      "mthssincercntil 162570\n",
      "openrv24m 162570\n",
      "bcopentobuy 1759\n",
      "openacc6m 162570\n",
      "mthssincelastrecord 131792\n",
      "openrv12m 162570\n",
      "desc 151281\n",
      "mthssincerecentrevoldelinq 103275\n",
      "inqfi 162570\n",
      "openil12m 162570\n",
      "mthssincerecentbc 1610\n",
      "ilutil 162570\n",
      "avgcurbal 5\n",
      "percentbcgt75 1858\n",
      "34\n"
     ]
    }
   ],
   "source": [
    "null_count = df.isnull().sum()\n",
    "cnt = 0\n",
    "for i in range(0, df.shape[1]):\n",
    "    if null_count[i] != 0:\n",
    "        print (df.columns[i], null_count[i])\n",
    "        cnt += 1\n",
    "print (cnt)"
   ]
  },
  {
   "cell_type": "code",
   "execution_count": 15,
   "metadata": {
    "collapsed": true
   },
   "outputs": [],
   "source": [
    "cols = df.columns.values\n",
    "all_null_feature = []\n",
    "num_feature=[]\n",
    "ob_feature=[]\n",
    "\n",
    "for col in cols:\n",
    "    if df[col].isnull().sum() == df.shape[0]:\n",
    "        all_null_feature.append(col)\n",
    "    else: #全部为null的feature不予考虑\n",
    "        if df[col].dtype == 'object':\n",
    "            ob_feature.append(col)\n",
    "        else:\n",
    "            num_feature.append(col)"
   ]
  },
  {
   "cell_type": "code",
   "execution_count": 16,
   "metadata": {},
   "outputs": [
    {
     "name": "stdout",
     "output_type": "stream",
     "text": [
      "58 19\n",
      "18\n"
     ]
    }
   ],
   "source": [
    "print (len(num_feature), len(ob_feature))\n",
    "print (len(all_null_feature))"
   ]
  },
  {
   "cell_type": "markdown",
   "metadata": {},
   "source": [
    "#### 删除空列"
   ]
  },
  {
   "cell_type": "code",
   "execution_count": 17,
   "metadata": {},
   "outputs": [
    {
     "data": {
      "text/plain": [
       "['verificationstatusjoint',\n",
       " 'totalbalil',\n",
       " 'maxbalbc',\n",
       " 'openil6m',\n",
       " 'allutil',\n",
       " 'dtijoint',\n",
       " 'memberid',\n",
       " 'openil24m',\n",
       " 'inqlast12m',\n",
       " 'annualincjoint',\n",
       " 'totalcutl',\n",
       " 'mthssincercntil',\n",
       " 'openrv24m',\n",
       " 'openacc6m',\n",
       " 'openrv12m',\n",
       " 'inqfi',\n",
       " 'openil12m',\n",
       " 'ilutil']"
      ]
     },
     "execution_count": 17,
     "metadata": {},
     "output_type": "execute_result"
    }
   ],
   "source": [
    "all_null_feature"
   ]
  },
  {
   "cell_type": "code",
   "execution_count": null,
   "metadata": {},
   "outputs": [],
   "source": [
    "#df = df.drop(all_null_feature, axis = 1)"
   ]
  },
  {
   "cell_type": "code",
   "execution_count": null,
   "metadata": {},
   "outputs": [],
   "source": [
    "#df.shape"
   ]
  },
  {
   "cell_type": "code",
   "execution_count": null,
   "metadata": {
    "collapsed": true
   },
   "outputs": [],
   "source": [
    "#df3 = df"
   ]
  },
  {
   "cell_type": "markdown",
   "metadata": {},
   "source": [
    "#### 判断ob_feature是否真为object"
   ]
  },
  {
   "cell_type": "code",
   "execution_count": 18,
   "metadata": {},
   "outputs": [
    {
     "data": {
      "text/plain": [
       "['homeownership',\n",
       " 'id',\n",
       " 'grade',\n",
       " 'intrate',\n",
       " 'emplength',\n",
       " 'verificationstatus',\n",
       " 'revolutil',\n",
       " 'zipcode',\n",
       " 'purpose',\n",
       " 'addrstate',\n",
       " 'subgrade',\n",
       " 'emptitle',\n",
       " 'applicationtype',\n",
       " 'initialliststatus',\n",
       " 'desc',\n",
       " 'earliestcrline',\n",
       " 'term',\n",
       " 'issued',\n",
       " 'loanstatus']"
      ]
     },
     "execution_count": 18,
     "metadata": {},
     "output_type": "execute_result"
    }
   ],
   "source": [
    "ob_feature"
   ]
  },
  {
   "cell_type": "code",
   "execution_count": 19,
   "metadata": {},
   "outputs": [
    {
     "name": "stdout",
     "output_type": "stream",
     "text": [
      "-------- homeownership ----------\n",
      "0\n",
      "MORTGAGE    76326\n",
      "RENT        69750\n",
      "OWN         16493\n",
      "ANY             1\n",
      "Name: homeownership, dtype: int64\n",
      "-------- id ----------\n",
      "0\n",
      "19136511    1\n",
      "13457729    1\n",
      "31467220    1\n",
      "30234957    1\n",
      "30234956    1\n",
      "23943498    1\n",
      "23943497    1\n",
      "12409160    1\n",
      "13457734    1\n",
      "31807808    1\n",
      "13457749    1\n",
      "33380670    1\n",
      "12409147    1\n",
      "12409146    1\n",
      "30234937    1\n",
      "21059893    1\n",
      "11884851    1\n",
      "33380658    1\n",
      "10995242    1\n",
      "23943510    1\n",
      "33380655    1\n",
      "16341350    1\n",
      "27250266    1\n",
      "12409203    1\n",
      "16341361    1\n",
      "13457776    1\n",
      "17914222    1\n",
      "12409193    1\n",
      "17914215    1\n",
      "34953572    1\n",
      "           ..\n",
      "17212602    1\n",
      "31106231    1\n",
      "11445480    1\n",
      "28222646    1\n",
      "34514101    1\n",
      "11657190    1\n",
      "15570881    1\n",
      "13018287    1\n",
      "12756142    1\n",
      "15570882    1\n",
      "31106246    1\n",
      "17212616    1\n",
      "10086292    1\n",
      "11707598    1\n",
      "13018341    1\n",
      "13018340    1\n",
      "21931235    1\n",
      "21931234    1\n",
      "36611294    1\n",
      "17212635    1\n",
      "36611290    1\n",
      "31106265    1\n",
      "36611285    1\n",
      "34514132    1\n",
      "29795539    1\n",
      "15280913    1\n",
      "36611281    1\n",
      "28222672    1\n",
      "11445455    1\n",
      "20709376    1\n",
      "Name: id, Length: 162570, dtype: int64\n",
      "-------- grade ----------\n",
      "0\n",
      "B    53460\n",
      "C    44042\n",
      "A    35333\n",
      "D    20510\n",
      "E     7066\n",
      "F     1980\n",
      "G      179\n",
      "Name: grade, dtype: int64\n",
      "-------- intrate ----------\n",
      "0\n",
      " 12.99%    9839\n",
      " 10.99%    9539\n",
      " 12.49%    8306\n",
      " 13.98%    6085\n",
      " 11.67%    6026\n",
      " 11.99%    5592\n",
      " 13.35%    5449\n",
      " 15.61%    5428\n",
      " 10.15%    5377\n",
      "  6.03%    5146\n",
      "  8.39%    5105\n",
      "  9.17%    4977\n",
      " 14.99%    4890\n",
      "  7.69%    4875\n",
      " 14.49%    4230\n",
      "  6.49%    4026\n",
      " 17.57%    3474\n",
      "  9.67%    3384\n",
      "  8.90%    3364\n",
      "  7.12%    3055\n",
      " 16.99%    2956\n",
      "  7.90%    2885\n",
      " 16.29%    2727\n",
      " 14.16%    2208\n",
      " 13.65%    2153\n",
      "  7.62%    1932\n",
      " 14.64%    1910\n",
      " 15.31%    1664\n",
      "  8.19%    1620\n",
      " 18.24%    1512\n",
      "           ... \n",
      " 16.49%     536\n",
      " 24.50%     488\n",
      " 17.14%     409\n",
      " 24.08%     356\n",
      " 17.86%     353\n",
      " 20.49%     327\n",
      " 18.54%     283\n",
      " 24.99%     261\n",
      " 21.99%     261\n",
      " 19.22%     257\n",
      " 21.18%     241\n",
      " 22.45%     216\n",
      " 19.97%     211\n",
      " 19.24%     191\n",
      " 20.50%     182\n",
      " 25.57%     148\n",
      " 21.48%     121\n",
      " 22.40%     112\n",
      " 23.40%      88\n",
      " 25.80%      87\n",
      " 23.70%      81\n",
      " 22.90%      69\n",
      " 25.83%      49\n",
      " 22.99%      43\n",
      "  6.00%      35\n",
      " 25.89%      26\n",
      " 23.99%      24\n",
      " 25.99%      13\n",
      " 26.06%       3\n",
      " 19.20%       1\n",
      "Name: intrate, Length: 88, dtype: int64\n",
      "-------- emplength ----------\n",
      "0\n",
      "10+ years    51146\n",
      "2 years      14669\n",
      "3 years      13106\n",
      "< 1 year     13056\n",
      "1 year       10571\n",
      "4 years       9670\n",
      "n/a           9646\n",
      "5 years       9148\n",
      "7 years       8946\n",
      "6 years       8205\n",
      "8 years       8131\n",
      "9 years       6276\n",
      "Name: emplength, dtype: int64\n",
      "-------- verificationstatus ----------\n",
      "0\n",
      "Not Verified       60827\n",
      "Source Verified    59212\n",
      "Verified           42531\n",
      "Name: verificationstatus, dtype: int64\n",
      "-------- revolutil ----------\n",
      "77\n",
      "0%        431\n",
      "59%       385\n",
      "48%       375\n",
      "58%       374\n",
      "53%       373\n",
      "46%       357\n",
      "50%       355\n",
      "52%       351\n",
      "54%       349\n",
      "55%       348\n",
      "57%       344\n",
      "47%       333\n",
      "62%       331\n",
      "51%       330\n",
      "49%       328\n",
      "61%       327\n",
      "40%       322\n",
      "43%       322\n",
      "64%       321\n",
      "41%       317\n",
      "65%       317\n",
      "44%       316\n",
      "42%       316\n",
      "60%       314\n",
      "67%       313\n",
      "56%       311\n",
      "45%       307\n",
      "37%       305\n",
      "66%       304\n",
      "63%       295\n",
      "         ... \n",
      "107.8%      1\n",
      "180.3%      1\n",
      "150.7%      1\n",
      "127.4%      1\n",
      "108.4%      1\n",
      "892.3%      1\n",
      "104.5%      1\n",
      "115.1%      1\n",
      "117.2%      1\n",
      "119.4%      1\n",
      "110.8%      1\n",
      "108.2%      1\n",
      "106.8%      1\n",
      "106.7%      1\n",
      "109.1%      1\n",
      "130.1%      1\n",
      "102.5%      1\n",
      "146.1%      1\n",
      "125.3%      1\n",
      "137.8%      1\n",
      "113.4%      1\n",
      "109.3%      1\n",
      "106%        1\n",
      "111.5%      1\n",
      "109.9%      1\n",
      "105.8%      1\n",
      "152.7%      1\n",
      "108.1%      1\n",
      "119.7%      1\n",
      "108.3%      1\n",
      "Name: revolutil, Length: 1126, dtype: int64\n",
      "-------- zipcode ----------\n",
      "0\n",
      "112xx    1818\n",
      "750xx    1772\n",
      "945xx    1749\n",
      "606xx    1707\n",
      "100xx    1463\n",
      "300xx    1443\n",
      "331xx    1415\n",
      "900xx    1399\n",
      "070xx    1366\n",
      "770xx    1353\n",
      "917xx    1235\n",
      "104xx    1232\n",
      "891xx    1212\n",
      "330xx    1182\n",
      "117xx    1134\n",
      "921xx    1082\n",
      "852xx    1076\n",
      "913xx     996\n",
      "926xx     960\n",
      "925xx     910\n",
      "334xx     901\n",
      "113xx     899\n",
      "600xx     890\n",
      "481xx     866\n",
      "601xx     853\n",
      "604xx     830\n",
      "956xx     819\n",
      "941xx     815\n",
      "080xx     792\n",
      "928xx     783\n",
      "         ... \n",
      "963xx       4\n",
      "094xx       4\n",
      "884xx       3\n",
      "091xx       3\n",
      "414xx       3\n",
      "834xx       2\n",
      "098xx       2\n",
      "681xx       1\n",
      "043xx       1\n",
      "680xx       1\n",
      "500xx       1\n",
      "942xx       1\n",
      "527xx       1\n",
      "429xx       1\n",
      "510xx       1\n",
      "685xx       1\n",
      "938xx       1\n",
      "832xx       1\n",
      "511xx       1\n",
      "821xx       1\n",
      "008xx       1\n",
      "523xx       1\n",
      "092xx       1\n",
      "663xx       1\n",
      "682xx       1\n",
      "836xx       1\n",
      "854xx       1\n",
      "901xx       1\n",
      "833xx       1\n",
      "587xx       1\n",
      "Name: zipcode, Length: 854, dtype: int64\n",
      "-------- purpose ----------\n",
      "0\n",
      "debt_consolidation    94822\n",
      "credit_card           40100\n",
      "home_improvement       8654\n",
      "other                  8252\n",
      "major_purchase         2888\n",
      "medical                1885\n",
      "small_business         1634\n",
      "car                    1516\n",
      "moving                 1133\n",
      "vacation               1065\n",
      "house                   511\n",
      "renewable_energy        102\n",
      "wedding                   8\n",
      "Name: purpose, dtype: int64\n",
      "-------- addrstate ----------\n",
      "0\n",
      "CA    24339\n",
      "NY    14079\n",
      "TX    13388\n",
      "FL    11163\n",
      "IL     6701\n",
      "NJ     6017\n",
      "PA     5504\n",
      "OH     5248\n",
      "GA     5169\n",
      "VA     4520\n",
      "MI     4308\n",
      "NC     4233\n",
      "AZ     3889\n",
      "MD     3650\n",
      "WA     3562\n",
      "MA     3443\n",
      "CO     3393\n",
      "MN     2949\n",
      "IN     2728\n",
      "TN     2578\n",
      "MO     2535\n",
      "CT     2413\n",
      "NV     2354\n",
      "WI     2153\n",
      "OR     2101\n",
      "SC     1971\n",
      "AL     1935\n",
      "LA     1856\n",
      "KY     1520\n",
      "KS     1408\n",
      "OK     1393\n",
      "AR     1243\n",
      "UT     1110\n",
      "NM      971\n",
      "HI      804\n",
      "WV      797\n",
      "NH      770\n",
      "MS      754\n",
      "RI      697\n",
      "MT      491\n",
      "DC      483\n",
      "AK      417\n",
      "DE      414\n",
      "WY      383\n",
      "VT      373\n",
      "SD      360\n",
      "IA        1\n",
      "ME        1\n",
      "ID        1\n",
      "Name: addrstate, dtype: int64\n",
      "-------- subgrade ----------\n",
      "0\n",
      "B3    11316\n",
      "B5    11244\n",
      "B4    11116\n",
      "C1    10310\n",
      "B2    10254\n",
      "A5    10093\n",
      "C2    10022\n",
      "B1     9530\n",
      "A4     9017\n",
      "C3     8993\n",
      "C4     7571\n",
      "C5     7146\n",
      "A3     5842\n",
      "D1     5572\n",
      "A2     5234\n",
      "A1     5147\n",
      "D2     4777\n",
      "D3     4174\n",
      "D4     3364\n",
      "D5     2623\n",
      "E1     2224\n",
      "E2     1661\n",
      "E3     1234\n",
      "E5      983\n",
      "E4      964\n",
      "F1      703\n",
      "F3      488\n",
      "F2      380\n",
      "F4      261\n",
      "F5      148\n",
      "G1       88\n",
      "G2       49\n",
      "G3       26\n",
      "G4       13\n",
      "G5        3\n",
      "Name: subgrade, dtype: int64\n",
      "-------- emptitle ----------\n",
      "10628\n",
      "Teacher                                     3130\n",
      "Manager                                     2531\n",
      "Registered Nurse                            1362\n",
      "RN                                          1235\n",
      "Owner                                       1104\n",
      "Supervisor                                  1066\n",
      "Sales                                        986\n",
      "Project Manager                              888\n",
      "Office Manager                               835\n",
      "Driver                                       798\n",
      "manager                                      773\n",
      "teacher                                      728\n",
      "General Manager                              677\n",
      "Director                                     664\n",
      "owner                                        655\n",
      "President                                    623\n",
      "driver                                       594\n",
      "Engineer                                     552\n",
      "Administrative Assistant                     519\n",
      "Vice President                               510\n",
      "Attorney                                     506\n",
      "Accountant                                   468\n",
      "sales                                        446\n",
      "Operations Manager                           441\n",
      "supervisor                                   435\n",
      "Sales Manager                                398\n",
      "Account Manager                              378\n",
      "truck driver                                 370\n",
      "Executive Assistant                          363\n",
      "Police Officer                               360\n",
      "                                            ... \n",
      "assistant dining room manager                  1\n",
      "Regional Nurse Consultant                      1\n",
      "Traffic Enforcement Agent                      1\n",
      "DATA ENTRY/DISPATCHER                          1\n",
      "Field Technology Specialist                    1\n",
      "Director Communication and Security            1\n",
      "Medical billet                                 1\n",
      "Business Intelligence Analyst, RTB             1\n",
      "SVP Commercial Banking                         1\n",
      "Account Order Coordinator                      1\n",
      "Sr. Director of Global Operational Risk        1\n",
      "Clerk-Typist 3                                 1\n",
      "Manager of Global Support Services             1\n",
      "Child Nutrition Site Lead                      1\n",
      "fabrication forman                             1\n",
      "Associate - Investment Banking Division        1\n",
      "Sr. Project Management Specialist              1\n",
      "house improvement                              1\n",
      "Administrative Aid to Faculty                  1\n",
      "model-maker                                    1\n",
      "accounting/admin                               1\n",
      "Migrant Recruiter                              1\n",
      "BILINGUAL TEACHER                              1\n",
      "Licensed Real Estate Broker                    1\n",
      "Pump Operator                                  1\n",
      "Real Estate Appraiser                          1\n",
      "Director of Finance & Strategic Planning       1\n",
      "activity director                              1\n",
      "hr apecialist                                  1\n",
      "Warranty MGR                                   1\n",
      "Name: emptitle, Length: 54764, dtype: int64\n",
      "-------- applicationtype ----------\n",
      "0\n",
      "INDIVIDUAL    162570\n",
      "Name: applicationtype, dtype: int64\n",
      "-------- initialliststatus ----------\n",
      "0\n",
      "f    85094\n",
      "w    77476\n",
      "Name: initialliststatus, dtype: int64\n",
      "-------- desc ----------\n",
      "151281\n",
      "  Borrower added on 02/19/14 > Debt consolidation<br>                                                                                                                                                                                                                                                                                                                                                                                                                                                                                                                                                                                                                                                                                                                                                                                         7\n",
      "  Borrower added on 03/10/14 > Debt consolidation<br>                                                                                                                                                                                                                                                                                                                                                                                                                                                                                                                                                                                                                                                                                                                                                                                         7\n",
      "  Borrower added on 03/17/14 > Debt consolidation<br>                                                                                                                                                                                                                                                                                                                                                                                                                                                                                                                                                                                                                                                                                                                                                                                         7\n",
      "  Borrower added on 03/05/14 > debt consolidation<br>                                                                                                                                                                                                                                                                                                                                                                                                                                                                                                                                                                                                                                                                                                                                                                                         6\n",
      "  Borrower added on 01/29/14 > Debt consolidation<br>                                                                                                                                                                                                                                                                                                                                                                                                                                                                                                                                                                                                                                                                                                                                                                                         6\n",
      "  Borrower added on 01/15/14 > Debt consolidation<br>                                                                                                                                                                                                                                                                                                                                                                                                                                                                                                                                                                                                                                                                                                                                                                                         5\n",
      "  Borrower added on 03/13/14 > Debt consolidation<br>                                                                                                                                                                                                                                                                                                                                                                                                                                                                                                                                                                                                                                                                                                                                                                                         5\n",
      "  Borrower added on 03/03/14 > Debt consolidation<br>                                                                                                                                                                                                                                                                                                                                                                                                                                                                                                                                                                                                                                                                                                                                                                                         5\n",
      "  Borrower added on 02/25/14 > Debt consolidation.<br>                                                                                                                                                                                                                                                                                                                                                                                                                                                                                                                                                                                                                                                                                                                                                                                        5\n",
      "  Borrower added on 01/22/14 > Debt consolidation<br>                                                                                                                                                                                                                                                                                                                                                                                                                                                                                                                                                                                                                                                                                                                                                                                         5\n",
      "  Borrower added on 02/24/14 > Debt Consolidation<br>                                                                                                                                                                                                                                                                                                                                                                                                                                                                                                                                                                                                                                                                                                                                                                                         5\n",
      "                                                                                                                                                                                                                                                                                                                                                                                                                                                                                                                                                                                                                                                                                                                                                                                                                                              4\n",
      "  Borrower added on 02/19/14 > Debt Consolidation<br>                                                                                                                                                                                                                                                                                                                                                                                                                                                                                                                                                                                                                                                                                                                                                                                         4\n",
      "  Borrower added on 01/27/14 > Debt consolidation<br>                                                                                                                                                                                                                                                                                                                                                                                                                                                                                                                                                                                                                                                                                                                                                                                         4\n",
      "  Borrower added on 01/29/14 > Debt consolidation.<br>                                                                                                                                                                                                                                                                                                                                                                                                                                                                                                                                                                                                                                                                                                                                                                                        4\n",
      "  Borrower added on 01/17/14 > Debt consolidation<br>                                                                                                                                                                                                                                                                                                                                                                                                                                                                                                                                                                                                                                                                                                                                                                                         4\n",
      "  Borrower added on 03/18/14 > Debt consolidation<br>                                                                                                                                                                                                                                                                                                                                                                                                                                                                                                                                                                                                                                                                                                                                                                                         4\n",
      "  Borrower added on 01/20/14 > Debt consolidation<br>                                                                                                                                                                                                                                                                                                                                                                                                                                                                                                                                                                                                                                                                                                                                                                                         4\n",
      "  Borrower added on 02/06/14 > debt consolidation<br>                                                                                                                                                                                                                                                                                                                                                                                                                                                                                                                                                                                                                                                                                                                                                                                         4\n",
      "  Borrower added on 03/05/14 > Debt consolidation<br>                                                                                                                                                                                                                                                                                                                                                                                                                                                                                                                                                                                                                                                                                                                                                                                         4\n",
      "  Borrower added on 01/23/14 > Debt consolidation<br>                                                                                                                                                                                                                                                                                                                                                                                                                                                                                                                                                                                                                                                                                                                                                                                         4\n",
      "  Borrower added on 01/19/14 > Debt consolidation<br>                                                                                                                                                                                                                                                                                                                                                                                                                                                                                                                                                                                                                                                                                                                                                                                         4\n",
      "  Borrower added on 02/06/14 > Debt consolidation<br>                                                                                                                                                                                                                                                                                                                                                                                                                                                                                                                                                                                                                                                                                                                                                                                         4\n",
      "  Borrower added on 01/03/14 > Debt consolidation<br>                                                                                                                                                                                                                                                                                                                                                                                                                                                                                                                                                                                                                                                                                                                                                                                         4\n",
      "  Borrower added on 02/27/14 > Debt consolidation<br>                                                                                                                                                                                                                                                                                                                                                                                                                                                                                                                                                                                                                                                                                                                                                                                         4\n",
      "  Borrower added on 03/14/14 > Debt consolidation.<br>                                                                                                                                                                                                                                                                                                                                                                                                                                                                                                                                                                                                                                                                                                                                                                                        3\n",
      "  Borrower added on 02/26/14 > Debt Consolidation<br>                                                                                                                                                                                                                                                                                                                                                                                                                                                                                                                                                                                                                                                                                                                                                                                         3\n",
      "  Borrower added on 02/11/14 > debt consolidation<br>                                                                                                                                                                                                                                                                                                                                                                                                                                                                                                                                                                                                                                                                                                                                                                                         3\n",
      "  Borrower added on 02/13/14 > Debt consolidation.<br>                                                                                                                                                                                                                                                                                                                                                                                                                                                                                                                                                                                                                                                                                                                                                                                        3\n",
      "  Borrower added on 01/22/14 > Debt Consolidation<br>                                                                                                                                                                                                                                                                                                                                                                                                                                                                                                                                                                                                                                                                                                                                                                                         3\n",
      "                                                                                                                                                                                                                                                                                                                                                                                                                                                                                                                                                                                                                                                                                                                                                                                                                                             ..\n",
      "  Borrower added on 02/19/14 > To consolidate my credit card payments<br>                                                                                                                                                                                                                                                                                                                                                                                                                                                                                                                                                                                                                                                                                                                                                                     1\n",
      "  Borrower added on 02/28/14 > The loan will be used to pay off credit cards<br>                                                                                                                                                                                                                                                                                                                                                                                                                                                                                                                                                                                                                                                                                                                                                              1\n",
      "  Borrower added on 01/24/14 > Dear Lender, <br>I was recently hit with an unforeseen medical expense (partly covered by insurance) which I intend to pay off using this loan. I have a stable credit, no mortgage, and a healthy salary so will be able to service this loan throughout its duration without any risk to you. <br>Thanks<br>                                                                                                                                                                                                                                                                                                                                                                                                                                                                                                 1\n",
      "  Borrower added on 02/25/14 > To pay off higher interest rate credit card and to consolidate debt<br>                                                                                                                                                                                                                                                                                                                                                                                                                                                                                                                                                                                                                                                                                                                                        1\n",
      "  Borrower added on 01/02/14 > Vacation and new windows<br>                                                                                                                                                                                                                                                                                                                                                                                                                                                                                                                                                                                                                                                                                                                                                                                   1\n",
      "  Borrower added on 01/23/14 > funds will be used to payoff high rate credit cards and to have only one place to send a payment.<br>                                                                                                                                                                                                                                                                                                                                                                                                                                                                                                                                                                                                                                                                                                          1\n",
      "  Borrower added on 02/13/14 > consolidate credit cards and home improvement for HVAC and insulation<br>                                                                                                                                                                                                                                                                                                                                                                                                                                                                                                                                                                                                                                                                                                                                      1\n",
      "  Borrower added on 01/31/14 > This loan is specifically for the purpose of refinancing Credit Cards with high interest rates.  The ultimate goal is to see the light at the end of the tunnel.<br>                                                                                                                                                                                                                                                                                                                                                                                                                                                                                                                                                                                                                                           1\n",
      "  Borrower added on 03/06/14 > Loan is to consolidate bills.  I am always on time paying my monthly bills.  Once this loan is granted, I will only have my monthly rent, utilities, phone, and this loan to pay.  I am full time employed with a strong, stable company.  My position is extremely secured for years to come.<br>                                                                                                                                                                                                                                                                                                                                                                                                                                                                                                             1\n",
      "  Borrower added on 03/05/14 > CONSOLIDATE BILLS<br>                                                                                                                                                                                                                                                                                                                                                                                                                                                                                                                                                                                                                                                                                                                                                                                          1\n",
      "  Borrower added on 01/07/14 > Credit card consolidation.  Want to be debt free in 2014.<br>                                                                                                                                                                                                                                                                                                                                                                                                                                                                                                                                                                                                                                                                                                                                                  1\n",
      "  Borrower added on 01/19/14 > I am looking for a loan to install impact windows in my home.  The window company offers financing at 22.9% interest.  The total cost of the project is $23,000 and I have $11,000 cash which I am using.  Therefore, I am only financing a little more than 50% of the project.<br>                                                                                                                                                                                                                                                                                                                                                                                                                                                                                                                           1\n",
      "  Borrower added on 01/21/14 > I would like to consolidate all my cc debit into one payment.<br><br>  Borrower added on 01/23/14 > Almost there!  Thank you for investing in me!  Here's to being cc debt free!!!!<br>                                                                                                                                                                                                                                                                                                                                                                                                                                                                                                                                                                                                                        1\n",
      "  Borrower added on 03/01/14 > consolidation<br>                                                                                                                                                                                                                                                                                                                                                                                                                                                                                                                                                                                                                                                                                                                                                                                              1\n",
      "  Borrower added on 03/04/14 > This is to consolidate my few loans I want to pay them off<br>                                                                                                                                                                                                                                                                                                                                                                                                                                                                                                                                                                                                                                                                                                                                                 1\n",
      "  Borrower added on 01/28/14 > Debt consildation to pay off my debt faster<br>                                                                                                                                                                                                                                                                                                                                                                                                                                                                                                                                                                                                                                                                                                                                                                1\n",
      "  Borrower added on 01/09/14 > to pay off high interest loans and credit cards<br>                                                                                                                                                                                                                                                                                                                                                                                                                                                                                                                                                                                                                                                                                                                                                            1\n",
      "  Borrower added on 02/16/14 > Payoff off 3 credit cards 1 Kohls bill and 1 Kay's bill<br>                                                                                                                                                                                                                                                                                                                                                                                                                                                                                                                                                                                                                                                                                                                                                    1\n",
      "  Borrower added on 01/19/14 > I am looking for supplementary financing to help replace my second floor bathroom addition- the structure of which was in poor condition.<br>                                                                                                                                                                                                                                                                                                                                                                                                                                                                                                                                                                                                                                                                  1\n",
      "  Borrower added on 01/22/14 > Looking to consolidate all credit cards.  1 payment and a final payment date is desirable.<br>                                                                                                                                                                                                                                                                                                                                                                                                                                                                                                                                                                                                                                                                                                                 1\n",
      "  Borrower added on 03/03/14 > I would like to consolidate my debts, right now all my debts equal aprox 550 dollars in payments by combining it all into one loan it reduces my monthly payments by half.<br><br>  Borrower added on 03/04/14 > I am very appreciative of the loan and plan to pay extra on the payment every month so I can pay it off in more than three years. Thank you for the opportunity.<br>                                                                                                                                                                                                                                                                                                                                                                                                                          1\n",
      "  Borrower added on 02/09/14 > The loan is to pay off a credit card that has a high rate. I want to pay off this card and believe that this is the best way to do so.<br>                                                                                                                                                                                                                                                                                                                                                                                                                                                                                                                                                                                                                                                                     1\n",
      "  Borrower added on 02/16/14 > To pay down my debt<br>                                                                                                                                                                                                                                                                                                                                                                                                                                                                                                                                                                                                                                                                                                                                                                                        1\n",
      "  Borrower added on 03/13/14 > I need a debt consolidation loan because I need to lower my monthly payments.<br>                                                                                                                                                                                                                                                                                                                                                                                                                                                                                                                                                                                                                                                                                                                              1\n",
      "  Borrower added on 02/07/14 > Payoff an existing 401K loan<br>                                                                                                                                                                                                                                                                                                                                                                                                                                                                                                                                                                                                                                                                                                                                                                               1\n",
      "  Borrower added on 03/02/14 > I owed $10600 dlls in credit cards and my minimun payment are the same of the payment you guys are giving me but with you I will end paying in 3 years or less and with them in several years just with the minimun peyment.Thank you<br><br>  Borrower added on 03/02/14 > I have a debt  of $10600 in credit cards , my minimum payments off all its almost the same amount of the monthy payment you guys  are offering me, and I will pay all in 3 years instead of several years with them , plus its most easier for me  just reduce all my payments to just one , thank you !!<br><br>  Borrower added on 03/03/14 > This is a good opportunity for me and my family to have more extra money and start saving and dont waste it paying those expensive interests with my credit card holders !!<br>    1\n",
      "  Borrower added on 02/20/14 > To pay high interest credit cards off.<br>                                                                                                                                                                                                                                                                                                                                                                                                                                                                                                                                                                                                                                                                                                                                                                     1\n",
      "  Borrower added on 03/12/14 > This loan is for purchase of a 2010 Nissan Frontier, independent owner.<br>The truck is in great condition, with 71,000 miles.<br>My current monthly expenses are as follows:<br>Rent/Utilities - $600<br>Mobile phone - $80<br>Insurance - $90<br>Gas - $150<br>Student loan payment - $700<br>                                                                                                                                                                                                                                                                                                                                                                                                                                                                                                               1\n",
      "  Borrower added on 03/15/14 > pay off 2 loan companys and 2 credit cards<br>                                                                                                                                                                                                                                                                                                                                                                                                                                                                                                                                                                                                                                                                                                                                                                 1\n",
      "  Borrower added on 02/04/14 > Pay off Credit Cards<br>                                                                                                                                                                                                                                                                                                                                                                                                                                                                                                                                                                                                                                                                                                                                                                                       1\n",
      "Name: desc, Length: 11030, dtype: int64\n",
      "-------- earliestcrline ----------\n",
      "0\n",
      "Aug-2001    1353\n",
      "Aug-2000    1316\n",
      "Aug-2002    1208\n",
      "Sep-2000    1163\n",
      "Aug-1999    1131\n",
      "Oct-2000    1128\n",
      "Sep-1999    1100\n",
      "Sep-2001    1081\n",
      "Oct-2001    1078\n",
      "Sep-2002    1071\n",
      "Oct-2002    1045\n",
      "Nov-1999    1037\n",
      "Oct-1999    1023\n",
      "Sep-1998    1008\n",
      "Sep-2003    1003\n",
      "Jul-2001     993\n",
      "Aug-2003     992\n",
      "Mar-2001     989\n",
      "Nov-2000     972\n",
      "Nov-2001     963\n",
      "Mar-2000     940\n",
      "Oct-2003     937\n",
      "Jun-2001     936\n",
      "Oct-1998     932\n",
      "Jun-2000     927\n",
      "Jul-2002     925\n",
      "May-2001     924\n",
      "Apr-2001     915\n",
      "Jul-2000     910\n",
      "Jul-2003     891\n",
      "            ... \n",
      "Mar-1961       1\n",
      "Jan-1953       1\n",
      "Sep-1957       1\n",
      "Nov-1963       1\n",
      "Sep-1963       1\n",
      "Mar-1959       1\n",
      "Jul-1960       1\n",
      "Jan-1957       1\n",
      "Oct-1962       1\n",
      "May-1963       1\n",
      "Jul-1958       1\n",
      "May-1958       1\n",
      "Nov-1954       1\n",
      "Apr-1962       1\n",
      "Oct-1950       1\n",
      "Jan-1956       1\n",
      "Aug-1960       1\n",
      "Jun-1949       1\n",
      "Jan-1948       1\n",
      "Feb-1963       1\n",
      "Mar-1960       1\n",
      "Aug-1961       1\n",
      "Dec-1963       1\n",
      "Oct-1958       1\n",
      "Mar-1962       1\n",
      "Aug-1962       1\n",
      "Jul-1961       1\n",
      "Jan-1954       1\n",
      "Nov-1956       1\n",
      "Jun-1961       1\n",
      "Name: earliestcrline, Length: 628, dtype: int64\n",
      "-------- term ----------\n",
      "0\n",
      " 36 months    162570\n",
      "Name: term, dtype: int64\n",
      "-------- issued ----------\n",
      "0\n",
      "Oct-2014    26573\n",
      "Jul-2014    19941\n",
      "Nov-2014    16573\n",
      "Aug-2014    13283\n",
      "Apr-2014    13265\n",
      "May-2014    13108\n",
      "Mar-2014    11636\n",
      "Jun-2014    11508\n",
      "Jan-2014    11495\n",
      "Feb-2014    10943\n",
      "Sep-2014     7371\n",
      "Dec-2014     6874\n",
      "Name: issued, dtype: int64\n",
      "-------- loanstatus ----------\n",
      "0\n"
     ]
    },
    {
     "name": "stdout",
     "output_type": "stream",
     "text": [
      "Fully Paid            124046\n",
      "Charged Off            21604\n",
      "Current                15658\n",
      "Late (31-120 days)       625\n",
      "In Grace Period          505\n",
      "Late (16-30 days)        126\n",
      "Default                    6\n",
      "Name: loanstatus, dtype: int64\n"
     ]
    }
   ],
   "source": [
    "for i in range(0, len(ob_feature)):\n",
    "    print('--------', ob_feature[i], '----------')\n",
    "    print(df[ob_feature[i]].isnull().sum())\n",
    "    print(df[ob_feature[i]].value_counts())"
   ]
  },
  {
   "cell_type": "code",
   "execution_count": null,
   "metadata": {
    "collapsed": true
   },
   "outputs": [],
   "source": [
    "# 可以转化为float64的：\n",
    "# intrate, revolutil, 去掉'%'\n",
    "# issue_d，在current_data中不存在，可用于训练数据的split，转化为月份对应的数字\n",
    "# zipcode去掉后两位的'xx'，转化为数字（邮编的距离还是有一定意义的）\n",
    "# loanstatus， 作为target，只取两种数据：Charged Off-->1, Fully Paid-->0\n",
    "# desc内容复杂，null值较多，考虑转化为：1--填写，0--未填写\n",
    "# 时间类型： earliestcrline, 通过计算，取得时间长度, 如：earliestcrline，可计算credit line有多少个月\n",
    "\n",
    "# 细节描述： id, 考虑删除 \n",
    "# 只有一个取值的： term，application_type，考虑删除\n",
    "\n",
    "# 真正object的： homeownership, grade, emplength, verificationstatus, purpose, addrstate,\n",
    "#              subgrade, emptitle, initialliststatus\n",
    "# 其中，emp_title可以汇总成更少的组"
   ]
  },
  {
   "cell_type": "code",
   "execution_count": null,
   "metadata": {
    "collapsed": true
   },
   "outputs": [],
   "source": []
  },
  {
   "cell_type": "code",
   "execution_count": null,
   "metadata": {
    "collapsed": true
   },
   "outputs": [],
   "source": [
    "#df = df.drop(['id', 'url', 'desc', 'term', 'application_type'], axis = 1)"
   ]
  },
  {
   "cell_type": "code",
   "execution_count": null,
   "metadata": {},
   "outputs": [],
   "source": [
    "#df.shape"
   ]
  },
  {
   "cell_type": "code",
   "execution_count": null,
   "metadata": {
    "collapsed": true
   },
   "outputs": [],
   "source": [
    "#df = df.drop(['hardship_flag', 'hardship_type', 'hardship_reason', 'hardship_status', 'hardship_start_date', 'hardship_end_date', 'payment_plan_start_date', 'hardship_loan_status'], axis = 1)"
   ]
  },
  {
   "cell_type": "code",
   "execution_count": null,
   "metadata": {},
   "outputs": [],
   "source": [
    "#df.shape"
   ]
  },
  {
   "cell_type": "code",
   "execution_count": null,
   "metadata": {
    "collapsed": true
   },
   "outputs": [],
   "source": [
    "# loan_status作为target, Fully Paid-->1, Charged Off + Default-->0\n",
    "#Fully Paid            124046\n",
    "#Charged Off            21604\n",
    "#Current                15658\n",
    "#Late (31-120 days)       625\n",
    "#In Grace Period          505\n",
    "#Late (16-30 days)        126\n",
    "#Default                    6"
   ]
  },
  {
   "cell_type": "code",
   "execution_count": null,
   "metadata": {
    "collapsed": true
   },
   "outputs": [],
   "source": []
  },
  {
   "cell_type": "markdown",
   "metadata": {},
   "source": [
    "#### For an issued loan, fundedamnt=loanamnt, drop fundedamnt"
   ]
  },
  {
   "cell_type": "code",
   "execution_count": 21,
   "metadata": {},
   "outputs": [
    {
     "data": {
      "text/html": [
       "<div>\n",
       "<style>\n",
       "    .dataframe thead tr:only-child th {\n",
       "        text-align: right;\n",
       "    }\n",
       "\n",
       "    .dataframe thead th {\n",
       "        text-align: left;\n",
       "    }\n",
       "\n",
       "    .dataframe tbody tr th {\n",
       "        vertical-align: top;\n",
       "    }\n",
       "</style>\n",
       "<table border=\"1\" class=\"dataframe\">\n",
       "  <thead>\n",
       "    <tr style=\"text-align: right;\">\n",
       "      <th></th>\n",
       "      <th>fundedamnt</th>\n",
       "      <th>loanamnt</th>\n",
       "    </tr>\n",
       "  </thead>\n",
       "  <tbody>\n",
       "    <tr>\n",
       "      <th>0</th>\n",
       "      <td>10400.0</td>\n",
       "      <td>10400.0</td>\n",
       "    </tr>\n",
       "    <tr>\n",
       "      <th>2</th>\n",
       "      <td>9600.0</td>\n",
       "      <td>9600.0</td>\n",
       "    </tr>\n",
       "    <tr>\n",
       "      <th>3</th>\n",
       "      <td>7650.0</td>\n",
       "      <td>7650.0</td>\n",
       "    </tr>\n",
       "    <tr>\n",
       "      <th>6</th>\n",
       "      <td>12975.0</td>\n",
       "      <td>12975.0</td>\n",
       "    </tr>\n",
       "    <tr>\n",
       "      <th>9</th>\n",
       "      <td>17000.0</td>\n",
       "      <td>17000.0</td>\n",
       "    </tr>\n",
       "    <tr>\n",
       "      <th>10</th>\n",
       "      <td>10000.0</td>\n",
       "      <td>10000.0</td>\n",
       "    </tr>\n",
       "    <tr>\n",
       "      <th>11</th>\n",
       "      <td>23325.0</td>\n",
       "      <td>23325.0</td>\n",
       "    </tr>\n",
       "    <tr>\n",
       "      <th>12</th>\n",
       "      <td>2500.0</td>\n",
       "      <td>2500.0</td>\n",
       "    </tr>\n",
       "    <tr>\n",
       "      <th>13</th>\n",
       "      <td>5250.0</td>\n",
       "      <td>5250.0</td>\n",
       "    </tr>\n",
       "    <tr>\n",
       "      <th>14</th>\n",
       "      <td>2000.0</td>\n",
       "      <td>2000.0</td>\n",
       "    </tr>\n",
       "  </tbody>\n",
       "</table>\n",
       "</div>"
      ],
      "text/plain": [
       "    fundedamnt  loanamnt\n",
       "0      10400.0   10400.0\n",
       "2       9600.0    9600.0\n",
       "3       7650.0    7650.0\n",
       "6      12975.0   12975.0\n",
       "9      17000.0   17000.0\n",
       "10     10000.0   10000.0\n",
       "11     23325.0   23325.0\n",
       "12      2500.0    2500.0\n",
       "13      5250.0    5250.0\n",
       "14      2000.0    2000.0"
      ]
     },
     "execution_count": 21,
     "metadata": {},
     "output_type": "execute_result"
    },
    {
     "data": {
      "image/png": "[encoded data removed]",
      "text/plain": [
       "<matplotlib.figure.Figure at 0x7f9655f7cd68>"
      ]
     },
     "metadata": {},
     "output_type": "display_data"
    }
   ],
   "source": [
    "df.ratio = df.fundedamnt/df.loanamnt.astype(float,3)\n",
    "df.ratio.hist(bins=100)\n",
    "df[['fundedamnt', 'loanamnt']][0:10]"
   ]
  },
  {
   "cell_type": "code",
   "execution_count": null,
   "metadata": {
    "collapsed": true
   },
   "outputs": [],
   "source": [
    "#df = df.drop('funded_amnt', axis = 1)"
   ]
  },
  {
   "cell_type": "markdown",
   "metadata": {},
   "source": [
    "#### instogram"
   ]
  },
  {
   "cell_type": "code",
   "execution_count": 22,
   "metadata": {},
   "outputs": [
    {
     "data": {
      "text/plain": [
       "<matplotlib.axes._subplots.AxesSubplot at 0x7f9655380160>"
      ]
     },
     "execution_count": 22,
     "metadata": {},
     "output_type": "execute_result"
    },
    {
     "data": {
      "image/png": "[encoded data removed]",
      "text/plain": [
       "<matplotlib.figure.Figure at 0x7f9655f7d6a0>"
      ]
     },
     "metadata": {},
     "output_type": "display_data"
    }
   ],
   "source": [
    "df.installment.hist(bins=100)"
   ]
  },
  {
   "cell_type": "code",
   "execution_count": null,
   "metadata": {
    "collapsed": true
   },
   "outputs": [],
   "source": []
  },
  {
   "cell_type": "markdown",
   "metadata": {},
   "source": [
    "#### Mean response"
   ]
  },
  {
   "cell_type": "code",
   "execution_count": 23,
   "metadata": {},
   "outputs": [],
   "source": [
    "df = df.query(\"loanstatus == 'Fully Paid' or loanstatus == 'Charged Off'\")"
   ]
  },
  {
   "cell_type": "code",
   "execution_count": 24,
   "metadata": {},
   "outputs": [
    {
     "data": {
      "text/plain": [
       "(145650, 95)"
      ]
     },
     "execution_count": 24,
     "metadata": {},
     "output_type": "execute_result"
    }
   ],
   "source": [
    "df.shape"
   ]
  },
  {
   "cell_type": "code",
   "execution_count": 26,
   "metadata": {},
   "outputs": [],
   "source": [
    "df['loanstatus'] = df.loanstatus.map({\"Charged Off\": 1, \"Fully Paid\": 0})"
   ]
  },
  {
   "cell_type": "code",
   "execution_count": 27,
   "metadata": {},
   "outputs": [
    {
     "data": {
      "text/plain": [
       "(145650, 95)"
      ]
     },
     "execution_count": 27,
     "metadata": {},
     "output_type": "execute_result"
    }
   ],
   "source": [
    "df.shape"
   ]
  },
  {
   "cell_type": "code",
   "execution_count": null,
   "metadata": {
    "collapsed": true
   },
   "outputs": [],
   "source": [
    "#delinq2yrs, openacc"
   ]
  },
  {
   "cell_type": "code",
   "execution_count": 28,
   "metadata": {},
   "outputs": [],
   "source": [
    "dummy_list = ['emplength', 'verificationstatus', 'delinq2yrs', 'addrstate', 'homeownership', 'grade', 'subgrade', 'openacc']\n",
    "n = len(dummy_list)"
   ]
  },
  {
   "cell_type": "code",
   "execution_count": null,
   "metadata": {
    "collapsed": true
   },
   "outputs": [],
   "source": [
    "# why verified incomes gives higher default rates?"
   ]
  },
  {
   "cell_type": "code",
   "execution_count": 30,
   "metadata": {},
   "outputs": [
    {
     "data": {
      "text/plain": [
       "<matplotlib.axes._subplots.AxesSubplot at 0x7f9655bd37b8>"
      ]
     },
     "execution_count": 30,
     "metadata": {},
     "output_type": "execute_result"
    },
    {
     "data": {
      "image/png": "[encoded data removed]",
      "text/plain": [
       "<matplotlib.figure.Figure at 0x7f96885eadd8>"
      ]
     },
     "metadata": {},
     "output_type": "display_data"
    }
   ],
   "source": [
    "sns.barplot(x=dummy_list[0], y='loanstatus', data=df)"
   ]
  },
  {
   "cell_type": "code",
   "execution_count": 31,
   "metadata": {},
   "outputs": [
    {
     "data": {
      "text/plain": [
       "<matplotlib.axes._subplots.AxesSubplot at 0x7f965533a048>"
      ]
     },
     "execution_count": 31,
     "metadata": {},
     "output_type": "execute_result"
    },
    {
     "data": {
      "image/png": "[encoded data removed]",
      "text/plain": [
       "<matplotlib.figure.Figure at 0x7f965530bac8>"
      ]
     },
     "metadata": {},
     "output_type": "display_data"
    }
   ],
   "source": [
    "sns.barplot(x=dummy_list[1], y='loanstatus', data=df)"
   ]
  },
  {
   "cell_type": "code",
   "execution_count": 32,
   "metadata": {},
   "outputs": [
    {
     "data": {
      "text/plain": [
       "<matplotlib.axes._subplots.AxesSubplot at 0x7f9655afc7b8>"
      ]
     },
     "execution_count": 32,
     "metadata": {},
     "output_type": "execute_result"
    },
    {
     "data": {
      "image/png": "[encoded data removed]",
      "text/plain": [
       "<matplotlib.figure.Figure at 0x7f9655316320>"
      ]
     },
     "metadata": {},
     "output_type": "display_data"
    }
   ],
   "source": [
    "sns.barplot(x=dummy_list[2], y='loanstatus', data=df)"
   ]
  },
  {
   "cell_type": "code",
   "execution_count": 33,
   "metadata": {},
   "outputs": [
    {
     "data": {
      "text/plain": [
       "<matplotlib.axes._subplots.AxesSubplot at 0x7f96552fd898>"
      ]
     },
     "execution_count": 33,
     "metadata": {},
     "output_type": "execute_result"
    },
    {
     "data": {
      "image/png": "[encoded data removed]",
      "text/plain": [
       "<matplotlib.figure.Figure at 0x7f968855bf28>"
      ]
     },
     "metadata": {},
     "output_type": "display_data"
    }
   ],
   "source": [
    "sns.barplot(x=dummy_list[3], y='loanstatus', data=df)"
   ]
  },
  {
   "cell_type": "code",
   "execution_count": 34,
   "metadata": {},
   "outputs": [
    {
     "data": {
      "text/plain": [
       "<matplotlib.axes._subplots.AxesSubplot at 0x7f9654fdeac8>"
      ]
     },
     "execution_count": 34,
     "metadata": {},
     "output_type": "execute_result"
    },
    {
     "data": {
      "image/png": "[encoded data removed]",
      "text/plain": [
       "<matplotlib.figure.Figure at 0x7f96553cf9b0>"
      ]
     },
     "metadata": {},
     "output_type": "display_data"
    }
   ],
   "source": [
    "sns.barplot(x=dummy_list[4], y='loanstatus', data=df)"
   ]
  },
  {
   "cell_type": "code",
   "execution_count": 35,
   "metadata": {},
   "outputs": [
    {
     "data": {
      "text/plain": [
       "<matplotlib.axes._subplots.AxesSubplot at 0x7f9654c7ebe0>"
      ]
     },
     "execution_count": 35,
     "metadata": {},
     "output_type": "execute_result"
    },
    {
     "data": {
      "image/png": "[encoded data removed]",
      "text/plain": [
       "<matplotlib.figure.Figure at 0x7f9654d29d68>"
      ]
     },
     "metadata": {},
     "output_type": "display_data"
    }
   ],
   "source": [
    "sns.barplot(x=dummy_list[5], y='loanstatus', data=df, order = np.sort(df.grade.unique()))"
   ]
  },
  {
   "cell_type": "code",
   "execution_count": 37,
   "metadata": {},
   "outputs": [
    {
     "data": {
      "text/plain": [
       "array(['A1', 'A2', 'A3', 'A4', 'A5', 'B1', 'B2', 'B3', 'B4', 'B5', 'C1',\n",
       "       'C2', 'C3', 'C4', 'C5', 'D1', 'D2', 'D3', 'D4', 'D5', 'E1', 'E2',\n",
       "       'E3', 'E4', 'E5', 'F1', 'F2', 'F3', 'F4', 'F5', 'G1', 'G2', 'G3',\n",
       "       'G4', 'G5'], dtype=object)"
      ]
     },
     "execution_count": 37,
     "metadata": {},
     "output_type": "execute_result"
    }
   ],
   "source": [
    "np.sort(df.subgrade.unique())"
   ]
  },
  {
   "cell_type": "code",
   "execution_count": 38,
   "metadata": {},
   "outputs": [
    {
     "data": {
      "text/plain": [
       "<matplotlib.axes._subplots.AxesSubplot at 0x7f9654cfa828>"
      ]
     },
     "execution_count": 38,
     "metadata": {},
     "output_type": "execute_result"
    },
    {
     "data": {
      "image/png": "[encoded data removed]",
      "text/plain": [
       "<matplotlib.figure.Figure at 0x7f9655b3b710>"
      ]
     },
     "metadata": {},
     "output_type": "display_data"
    }
   ],
   "source": [
    "sns.barplot(x=dummy_list[6], y='loanstatus', data=df, order = np.sort(df.subgrade.unique()))"
   ]
  },
  {
   "cell_type": "code",
   "execution_count": 39,
   "metadata": {},
   "outputs": [
    {
     "data": {
      "text/plain": [
       "<matplotlib.axes._subplots.AxesSubplot at 0x7f9654939b70>"
      ]
     },
     "execution_count": 39,
     "metadata": {},
     "output_type": "execute_result"
    },
    {
     "data": {
      "image/png": "[encoded data removed]",
      "text/plain": [
       "<matplotlib.figure.Figure at 0x7f9655c02c18>"
      ]
     },
     "metadata": {},
     "output_type": "display_data"
    }
   ],
   "source": [
    "sns.barplot(x=dummy_list[7], y='loanstatus', data=df)"
   ]
  },
  {
   "cell_type": "code",
   "execution_count": null,
   "metadata": {
    "collapsed": true
   },
   "outputs": [],
   "source": []
  },
  {
   "cell_type": "code",
   "execution_count": 44,
   "metadata": {
    "collapsed": true
   },
   "outputs": [],
   "source": [
    "def continuous_variable_plot(feat_name):\n",
    "    sns.set_style(\"whitegrid\", {'axes.edgecolor': '0'})\n",
    "    factor = pd.qcut(df[feat_name], 5, labels = False)\n",
    "    table = df.groupby([factor, 'loanstatus']).size()\n",
    "    table = table.unstack('loanstatus')\n",
    "    normedtable = table.div(table.sum(1), axis = 0)\n",
    "    fig, ax = plt.subplots(1, 1, figsize=(12,6))\n",
    "    normedtable.iloc[:,1].plot(kind = 'bar', alpha=0.9, color = '#FD2C10', ax = ax)\n",
    "    ax.set_xlabel(\"%s percentile\" % feat_name, fontsize = 20)\n",
    "    ax.set_ylabel('Default Rate', fontsize = 20)\n",
    "    x = range(5)\n",
    "    labels = ['20%tile', '40%tile', '60%tile', '100%tile']\n",
    "    plt.xticks(x,labels, rotation='0', fontsize = 10)\n",
    "    sns.despine()\n",
    "    ax.set_title(\"Loan Performance with respect to %s\" % feat_name)\n",
    "    #fig.savefig('../output/age.jpg')"
   ]
  },
  {
   "cell_type": "code",
   "execution_count": 45,
   "metadata": {},
   "outputs": [
    {
     "data": {
      "image/png": "[encoded data removed]",
      "text/plain": [
       "<matplotlib.figure.Figure at 0x7f96541da7b8>"
      ]
     },
     "metadata": {},
     "output_type": "display_data"
    }
   ],
   "source": [
    "continuous_variable_plot('annualinc')"
   ]
  },
  {
   "cell_type": "code",
   "execution_count": 46,
   "metadata": {},
   "outputs": [
    {
     "data": {
      "image/png": "[encoded data removed]",
      "text/plain": [
       "<matplotlib.figure.Figure at 0x7f96545cbac8>"
      ]
     },
     "metadata": {},
     "output_type": "display_data"
    }
   ],
   "source": [
    "continuous_variable_plot('dti')"
   ]
  },
  {
   "cell_type": "code",
   "execution_count": 48,
   "metadata": {},
   "outputs": [
    {
     "data": {
      "image/png": "[encoded data removed]",
      "text/plain": [
       "<matplotlib.figure.Figure at 0x7f9654171fd0>"
      ]
     },
     "metadata": {},
     "output_type": "display_data"
    }
   ],
   "source": [
    "continuous_variable_plot('revolbal')"
   ]
  },
  {
   "cell_type": "code",
   "execution_count": 49,
   "metadata": {},
   "outputs": [
    {
     "data": {
      "image/png": "[encoded data removed]",
      "text/plain": [
       "<matplotlib.figure.Figure at 0x7f9654157e80>"
      ]
     },
     "metadata": {},
     "output_type": "display_data"
    }
   ],
   "source": [
    "continuous_variable_plot('totalbalexmort')"
   ]
  },
  {
   "cell_type": "code",
   "execution_count": 50,
   "metadata": {},
   "outputs": [
    {
     "data": {
      "image/png": "[encoded data removed]",
      "text/plain": [
       "<matplotlib.figure.Figure at 0x7f9652a1e160>"
      ]
     },
     "metadata": {},
     "output_type": "display_data"
    }
   ],
   "source": [
    "continuous_variable_plot('totalbclimit')"
   ]
  },
  {
   "cell_type": "code",
   "execution_count": 51,
   "metadata": {},
   "outputs": [
    {
     "data": {
      "image/png": "[encoded data removed]",
      "text/plain": [
       "<matplotlib.figure.Figure at 0x7f9654274710>"
      ]
     },
     "metadata": {},
     "output_type": "display_data"
    }
   ],
   "source": [
    "continuous_variable_plot('totalilhighcreditlimit')"
   ]
  },
  {
   "cell_type": "code",
   "execution_count": null,
   "metadata": {
    "collapsed": true
   },
   "outputs": [],
   "source": []
  },
  {
   "cell_type": "markdown",
   "metadata": {},
   "source": [
    "### Save Model"
   ]
  },
  {
   "cell_type": "code",
   "execution_count": null,
   "metadata": {
    "collapsed": true
   },
   "outputs": [],
   "source": [
    "import pickle"
   ]
  },
  {
   "cell_type": "code",
   "execution_count": null,
   "metadata": {},
   "outputs": [],
   "source": [
    "pickle.dump(gbm, open('model.pkl', \"wb\"))"
   ]
  },
  {
   "cell_type": "code",
   "execution_count": null,
   "metadata": {
    "collapsed": true
   },
   "outputs": [],
   "source": [
    "from sklearn.externals import joblib\n",
    "joblib.dump(gbm, \"pima.joblib.dat\")"
   ]
  },
  {
   "cell_type": "code",
   "execution_count": null,
   "metadata": {
    "collapsed": true
   },
   "outputs": [],
   "source": [
    "with open('model.pkl', 'w') as outfile:\n",
    "    pickle.dump(gbm, outfile)"
   ]
  },
  {
   "cell_type": "code",
   "execution_count": null,
   "metadata": {
    "collapsed": true
   },
   "outputs": [],
   "source": []
  },
  {
   "cell_type": "markdown",
   "metadata": {},
   "source": [
    "### with open() as"
   ]
  },
  {
   "cell_type": "code",
   "execution_count": null,
   "metadata": {
    "collapsed": true
   },
   "outputs": [],
   "source": [
    "with open('current_list.txt', 'w') as outfile:\n",
    "    json.dump(myData, outfile)"
   ]
  },
  {
   "cell_type": "code",
   "execution_count": null,
   "metadata": {
    "collapsed": true
   },
   "outputs": [],
   "source": [
    "df_current = pd.read_json('current_list.txt')"
   ]
  },
  {
   "cell_type": "code",
   "execution_count": null,
   "metadata": {
    "collapsed": true
   },
   "outputs": [],
   "source": [
    "# why we only get few loans through api, but there are much more listed on the lending club website?\n",
    "# -- might because API only gives you the data from the latest update.\n",
    "df_current.tail()"
   ]
  },
  {
   "cell_type": "code",
   "execution_count": null,
   "metadata": {
    "collapsed": true
   },
   "outputs": [],
   "source": [
    "# A better way to read a json file(can read json to dato frame with more complex structure)\n",
    "df_current = pd.io.json.json_normalize(myData)"
   ]
  },
  {
   "cell_type": "code",
   "execution_count": null,
   "metadata": {
    "collapsed": true
   },
   "outputs": [],
   "source": [
    "df_current.tail()"
   ]
  },
  {
   "cell_type": "code",
   "execution_count": null,
   "metadata": {
    "collapsed": true
   },
   "outputs": [],
   "source": []
  },
  {
   "cell_type": "code",
   "execution_count": null,
   "metadata": {
    "collapsed": true
   },
   "outputs": [],
   "source": []
  },
  {
   "cell_type": "code",
   "execution_count": null,
   "metadata": {
    "collapsed": true
   },
   "outputs": [],
   "source": []
  },
  {
   "cell_type": "code",
   "execution_count": null,
   "metadata": {
    "collapsed": true
   },
   "outputs": [],
   "source": []
  },
  {
   "cell_type": "code",
   "execution_count": null,
   "metadata": {
    "collapsed": true
   },
   "outputs": [],
   "source": []
  },
  {
   "cell_type": "code",
   "execution_count": null,
   "metadata": {
    "collapsed": true
   },
   "outputs": [],
   "source": []
  },
  {
   "cell_type": "code",
   "execution_count": null,
   "metadata": {
    "collapsed": true
   },
   "outputs": [],
   "source": []
  },
  {
   "cell_type": "code",
   "execution_count": null,
   "metadata": {
    "collapsed": true
   },
   "outputs": [],
   "source": []
  }
 ],
 "metadata": {
  "kernelspec": {
   "display_name": "Python 3",
   "language": "python",
   "name": "python3"
  },
  "language_info": {
   "codemirror_mode": {
    "name": "ipython",
    "version": 3
   },
   "file_extension": ".py",
   "mimetype": "text/x-python",
   "name": "python",
   "nbconvert_exporter": "python",
   "pygments_lexer": "ipython3",
   "version": "3.6.1"
  }
 },
 "nbformat": 4,
 "nbformat_minor": 2
}
