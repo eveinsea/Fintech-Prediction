{
 "cells": [
  {
   "cell_type": "code",
   "execution_count": 1,
   "metadata": {
    "collapsed": true
   },
   "outputs": [],
   "source": [
    "import pandas as pd\n",
    "import numpy as np\n",
    "import matplotlib.pyplot as plt\n",
    "%matplotlib inline\n",
    "\n",
    "import xgboost as xgb\n",
    "import seaborn as sns"
   ]
  },
  {
   "cell_type": "markdown",
   "metadata": {},
   "source": [
    "### Load Data"
   ]
  },
  {
   "cell_type": "code",
   "execution_count": 27,
   "metadata": {},
   "outputs": [
    {
     "name": "stderr",
     "output_type": "stream",
     "text": [
      "/home/wing/anaconda3/lib/python3.6/site-packages/IPython/core/interactiveshell.py:2717: DtypeWarning: Columns (12,81) have mixed types. Specify dtype option on import or set low_memory=False.\n",
      "  interactivity=interactivity, compiler=compiler, result=result)\n"
     ]
    }
   ],
   "source": [
    "df1 = pd.read_csv('../input/loan_2014.csv')"
   ]
  },
  {
   "cell_type": "code",
   "execution_count": 28,
   "metadata": {},
   "outputs": [
    {
     "data": {
      "text/plain": [
       "(235631, 95)"
      ]
     },
     "execution_count": 28,
     "metadata": {},
     "output_type": "execute_result"
    }
   ],
   "source": [
    "df1.shape"
   ]
  },
  {
   "cell_type": "code",
   "execution_count": 29,
   "metadata": {},
   "outputs": [
    {
     "data": {
      "text/html": [
       "<div>\n",
       "<style>\n",
       "    .dataframe thead tr:only-child th {\n",
       "        text-align: right;\n",
       "    }\n",
       "\n",
       "    .dataframe thead th {\n",
       "        text-align: left;\n",
       "    }\n",
       "\n",
       "    .dataframe tbody tr th {\n",
       "        vertical-align: top;\n",
       "    }\n",
       "</style>\n",
       "<table border=\"1\" class=\"dataframe\">\n",
       "  <thead>\n",
       "    <tr style=\"text-align: right;\">\n",
       "      <th></th>\n",
       "      <th>homeownership</th>\n",
       "      <th>totalbclimit</th>\n",
       "      <th>loanamnt</th>\n",
       "      <th>numtloppast12m</th>\n",
       "      <th>pubrecbankruptcies</th>\n",
       "      <th>taxliens</th>\n",
       "      <th>totalilhighcreditlimit</th>\n",
       "      <th>verificationstatusjoint</th>\n",
       "      <th>pcttlnvrdlq</th>\n",
       "      <th>mosinrcnttl</th>\n",
       "      <th>...</th>\n",
       "      <th>openil12m</th>\n",
       "      <th>mthssincerecentbc</th>\n",
       "      <th>numbctl</th>\n",
       "      <th>earliestcrline</th>\n",
       "      <th>ilutil</th>\n",
       "      <th>avgcurbal</th>\n",
       "      <th>percentbcgt75</th>\n",
       "      <th>term</th>\n",
       "      <th>issued</th>\n",
       "      <th>loanstatus</th>\n",
       "    </tr>\n",
       "  </thead>\n",
       "  <tbody>\n",
       "    <tr>\n",
       "      <th>235626</th>\n",
       "      <td>MORTGAGE</td>\n",
       "      <td>8500.0</td>\n",
       "      <td>20700.0</td>\n",
       "      <td>0.0</td>\n",
       "      <td>0.0</td>\n",
       "      <td>0.0</td>\n",
       "      <td>83482.0</td>\n",
       "      <td>NaN</td>\n",
       "      <td>97.6</td>\n",
       "      <td>19.0</td>\n",
       "      <td>...</td>\n",
       "      <td>NaN</td>\n",
       "      <td>93.0</td>\n",
       "      <td>1.0</td>\n",
       "      <td>Dec-2001</td>\n",
       "      <td>NaN</td>\n",
       "      <td>4089.0</td>\n",
       "      <td>100.0</td>\n",
       "      <td>60 months</td>\n",
       "      <td>Jan-2014</td>\n",
       "      <td>Current</td>\n",
       "    </tr>\n",
       "    <tr>\n",
       "      <th>235627</th>\n",
       "      <td>OWN</td>\n",
       "      <td>47500.0</td>\n",
       "      <td>2000.0</td>\n",
       "      <td>4.0</td>\n",
       "      <td>0.0</td>\n",
       "      <td>0.0</td>\n",
       "      <td>37200.0</td>\n",
       "      <td>NaN</td>\n",
       "      <td>85.2</td>\n",
       "      <td>5.0</td>\n",
       "      <td>...</td>\n",
       "      <td>NaN</td>\n",
       "      <td>5.0</td>\n",
       "      <td>10.0</td>\n",
       "      <td>Feb-2003</td>\n",
       "      <td>NaN</td>\n",
       "      <td>28172.0</td>\n",
       "      <td>11.1</td>\n",
       "      <td>36 months</td>\n",
       "      <td>Jan-2014</td>\n",
       "      <td>Fully Paid</td>\n",
       "    </tr>\n",
       "    <tr>\n",
       "      <th>235628</th>\n",
       "      <td>MORTGAGE</td>\n",
       "      <td>13500.0</td>\n",
       "      <td>10000.0</td>\n",
       "      <td>2.0</td>\n",
       "      <td>0.0</td>\n",
       "      <td>0.0</td>\n",
       "      <td>65470.0</td>\n",
       "      <td>NaN</td>\n",
       "      <td>90.9</td>\n",
       "      <td>4.0</td>\n",
       "      <td>...</td>\n",
       "      <td>NaN</td>\n",
       "      <td>4.0</td>\n",
       "      <td>11.0</td>\n",
       "      <td>Feb-2000</td>\n",
       "      <td>NaN</td>\n",
       "      <td>11495.0</td>\n",
       "      <td>50.0</td>\n",
       "      <td>36 months</td>\n",
       "      <td>Jan-2014</td>\n",
       "      <td>Fully Paid</td>\n",
       "    </tr>\n",
       "    <tr>\n",
       "      <th>235629</th>\n",
       "      <td>NaN</td>\n",
       "      <td>NaN</td>\n",
       "      <td>NaN</td>\n",
       "      <td>NaN</td>\n",
       "      <td>NaN</td>\n",
       "      <td>NaN</td>\n",
       "      <td>NaN</td>\n",
       "      <td>NaN</td>\n",
       "      <td>NaN</td>\n",
       "      <td>NaN</td>\n",
       "      <td>...</td>\n",
       "      <td>NaN</td>\n",
       "      <td>NaN</td>\n",
       "      <td>NaN</td>\n",
       "      <td>NaN</td>\n",
       "      <td>NaN</td>\n",
       "      <td>NaN</td>\n",
       "      <td>NaN</td>\n",
       "      <td>NaN</td>\n",
       "      <td>NaN</td>\n",
       "      <td>NaN</td>\n",
       "    </tr>\n",
       "    <tr>\n",
       "      <th>235630</th>\n",
       "      <td>NaN</td>\n",
       "      <td>NaN</td>\n",
       "      <td>NaN</td>\n",
       "      <td>NaN</td>\n",
       "      <td>NaN</td>\n",
       "      <td>NaN</td>\n",
       "      <td>NaN</td>\n",
       "      <td>NaN</td>\n",
       "      <td>NaN</td>\n",
       "      <td>NaN</td>\n",
       "      <td>...</td>\n",
       "      <td>NaN</td>\n",
       "      <td>NaN</td>\n",
       "      <td>NaN</td>\n",
       "      <td>NaN</td>\n",
       "      <td>NaN</td>\n",
       "      <td>NaN</td>\n",
       "      <td>NaN</td>\n",
       "      <td>NaN</td>\n",
       "      <td>NaN</td>\n",
       "      <td>NaN</td>\n",
       "    </tr>\n",
       "  </tbody>\n",
       "</table>\n",
       "<p>5 rows × 95 columns</p>\n",
       "</div>"
      ],
      "text/plain": [
       "       homeownership  totalbclimit  loanamnt  numtloppast12m  \\\n",
       "235626      MORTGAGE        8500.0   20700.0             0.0   \n",
       "235627           OWN       47500.0    2000.0             4.0   \n",
       "235628      MORTGAGE       13500.0   10000.0             2.0   \n",
       "235629           NaN           NaN       NaN             NaN   \n",
       "235630           NaN           NaN       NaN             NaN   \n",
       "\n",
       "        pubrecbankruptcies  taxliens  totalilhighcreditlimit  \\\n",
       "235626                 0.0       0.0                 83482.0   \n",
       "235627                 0.0       0.0                 37200.0   \n",
       "235628                 0.0       0.0                 65470.0   \n",
       "235629                 NaN       NaN                     NaN   \n",
       "235630                 NaN       NaN                     NaN   \n",
       "\n",
       "        verificationstatusjoint  pcttlnvrdlq  mosinrcnttl     ...      \\\n",
       "235626                      NaN         97.6         19.0     ...       \n",
       "235627                      NaN         85.2          5.0     ...       \n",
       "235628                      NaN         90.9          4.0     ...       \n",
       "235629                      NaN          NaN          NaN     ...       \n",
       "235630                      NaN          NaN          NaN     ...       \n",
       "\n",
       "        openil12m  mthssincerecentbc numbctl earliestcrline ilutil  avgcurbal  \\\n",
       "235626        NaN               93.0     1.0       Dec-2001    NaN     4089.0   \n",
       "235627        NaN                5.0    10.0       Feb-2003    NaN    28172.0   \n",
       "235628        NaN                4.0    11.0       Feb-2000    NaN    11495.0   \n",
       "235629        NaN                NaN     NaN            NaN    NaN        NaN   \n",
       "235630        NaN                NaN     NaN            NaN    NaN        NaN   \n",
       "\n",
       "       percentbcgt75        term    issued  loanstatus  \n",
       "235626         100.0   60 months  Jan-2014     Current  \n",
       "235627          11.1   36 months  Jan-2014  Fully Paid  \n",
       "235628          50.0   36 months  Jan-2014  Fully Paid  \n",
       "235629           NaN         NaN       NaN         NaN  \n",
       "235630           NaN         NaN       NaN         NaN  \n",
       "\n",
       "[5 rows x 95 columns]"
      ]
     },
     "execution_count": 29,
     "metadata": {},
     "output_type": "execute_result"
    }
   ],
   "source": [
    "df1.tail()"
   ]
  },
  {
   "cell_type": "code",
   "execution_count": 30,
   "metadata": {
    "collapsed": true
   },
   "outputs": [],
   "source": [
    "df1 = df1[0:235629]"
   ]
  },
  {
   "cell_type": "code",
   "execution_count": 31,
   "metadata": {},
   "outputs": [
    {
     "data": {
      "text/plain": [
       "(235629, 95)"
      ]
     },
     "execution_count": 31,
     "metadata": {},
     "output_type": "execute_result"
    }
   ],
   "source": [
    "df1.shape"
   ]
  },
  {
   "cell_type": "markdown",
   "metadata": {},
   "source": [
    "### Select feature"
   ]
  },
  {
   "cell_type": "code",
   "execution_count": 32,
   "metadata": {},
   "outputs": [
    {
     "name": "stdout",
     "output_type": "stream",
     "text": [
      "<class 'pandas.core.frame.DataFrame'>\n",
      "RangeIndex: 235629 entries, 0 to 235628\n",
      "Data columns (total 95 columns):\n",
      "homeownership                 235629 non-null object\n",
      "totalbclimit                  235629 non-null float64\n",
      "loanamnt                      235629 non-null float64\n",
      "numtloppast12m                235629 non-null float64\n",
      "pubrecbankruptcies            235629 non-null float64\n",
      "taxliens                      235629 non-null float64\n",
      "totalilhighcreditlimit        235629 non-null float64\n",
      "verificationstatusjoint       0 non-null float64\n",
      "pcttlnvrdlq                   235629 non-null float64\n",
      "mosinrcnttl                   235629 non-null float64\n",
      "accnowdelinq                  235629 non-null float64\n",
      "totalbalexmort                235629 non-null float64\n",
      "id                            235629 non-null object\n",
      "grade                         235629 non-null object\n",
      "intrate                       235629 non-null object\n",
      "tothicredlim                  235629 non-null float64\n",
      "emplength                     235629 non-null object\n",
      "verificationstatus            235629 non-null object\n",
      "bcutil                        233018 non-null float64\n",
      "mthssincerecentinq            213937 non-null float64\n",
      "mortacc                       235629 non-null float64\n",
      "numrevaccts                   235629 non-null float64\n",
      "totalbalil                    0 non-null float64\n",
      "maxbalbc                      0 non-null float64\n",
      "numtl120dpd2m                 227769 non-null float64\n",
      "mthssincelastdelinq           119748 non-null float64\n",
      "mthssincelastmajorderog       66478 non-null float64\n",
      "revolbal                      235629 non-null float64\n",
      "mosinoldrevtlop               235629 non-null float64\n",
      "revolutil                     235504 non-null object\n",
      "zipcode                       235629 non-null object\n",
      "accopenpast24mths             235629 non-null float64\n",
      "openil6m                      0 non-null float64\n",
      "mosinoldilacct                228458 non-null float64\n",
      "numiltl                       235629 non-null float64\n",
      "purpose                       235629 non-null object\n",
      "ficorangehigh                 235629 non-null float64\n",
      "totcollamt                    235629 non-null float64\n",
      "allutil                       0 non-null float64\n",
      "installment                   235629 non-null float64\n",
      "addrstate                     235629 non-null object\n",
      "mosinrcntrevtlop              235629 non-null float64\n",
      "dtijoint                      0 non-null float64\n",
      "numtl90gdpd24m                235629 non-null float64\n",
      "memberid                      0 non-null float64\n",
      "inqlast6mths                  235629 non-null float64\n",
      "numactvbctl                   235629 non-null float64\n",
      "subgrade                      235629 non-null object\n",
      "openil24m                     0 non-null float64\n",
      "emptitle                      222393 non-null object\n",
      "inqlast12m                    0 non-null float64\n",
      "annualincjoint                0 non-null float64\n",
      "totcurbal                     235629 non-null float64\n",
      "annualinc                     235629 non-null float64\n",
      "openacc                       235629 non-null float64\n",
      "mthssincerecentbcdlq          62281 non-null float64\n",
      "applicationtype               235629 non-null object\n",
      "totalacc                      235629 non-null float64\n",
      "initialliststatus             235629 non-null object\n",
      "collections12mthsexmed        235629 non-null float64\n",
      "fundedamnt                    235629 non-null float64\n",
      "totalcutl                     0 non-null float64\n",
      "totalrevhilim                 235629 non-null float64\n",
      "mthssincercntil               0 non-null float64\n",
      "dti                           235629 non-null float64\n",
      "numrevtlbalgt0                235629 non-null float64\n",
      "numoprevtl                    235629 non-null float64\n",
      "openrv24m                     0 non-null float64\n",
      "numtl30dpd                    235629 non-null float64\n",
      "delinqamnt                    235629 non-null float64\n",
      "numactvrevtl                  235629 non-null float64\n",
      "numbcsats                     235629 non-null float64\n",
      "numsats                       235629 non-null float64\n",
      "bcopentobuy                   233184 non-null float64\n",
      "ficorangelow                  235629 non-null float64\n",
      "numacctsever120pd             235629 non-null float64\n",
      "chargeoffwithin12mths         235629 non-null float64\n",
      "pubrec                        235629 non-null float64\n",
      "openacc6m                     0 non-null float64\n",
      "mthssincelastrecord           41524 non-null float64\n",
      "openrv12m                     0 non-null float64\n",
      "desc                          15279 non-null object\n",
      "mthssincerecentrevoldelinq    84766 non-null float64\n",
      "delinq2yrs                    235629 non-null float64\n",
      "inqfi                         0 non-null float64\n",
      "openil12m                     0 non-null float64\n",
      "mthssincerecentbc             233383 non-null float64\n",
      "numbctl                       235629 non-null float64\n",
      "earliestcrline                235629 non-null object\n",
      "ilutil                        0 non-null float64\n",
      "avgcurbal                     235623 non-null float64\n",
      "percentbcgt75                 233072 non-null float64\n",
      "term                          235629 non-null object\n",
      "issued                        235629 non-null object\n",
      "loanstatus                    235629 non-null object\n",
      "dtypes: float64(76), object(19)\n",
      "memory usage: 170.8+ MB\n"
     ]
    }
   ],
   "source": [
    "df1.info()"
   ]
  },
  {
   "cell_type": "code",
   "execution_count": 33,
   "metadata": {
    "collapsed": true
   },
   "outputs": [],
   "source": [
    "cols = df1.columns.values\n",
    "all_null_feature = []\n",
    "num_feature=[]\n",
    "ob_feature=[]\n",
    "\n",
    "for col in cols:\n",
    "    if df1[col].isnull().sum() == df1.shape[0]:\n",
    "        all_null_feature.append(col)\n",
    "    else: #全部为null的feature不予考虑\n",
    "        if df1[col].dtype == 'object':\n",
    "            ob_feature.append(col)\n",
    "        else:\n",
    "            num_feature.append(col)"
   ]
  },
  {
   "cell_type": "code",
   "execution_count": 34,
   "metadata": {},
   "outputs": [
    {
     "data": {
      "text/plain": [
       "['homeownership',\n",
       " 'id',\n",
       " 'grade',\n",
       " 'intrate',\n",
       " 'emplength',\n",
       " 'verificationstatus',\n",
       " 'revolutil',\n",
       " 'zipcode',\n",
       " 'purpose',\n",
       " 'addrstate',\n",
       " 'subgrade',\n",
       " 'emptitle',\n",
       " 'applicationtype',\n",
       " 'initialliststatus',\n",
       " 'desc',\n",
       " 'earliestcrline',\n",
       " 'term',\n",
       " 'issued',\n",
       " 'loanstatus']"
      ]
     },
     "execution_count": 34,
     "metadata": {},
     "output_type": "execute_result"
    }
   ],
   "source": [
    "ob_feature"
   ]
  },
  {
   "cell_type": "code",
   "execution_count": 35,
   "metadata": {},
   "outputs": [
    {
     "data": {
      "text/plain": [
       "['totalbclimit',\n",
       " 'loanamnt',\n",
       " 'numtloppast12m',\n",
       " 'pubrecbankruptcies',\n",
       " 'taxliens',\n",
       " 'totalilhighcreditlimit',\n",
       " 'pcttlnvrdlq',\n",
       " 'mosinrcnttl',\n",
       " 'accnowdelinq',\n",
       " 'totalbalexmort',\n",
       " 'tothicredlim',\n",
       " 'bcutil',\n",
       " 'mthssincerecentinq',\n",
       " 'mortacc',\n",
       " 'numrevaccts',\n",
       " 'numtl120dpd2m',\n",
       " 'mthssincelastdelinq',\n",
       " 'mthssincelastmajorderog',\n",
       " 'revolbal',\n",
       " 'mosinoldrevtlop',\n",
       " 'accopenpast24mths',\n",
       " 'mosinoldilacct',\n",
       " 'numiltl',\n",
       " 'ficorangehigh',\n",
       " 'totcollamt',\n",
       " 'installment',\n",
       " 'mosinrcntrevtlop',\n",
       " 'numtl90gdpd24m',\n",
       " 'inqlast6mths',\n",
       " 'numactvbctl',\n",
       " 'totcurbal',\n",
       " 'annualinc',\n",
       " 'openacc',\n",
       " 'mthssincerecentbcdlq',\n",
       " 'totalacc',\n",
       " 'collections12mthsexmed',\n",
       " 'fundedamnt',\n",
       " 'totalrevhilim',\n",
       " 'dti',\n",
       " 'numrevtlbalgt0',\n",
       " 'numoprevtl',\n",
       " 'numtl30dpd',\n",
       " 'delinqamnt',\n",
       " 'numactvrevtl',\n",
       " 'numbcsats',\n",
       " 'numsats',\n",
       " 'bcopentobuy',\n",
       " 'ficorangelow',\n",
       " 'numacctsever120pd',\n",
       " 'chargeoffwithin12mths',\n",
       " 'pubrec',\n",
       " 'mthssincelastrecord',\n",
       " 'mthssincerecentrevoldelinq',\n",
       " 'delinq2yrs',\n",
       " 'mthssincerecentbc',\n",
       " 'numbctl',\n",
       " 'avgcurbal',\n",
       " 'percentbcgt75']"
      ]
     },
     "execution_count": 35,
     "metadata": {},
     "output_type": "execute_result"
    }
   ],
   "source": [
    "num_feature"
   ]
  },
  {
   "cell_type": "code",
   "execution_count": 36,
   "metadata": {},
   "outputs": [
    {
     "data": {
      "text/plain": [
       "77"
      ]
     },
     "execution_count": 36,
     "metadata": {},
     "output_type": "execute_result"
    }
   ],
   "source": [
    "select_feature = ob_feature + num_feature\n",
    "len(select_feature)"
   ]
  },
  {
   "cell_type": "markdown",
   "metadata": {},
   "source": [
    "#### ob_feature"
   ]
  },
  {
   "cell_type": "code",
   "execution_count": 115,
   "metadata": {
    "collapsed": true
   },
   "outputs": [],
   "source": [
    "# 可以转化为float64的：\n",
    "# intrate, revolutil, 去掉'%'\n",
    "# issue_d，在current_data中不存在，可用于训练数据的split，转化为月份对应的数字\n",
    "# zipcode去掉后两位的'xx'，转化为数字（邮编的距离还是有一定意义的）\n",
    "# loanstatus， 作为target，只取两种数据：Charged Off-->1, Fully Paid-->0\n",
    "# desc内容复杂，null值较多，考虑转化为：1--填写，0--未填写\n",
    "# 时间类型： earliestcrline, 通过计算，取得时间长度, 如：earliestcrline，可计算credit line有多少个月\n",
    "\n",
    "# 细节描述： id, 考虑删除 \n",
    "# 只有一个取值的： applicationtype，考虑删除\n",
    "\n",
    "# 真正object的： homeownership, grade, emplength, verificationstatus, purpose, addrstate,\n",
    "#              subgrade, emptitle, initialliststatus\n",
    "# 其中，emp_title可以汇总成更少的组"
   ]
  },
  {
   "cell_type": "code",
   "execution_count": null,
   "metadata": {
    "collapsed": true
   },
   "outputs": [],
   "source": [
    "# 只有一个取值的： applicationtype，考虑删除"
   ]
  },
  {
   "cell_type": "code",
   "execution_count": 37,
   "metadata": {},
   "outputs": [
    {
     "data": {
      "text/plain": [
       "19"
      ]
     },
     "execution_count": 37,
     "metadata": {},
     "output_type": "execute_result"
    }
   ],
   "source": [
    "len(ob_feature)"
   ]
  },
  {
   "cell_type": "code",
   "execution_count": 38,
   "metadata": {
    "collapsed": true
   },
   "outputs": [],
   "source": [
    "ob_feature.remove('applicationtype')\n",
    "#ob_feature.remove('term')"
   ]
  },
  {
   "cell_type": "code",
   "execution_count": 14,
   "metadata": {
    "collapsed": true
   },
   "outputs": [],
   "source": [
    "# remove 'id', 'issued' and 'loanstatus' from ob_feature, since they are index, train/test flag and target"
   ]
  },
  {
   "cell_type": "code",
   "execution_count": 39,
   "metadata": {
    "collapsed": true
   },
   "outputs": [],
   "source": [
    "ob_feature.remove('id')\n",
    "ob_feature.remove('issued')\n",
    "ob_feature.remove('loanstatus')"
   ]
  },
  {
   "cell_type": "code",
   "execution_count": null,
   "metadata": {
    "collapsed": true
   },
   "outputs": [],
   "source": [
    "# remove 'desc' from ob_feature\n",
    "# or replace 'desc' with 1 for remarks and 0 for np.nan"
   ]
  },
  {
   "cell_type": "code",
   "execution_count": 40,
   "metadata": {},
   "outputs": [
    {
     "data": {
      "text/plain": [
       "220350"
      ]
     },
     "execution_count": 40,
     "metadata": {},
     "output_type": "execute_result"
    }
   ],
   "source": [
    "df1['desc'].isnull().sum()"
   ]
  },
  {
   "cell_type": "code",
   "execution_count": 41,
   "metadata": {
    "collapsed": true
   },
   "outputs": [],
   "source": [
    "df1['withdesc'] = df1['desc'].fillna(0)"
   ]
  },
  {
   "cell_type": "code",
   "execution_count": 42,
   "metadata": {
    "collapsed": true
   },
   "outputs": [],
   "source": [
    "df1['withdesc'] = df1['withdesc'].apply(lambda x: 1 if x != 0 else 0)"
   ]
  },
  {
   "cell_type": "code",
   "execution_count": 43,
   "metadata": {},
   "outputs": [
    {
     "data": {
      "text/plain": [
       "0    220350\n",
       "1     15279\n",
       "Name: withdesc, dtype: int64"
      ]
     },
     "execution_count": 43,
     "metadata": {},
     "output_type": "execute_result"
    }
   ],
   "source": [
    "df1['withdesc'].value_counts()"
   ]
  },
  {
   "cell_type": "code",
   "execution_count": 44,
   "metadata": {
    "collapsed": true
   },
   "outputs": [],
   "source": [
    "ob_feature.remove('desc')"
   ]
  },
  {
   "cell_type": "code",
   "execution_count": 104,
   "metadata": {
    "collapsed": true
   },
   "outputs": [],
   "source": [
    "#ob_feature.remove('withdesc')\n",
    "num_feature.append('withdesc')"
   ]
  },
  {
   "cell_type": "code",
   "execution_count": 45,
   "metadata": {},
   "outputs": [
    {
     "data": {
      "text/plain": [
       "15"
      ]
     },
     "execution_count": 45,
     "metadata": {},
     "output_type": "execute_result"
    }
   ],
   "source": [
    "len(ob_feature)"
   ]
  },
  {
   "cell_type": "code",
   "execution_count": 46,
   "metadata": {},
   "outputs": [
    {
     "data": {
      "text/plain": [
       "['homeownership',\n",
       " 'grade',\n",
       " 'intrate',\n",
       " 'emplength',\n",
       " 'verificationstatus',\n",
       " 'revolutil',\n",
       " 'zipcode',\n",
       " 'purpose',\n",
       " 'addrstate',\n",
       " 'subgrade',\n",
       " 'emptitle',\n",
       " 'initialliststatus',\n",
       " 'earliestcrline',\n",
       " 'term',\n",
       " 'withdesc']"
      ]
     },
     "execution_count": 46,
     "metadata": {},
     "output_type": "execute_result"
    }
   ],
   "source": [
    "ob_feature"
   ]
  },
  {
   "cell_type": "markdown",
   "metadata": {},
   "source": [
    "#### num_feature"
   ]
  },
  {
   "cell_type": "code",
   "execution_count": null,
   "metadata": {
    "collapsed": true
   },
   "outputs": [],
   "source": [
    "# remove fundedamnt since it always equals to 1 for issued loans and varied during different time of a current loan"
   ]
  },
  {
   "cell_type": "code",
   "execution_count": 47,
   "metadata": {},
   "outputs": [
    {
     "data": {
      "text/html": [
       "<div>\n",
       "<style>\n",
       "    .dataframe thead tr:only-child th {\n",
       "        text-align: right;\n",
       "    }\n",
       "\n",
       "    .dataframe thead th {\n",
       "        text-align: left;\n",
       "    }\n",
       "\n",
       "    .dataframe tbody tr th {\n",
       "        vertical-align: top;\n",
       "    }\n",
       "</style>\n",
       "<table border=\"1\" class=\"dataframe\">\n",
       "  <thead>\n",
       "    <tr style=\"text-align: right;\">\n",
       "      <th></th>\n",
       "      <th>fundedamnt</th>\n",
       "      <th>loanamnt</th>\n",
       "    </tr>\n",
       "  </thead>\n",
       "  <tbody>\n",
       "    <tr>\n",
       "      <th>0</th>\n",
       "      <td>10400.0</td>\n",
       "      <td>10400.0</td>\n",
       "    </tr>\n",
       "    <tr>\n",
       "      <th>1</th>\n",
       "      <td>15000.0</td>\n",
       "      <td>15000.0</td>\n",
       "    </tr>\n",
       "    <tr>\n",
       "      <th>2</th>\n",
       "      <td>9600.0</td>\n",
       "      <td>9600.0</td>\n",
       "    </tr>\n",
       "    <tr>\n",
       "      <th>3</th>\n",
       "      <td>7650.0</td>\n",
       "      <td>7650.0</td>\n",
       "    </tr>\n",
       "    <tr>\n",
       "      <th>4</th>\n",
       "      <td>21425.0</td>\n",
       "      <td>21425.0</td>\n",
       "    </tr>\n",
       "    <tr>\n",
       "      <th>5</th>\n",
       "      <td>12800.0</td>\n",
       "      <td>12800.0</td>\n",
       "    </tr>\n",
       "    <tr>\n",
       "      <th>6</th>\n",
       "      <td>12975.0</td>\n",
       "      <td>12975.0</td>\n",
       "    </tr>\n",
       "    <tr>\n",
       "      <th>7</th>\n",
       "      <td>16000.0</td>\n",
       "      <td>16000.0</td>\n",
       "    </tr>\n",
       "    <tr>\n",
       "      <th>8</th>\n",
       "      <td>21075.0</td>\n",
       "      <td>21075.0</td>\n",
       "    </tr>\n",
       "    <tr>\n",
       "      <th>9</th>\n",
       "      <td>17000.0</td>\n",
       "      <td>17000.0</td>\n",
       "    </tr>\n",
       "  </tbody>\n",
       "</table>\n",
       "</div>"
      ],
      "text/plain": [
       "   fundedamnt  loanamnt\n",
       "0     10400.0   10400.0\n",
       "1     15000.0   15000.0\n",
       "2      9600.0    9600.0\n",
       "3      7650.0    7650.0\n",
       "4     21425.0   21425.0\n",
       "5     12800.0   12800.0\n",
       "6     12975.0   12975.0\n",
       "7     16000.0   16000.0\n",
       "8     21075.0   21075.0\n",
       "9     17000.0   17000.0"
      ]
     },
     "execution_count": 47,
     "metadata": {},
     "output_type": "execute_result"
    },
    {
     "data": {
      "image/png": "[encoded data removed]",
      "text/plain": [
       "<matplotlib.figure.Figure at 0x7ff7c154b128>"
      ]
     },
     "metadata": {},
     "output_type": "display_data"
    }
   ],
   "source": [
    "df1.ratio = df1.fundedamnt/df1.loanamnt.astype(float,3)\n",
    "df1.ratio.hist(bins=100)\n",
    "df1[['fundedamnt', 'loanamnt']][0:10]"
   ]
  },
  {
   "cell_type": "code",
   "execution_count": 48,
   "metadata": {
    "collapsed": true
   },
   "outputs": [],
   "source": [
    "num_feature.remove('fundedamnt')"
   ]
  },
  {
   "cell_type": "code",
   "execution_count": 49,
   "metadata": {},
   "outputs": [
    {
     "data": {
      "text/plain": [
       "57"
      ]
     },
     "execution_count": 49,
     "metadata": {},
     "output_type": "execute_result"
    }
   ],
   "source": [
    "len(num_feature)"
   ]
  },
  {
   "cell_type": "code",
   "execution_count": null,
   "metadata": {
    "collapsed": true
   },
   "outputs": [],
   "source": []
  },
  {
   "cell_type": "code",
   "execution_count": 50,
   "metadata": {},
   "outputs": [
    {
     "data": {
      "text/plain": [
       "72"
      ]
     },
     "execution_count": 50,
     "metadata": {},
     "output_type": "execute_result"
    }
   ],
   "source": [
    "select_feature = ob_feature + num_feature\n",
    "len(select_feature)"
   ]
  },
  {
   "cell_type": "code",
   "execution_count": 51,
   "metadata": {
    "collapsed": true
   },
   "outputs": [],
   "source": [
    "df = df1[select_feature + ['id', 'loanstatus', 'issued']]"
   ]
  },
  {
   "cell_type": "code",
   "execution_count": 52,
   "metadata": {},
   "outputs": [
    {
     "data": {
      "text/plain": [
       "(235629, 75)"
      ]
     },
     "execution_count": 52,
     "metadata": {},
     "output_type": "execute_result"
    }
   ],
   "source": [
    "df.shape"
   ]
  },
  {
   "cell_type": "code",
   "execution_count": null,
   "metadata": {
    "collapsed": true
   },
   "outputs": [],
   "source": []
  },
  {
   "cell_type": "markdown",
   "metadata": {},
   "source": [
    "### Select Data"
   ]
  },
  {
   "cell_type": "markdown",
   "metadata": {},
   "source": [
    "#### only use loanstatus = fully_paid and charged off"
   ]
  },
  {
   "cell_type": "code",
   "execution_count": 53,
   "metadata": {},
   "outputs": [
    {
     "data": {
      "text/plain": [
       "Fully Paid            152324\n",
       "Current                43129\n",
       "Charged Off            36654\n",
       "Late (31-120 days)      1728\n",
       "In Grace Period         1362\n",
       "Late (16-30 days)        419\n",
       "Default                   13\n",
       "Name: loanstatus, dtype: int64"
      ]
     },
     "execution_count": 53,
     "metadata": {},
     "output_type": "execute_result"
    }
   ],
   "source": [
    "df.loanstatus.value_counts()"
   ]
  },
  {
   "cell_type": "code",
   "execution_count": 54,
   "metadata": {
    "collapsed": true
   },
   "outputs": [],
   "source": [
    "df = df.query(\"loanstatus == 'Fully Paid' or loanstatus == 'Charged Off'\")"
   ]
  },
  {
   "cell_type": "code",
   "execution_count": 55,
   "metadata": {},
   "outputs": [
    {
     "data": {
      "text/plain": [
       "(188978, 75)"
      ]
     },
     "execution_count": 55,
     "metadata": {},
     "output_type": "execute_result"
    }
   ],
   "source": [
    "df.shape"
   ]
  },
  {
   "cell_type": "markdown",
   "metadata": {},
   "source": [
    "#### only use term = 36 months"
   ]
  },
  {
   "cell_type": "code",
   "execution_count": 56,
   "metadata": {},
   "outputs": [
    {
     "data": {
      "text/plain": [
       " 36 months    162570\n",
       " 60 months     73059\n",
       "Name: term, dtype: int64"
      ]
     },
     "execution_count": 56,
     "metadata": {},
     "output_type": "execute_result"
    }
   ],
   "source": [
    "df1.term.value_counts()"
   ]
  },
  {
   "cell_type": "code",
   "execution_count": 57,
   "metadata": {
    "collapsed": true
   },
   "outputs": [],
   "source": [
    "df = df.query(\"term == ' 36 months'\")"
   ]
  },
  {
   "cell_type": "code",
   "execution_count": 58,
   "metadata": {},
   "outputs": [
    {
     "data": {
      "text/plain": [
       "(145650, 75)"
      ]
     },
     "execution_count": 58,
     "metadata": {},
     "output_type": "execute_result"
    }
   ],
   "source": [
    "df.shape"
   ]
  },
  {
   "cell_type": "code",
   "execution_count": 59,
   "metadata": {
    "collapsed": true
   },
   "outputs": [],
   "source": [
    "ob_feature.remove('term')"
   ]
  },
  {
   "cell_type": "code",
   "execution_count": null,
   "metadata": {
    "collapsed": true
   },
   "outputs": [],
   "source": []
  },
  {
   "cell_type": "markdown",
   "metadata": {
    "collapsed": true
   },
   "source": [
    "### Label Target"
   ]
  },
  {
   "cell_type": "code",
   "execution_count": 60,
   "metadata": {
    "collapsed": true
   },
   "outputs": [],
   "source": [
    "df['loanstatus'] = df.loanstatus.map({\"Charged Off\":1, \"Fully Paid\":0})"
   ]
  },
  {
   "cell_type": "code",
   "execution_count": 63,
   "metadata": {},
   "outputs": [
    {
     "data": {
      "text/plain": [
       "0    124046\n",
       "1     21604\n",
       "Name: loanstatus, dtype: int64"
      ]
     },
     "execution_count": 63,
     "metadata": {},
     "output_type": "execute_result"
    }
   ],
   "source": [
    "df['loanstatus'].value_counts()"
   ]
  },
  {
   "cell_type": "code",
   "execution_count": 64,
   "metadata": {},
   "outputs": [
    {
     "data": {
      "text/plain": [
       "0    0.851672\n",
       "1    0.148328\n",
       "Name: loanstatus, dtype: float64"
      ]
     },
     "execution_count": 64,
     "metadata": {},
     "output_type": "execute_result"
    }
   ],
   "source": [
    "df['loanstatus'].value_counts(normalize = True)"
   ]
  },
  {
   "cell_type": "code",
   "execution_count": null,
   "metadata": {
    "collapsed": true
   },
   "outputs": [],
   "source": []
  },
  {
   "cell_type": "markdown",
   "metadata": {},
   "source": [
    "### Out of time testing set and in-time training set (Oct-Dec as test)"
   ]
  },
  {
   "cell_type": "code",
   "execution_count": 65,
   "metadata": {},
   "outputs": [
    {
     "data": {
      "text/plain": [
       "['Dec-2014',\n",
       " 'Nov-2014',\n",
       " 'Oct-2014',\n",
       " 'Sep-2014',\n",
       " 'Aug-2014',\n",
       " 'Jul-2014',\n",
       " 'Jun-2014',\n",
       " 'May-2014',\n",
       " 'Apr-2014',\n",
       " 'Mar-2014',\n",
       " 'Feb-2014',\n",
       " 'Jan-2014']"
      ]
     },
     "execution_count": 65,
     "metadata": {},
     "output_type": "execute_result"
    }
   ],
   "source": [
    "issued = list(df['issued'].unique())\n",
    "issued"
   ]
  },
  {
   "cell_type": "code",
   "execution_count": 66,
   "metadata": {},
   "outputs": [
    {
     "data": {
      "text/plain": [
       "1    111919\n",
       "0     33731\n",
       "Name: train_flag, dtype: int64"
      ]
     },
     "execution_count": 66,
     "metadata": {},
     "output_type": "execute_result"
    }
   ],
   "source": [
    "df['train_flag'] = df.issued.apply(lambda x: 0 if x in issued[:3] else 1)\n",
    "df['train_flag'].value_counts()"
   ]
  },
  {
   "cell_type": "code",
   "execution_count": null,
   "metadata": {
    "collapsed": true
   },
   "outputs": [],
   "source": []
  },
  {
   "cell_type": "markdown",
   "metadata": {},
   "source": [
    "### Feature Engineering & Cleaning"
   ]
  },
  {
   "cell_type": "markdown",
   "metadata": {},
   "source": [
    "#### Datetime to numeric feature"
   ]
  },
  {
   "cell_type": "code",
   "execution_count": 68,
   "metadata": {},
   "outputs": [
    {
     "data": {
      "text/plain": [
       "array(['Sep-1989', 'Nov-1992', 'Aug-2002', 'Jan-1999', 'Jan-2001'], dtype=object)"
      ]
     },
     "execution_count": 68,
     "metadata": {},
     "output_type": "execute_result"
    }
   ],
   "source": [
    "df['earliestcrline'].unique()[:5]"
   ]
  },
  {
   "cell_type": "code",
   "execution_count": null,
   "metadata": {
    "collapsed": true
   },
   "outputs": [],
   "source": [
    "# convert to number of months to Dec 2014"
   ]
  },
  {
   "cell_type": "code",
   "execution_count": 70,
   "metadata": {
    "collapsed": true
   },
   "outputs": [],
   "source": [
    "c1_month = df['earliestcrline'].apply(lambda x: x.split('-')[0])\n",
    "c1_year = df['earliestcrline'].apply(lambda x: int(x.split('-')[1]))"
   ]
  },
  {
   "cell_type": "code",
   "execution_count": 71,
   "metadata": {},
   "outputs": [
    {
     "data": {
      "text/plain": [
       "array(['Sep', 'Nov', 'Aug', 'Jan', 'Jul', 'Oct', 'May', 'Dec', 'Jun',\n",
       "       'Apr', 'Mar', 'Feb'], dtype=object)"
      ]
     },
     "execution_count": 71,
     "metadata": {},
     "output_type": "execute_result"
    }
   ],
   "source": [
    "c1_month.unique()"
   ]
  },
  {
   "cell_type": "code",
   "execution_count": 72,
   "metadata": {},
   "outputs": [
    {
     "data": {
      "text/plain": [
       "array([1989, 1992, 2002, 1999, 2001, 2003, 1998, 2009, 1993, 1996, 1995,\n",
       "       2007, 1988, 2004, 1994, 2008, 2006, 1997, 2010, 2000, 2011, 1986,\n",
       "       1973, 2005, 1987, 1985, 1982, 1991, 1984, 1976, 1990, 1978, 1974,\n",
       "       1981, 1977, 1979, 1983, 1971, 1967, 1980, 1972, 1968, 1962, 1965,\n",
       "       1966, 1975, 1963, 1969, 1970, 1964, 1958, 1959, 1955, 1961, 1960,\n",
       "       1954, 1957, 1949, 1950, 1948, 1953, 1956])"
      ]
     },
     "execution_count": 72,
     "metadata": {},
     "output_type": "execute_result"
    }
   ],
   "source": [
    "c1_year.unique()"
   ]
  },
  {
   "cell_type": "code",
   "execution_count": 73,
   "metadata": {
    "collapsed": true
   },
   "outputs": [],
   "source": [
    "dict_month = {'Jan':11, 'Feb':10, 'Mar':9, 'Apr':8, 'May':7, 'Jun':6, 'Jul':5, 'Aug':4, 'Sep':3, 'Oct':2, 'Nov':1, 'Dec':0}"
   ]
  },
  {
   "cell_type": "code",
   "execution_count": 76,
   "metadata": {
    "collapsed": true
   },
   "outputs": [],
   "source": [
    "df['earliestcrline_m'] = df['earliestcrline'].apply(lambda x: (2014-int(x.split('-')[1]))*12 + dict_month[x.split('-')[0]])"
   ]
  },
  {
   "cell_type": "code",
   "execution_count": 77,
   "metadata": {},
   "outputs": [
    {
     "data": {
      "text/plain": [
       "0    303\n",
       "2    265\n",
       "3    148\n",
       "6    191\n",
       "9    167\n",
       "Name: earliestcrline_m, dtype: int64"
      ]
     },
     "execution_count": 77,
     "metadata": {},
     "output_type": "execute_result"
    }
   ],
   "source": [
    "df['earliestcrline_m'][:5]"
   ]
  },
  {
   "cell_type": "code",
   "execution_count": 78,
   "metadata": {
    "collapsed": true
   },
   "outputs": [],
   "source": [
    "num_feature.append('earliestcrline_m')\n",
    "ob_feature.remove('earliestcrline')"
   ]
  },
  {
   "cell_type": "code",
   "execution_count": 79,
   "metadata": {},
   "outputs": [
    {
     "name": "stdout",
     "output_type": "stream",
     "text": [
      "13 58\n"
     ]
    }
   ],
   "source": [
    "print(len(ob_feature), len(num_feature))"
   ]
  },
  {
   "cell_type": "code",
   "execution_count": null,
   "metadata": {
    "collapsed": true
   },
   "outputs": [],
   "source": []
  },
  {
   "cell_type": "markdown",
   "metadata": {},
   "source": [
    "#### emplength to numeric feature"
   ]
  },
  {
   "cell_type": "code",
   "execution_count": 80,
   "metadata": {},
   "outputs": [
    {
     "data": {
      "text/plain": [
       "0"
      ]
     },
     "execution_count": 80,
     "metadata": {},
     "output_type": "execute_result"
    }
   ],
   "source": [
    "df['emplength'].isnull().sum()"
   ]
  },
  {
   "cell_type": "code",
   "execution_count": 81,
   "metadata": {},
   "outputs": [
    {
     "data": {
      "text/plain": [
       "array(['8 years', '10+ years', '< 1 year', '2 years', '7 years', '9 years',\n",
       "       'n/a', '4 years', '3 years', '1 year', '5 years', '6 years'], dtype=object)"
      ]
     },
     "execution_count": 81,
     "metadata": {},
     "output_type": "execute_result"
    }
   ],
   "source": [
    "df['emplength'].unique()"
   ]
  },
  {
   "cell_type": "code",
   "execution_count": 82,
   "metadata": {
    "collapsed": true
   },
   "outputs": [],
   "source": [
    "df['emplength'].replace('n/a', np.nan, inplace = True)"
   ]
  },
  {
   "cell_type": "code",
   "execution_count": 83,
   "metadata": {
    "collapsed": true
   },
   "outputs": [],
   "source": [
    "df['emplength'].replace('< 1 year', 0, inplace = True)\n",
    "df['emplength'].replace(to_replace = '[^0-9]+', value = '', inplace = True, regex = True)\n",
    "df['emplength'].fillna(value = -999, inplace = True)"
   ]
  },
  {
   "cell_type": "code",
   "execution_count": 84,
   "metadata": {
    "collapsed": true
   },
   "outputs": [],
   "source": [
    "df['emplength'] = df['emplength'].astype(int)"
   ]
  },
  {
   "cell_type": "code",
   "execution_count": 85,
   "metadata": {},
   "outputs": [
    {
     "data": {
      "text/plain": [
       " 10     45565\n",
       " 2      13198\n",
       " 3      11844\n",
       " 0      11777\n",
       " 1       9550\n",
       " 4       8579\n",
       "-999     8365\n",
       " 5       8291\n",
       " 7       8065\n",
       " 6       7485\n",
       " 8       7262\n",
       " 9       5669\n",
       "Name: emplength, dtype: int64"
      ]
     },
     "execution_count": 85,
     "metadata": {},
     "output_type": "execute_result"
    }
   ],
   "source": [
    "df['emplength'].value_counts()"
   ]
  },
  {
   "cell_type": "code",
   "execution_count": 86,
   "metadata": {},
   "outputs": [
    {
     "ename": "NameError",
     "evalue": "name 'num_featue' is not defined",
     "output_type": "error",
     "traceback": [
      "\u001b[0;31m---------------------------------------------------------------------------\u001b[0m",
      "\u001b[0;31mNameError\u001b[0m                                 Traceback (most recent call last)",
      "\u001b[0;32m<ipython-input-86-fd1a39ec4961>\u001b[0m in \u001b[0;36m<module>\u001b[0;34m()\u001b[0m\n\u001b[1;32m      1\u001b[0m \u001b[0mnum_feature\u001b[0m\u001b[0;34m.\u001b[0m\u001b[0mappend\u001b[0m\u001b[0;34m(\u001b[0m\u001b[0;34m'emplength'\u001b[0m\u001b[0;34m)\u001b[0m\u001b[0;34m\u001b[0m\u001b[0m\n\u001b[1;32m      2\u001b[0m \u001b[0mob_feature\u001b[0m\u001b[0;34m.\u001b[0m\u001b[0mremove\u001b[0m\u001b[0;34m(\u001b[0m\u001b[0;34m'emplength'\u001b[0m\u001b[0;34m)\u001b[0m\u001b[0;34m\u001b[0m\u001b[0m\n\u001b[0;32m----> 3\u001b[0;31m \u001b[0mprint\u001b[0m \u001b[0;34m(\u001b[0m\u001b[0mlen\u001b[0m\u001b[0;34m(\u001b[0m\u001b[0mob_feature\u001b[0m\u001b[0;34m)\u001b[0m\u001b[0;34m,\u001b[0m \u001b[0mlen\u001b[0m\u001b[0;34m(\u001b[0m\u001b[0mnum_featue\u001b[0m\u001b[0;34m)\u001b[0m\u001b[0;34m)\u001b[0m\u001b[0;34m\u001b[0m\u001b[0m\n\u001b[0m",
      "\u001b[0;31mNameError\u001b[0m: name 'num_featue' is not defined"
     ]
    }
   ],
   "source": [
    "num_feature.append('emplength')\n",
    "ob_feature.remove('emplength')"
   ]
  },
  {
   "cell_type": "code",
   "execution_count": 87,
   "metadata": {},
   "outputs": [
    {
     "name": "stdout",
     "output_type": "stream",
     "text": [
      "12 59\n"
     ]
    }
   ],
   "source": [
    "print (len(ob_feature), len(num_feature))"
   ]
  },
  {
   "cell_type": "code",
   "execution_count": null,
   "metadata": {
    "collapsed": true
   },
   "outputs": [],
   "source": []
  },
  {
   "cell_type": "markdown",
   "metadata": {},
   "source": [
    "#### % to numeric feature : intrate, revolutil"
   ]
  },
  {
   "cell_type": "code",
   "execution_count": 88,
   "metadata": {
    "collapsed": true
   },
   "outputs": [],
   "source": [
    "intrate = df['intrate'].apply(lambda x: float(x.replace('%', '')))"
   ]
  },
  {
   "cell_type": "code",
   "execution_count": 89,
   "metadata": {},
   "outputs": [
    {
     "data": {
      "text/plain": [
       "0     6.99\n",
       "2    13.66\n",
       "Name: intrate, dtype: float64"
      ]
     },
     "execution_count": 89,
     "metadata": {},
     "output_type": "execute_result"
    }
   ],
   "source": [
    "df['intrate'] = intrate\n",
    "df['intrate'][:2]"
   ]
  },
  {
   "cell_type": "code",
   "execution_count": 90,
   "metadata": {},
   "outputs": [
    {
     "data": {
      "text/plain": [
       "0    31.6%\n",
       "2    59.4%\n",
       "3    91.9%\n",
       "Name: revolutil, dtype: object"
      ]
     },
     "execution_count": 90,
     "metadata": {},
     "output_type": "execute_result"
    }
   ],
   "source": [
    "df['revolutil'][:3]"
   ]
  },
  {
   "cell_type": "code",
   "execution_count": 91,
   "metadata": {
    "collapsed": true
   },
   "outputs": [],
   "source": [
    "revolutil = df['revolutil'].apply(lambda x: str(x).replace('%', '')).astype(float)"
   ]
  },
  {
   "cell_type": "code",
   "execution_count": 92,
   "metadata": {},
   "outputs": [
    {
     "data": {
      "text/plain": [
       "0    31.6\n",
       "2    59.4\n",
       "Name: revolutil, dtype: float64"
      ]
     },
     "execution_count": 92,
     "metadata": {},
     "output_type": "execute_result"
    }
   ],
   "source": [
    "df['revolutil'] = revolutil\n",
    "df['revolutil'][:2]"
   ]
  },
  {
   "cell_type": "code",
   "execution_count": 93,
   "metadata": {
    "collapsed": true
   },
   "outputs": [],
   "source": [
    "ob_feature.remove('intrate')\n",
    "ob_feature.remove('revolutil')\n",
    "\n",
    "num_feature.append('intrate')\n",
    "num_feature.append('revolutil')"
   ]
  },
  {
   "cell_type": "code",
   "execution_count": 94,
   "metadata": {},
   "outputs": [
    {
     "name": "stdout",
     "output_type": "stream",
     "text": [
      "10 61\n"
     ]
    }
   ],
   "source": [
    "print (len(ob_feature), len(num_feature))"
   ]
  },
  {
   "cell_type": "code",
   "execution_count": null,
   "metadata": {
    "collapsed": true
   },
   "outputs": [],
   "source": []
  },
  {
   "cell_type": "markdown",
   "metadata": {},
   "source": [
    "#### Ordinal feature encoding: grade, subgrade"
   ]
  },
  {
   "cell_type": "code",
   "execution_count": 95,
   "metadata": {
    "collapsed": true
   },
   "outputs": [],
   "source": [
    "dict_grade = {\"A\":1,\n",
    "             \"B\":2,\n",
    "             \"C\":3,\n",
    "             \"D\":4,\n",
    "             \"E\":5,\n",
    "             \"F\":6,\n",
    "             \"G\":7}"
   ]
  },
  {
   "cell_type": "code",
   "execution_count": 96,
   "metadata": {
    "collapsed": true
   },
   "outputs": [],
   "source": [
    "df['grade'] = df['grade'].map(dict_grade)"
   ]
  },
  {
   "cell_type": "code",
   "execution_count": 98,
   "metadata": {
    "collapsed": true
   },
   "outputs": [],
   "source": [
    "df['subgrade'] = df['subgrade'].apply(lambda x: (dict_grade[x[0]] -1) * 5 + int(x[1]))"
   ]
  },
  {
   "cell_type": "code",
   "execution_count": 99,
   "metadata": {},
   "outputs": [
    {
     "data": {
      "text/plain": [
       "array([1, 3, 4, 2, 5, 6, 7])"
      ]
     },
     "execution_count": 99,
     "metadata": {},
     "output_type": "execute_result"
    }
   ],
   "source": [
    "df['grade'].unique()"
   ]
  },
  {
   "cell_type": "code",
   "execution_count": 100,
   "metadata": {},
   "outputs": [
    {
     "data": {
      "text/plain": [
       "array([ 3, 13, 20, 10, 14,  9, 17, 15,  8, 12, 11,  7,  5, 18, 25,  6,  4,\n",
       "       21, 16,  2,  1, 22, 27, 19, 29, 23, 24, 26, 28, 31, 32, 30, 33, 34,\n",
       "       35])"
      ]
     },
     "execution_count": 100,
     "metadata": {},
     "output_type": "execute_result"
    }
   ],
   "source": [
    "df['subgrade'].unique()"
   ]
  },
  {
   "cell_type": "code",
   "execution_count": 101,
   "metadata": {
    "collapsed": true
   },
   "outputs": [],
   "source": [
    "ob_feature.remove('grade')\n",
    "ob_feature.remove('subgrade')\n",
    "\n",
    "num_feature.append('grade')\n",
    "num_feature.append('subgrade')"
   ]
  },
  {
   "cell_type": "code",
   "execution_count": 105,
   "metadata": {},
   "outputs": [
    {
     "name": "stdout",
     "output_type": "stream",
     "text": [
      "7 64\n"
     ]
    }
   ],
   "source": [
    "print (len(ob_feature), len(num_feature))"
   ]
  },
  {
   "cell_type": "code",
   "execution_count": null,
   "metadata": {
    "collapsed": true
   },
   "outputs": [],
   "source": []
  },
  {
   "cell_type": "markdown",
   "metadata": {},
   "source": [
    "### High cardinality feature encoding"
   ]
  },
  {
   "cell_type": "markdown",
   "metadata": {},
   "source": [
    "#### Zip Code -frequency encoding"
   ]
  },
  {
   "cell_type": "code",
   "execution_count": 106,
   "metadata": {},
   "outputs": [
    {
     "data": {
      "text/plain": [
       "852"
      ]
     },
     "execution_count": 106,
     "metadata": {},
     "output_type": "execute_result"
    }
   ],
   "source": [
    "df.zipcode.nunique()"
   ]
  },
  {
   "cell_type": "code",
   "execution_count": 107,
   "metadata": {},
   "outputs": [
    {
     "data": {
      "text/plain": [
       "array(['937xx', '077xx', '850xx', '331xx', '144xx', '483xx', '982xx',\n",
       "       '554xx', '208xx', '852xx', '112xx', '926xx', '403xx', '463xx',\n",
       "       '853xx', '567xx', '960xx', '467xx', '810xx', '114xx', '232xx',\n",
       "       '130xx', '900xx', '196xx', '283xx', '324xx', '300xx', '560xx',\n",
       "       '670xx', '358xx', '210xx', '076xx', '402xx', '967xx', '363xx',\n",
       "       '958xx', '787xx', '629xx', '273xx', '802xx', '328xx', '750xx',\n",
       "       '917xx', '410xx', '179xx', '347xx', '379xx', '800xx', '442xx',\n",
       "       '574xx', '201xx', '922xx', '234xx', '620xx', '951xx', '871xx',\n",
       "       '774xx', '762xx', '789xx', '223xx', '481xx', '217xx', '857xx',\n",
       "       '949xx', '902xx', '971xx', '145xx', '189xx', '294xx', '571xx',\n",
       "       '170xx', '975xx', '604xx', '350xx', '928xx', '494xx', '840xx',\n",
       "       '088xx', '207xx', '751xx', '957xx', '953xx', '070xx', '113xx',\n",
       "       '276xx', '908xx', '563xx', '123xx', '440xx', '760xx', '191xx',\n",
       "       '988xx', '019xx', '939xx', '761xx', '783xx', '370xx', '735xx',\n",
       "       '730xx', '919xx', '707xx', '109xx', '972xx', '782xx', '708xx',\n",
       "       '627xx', '660xx', '282xx', '993xx', '220xx', '327xx', '606xx',\n",
       "       '891xx', '028xx', '984xx', '944xx', '466xx', '983xx', '921xx',\n",
       "       '074xx', '069xx', '946xx', '057xx', '200xx', '549xx', '532xx',\n",
       "       '301xx', '158xx', '705xx', '895xx', '462xx', '323xx', '700xx',\n",
       "       '281xx', '060xx', '925xx', '221xx', '275xx', '970xx', '710xx',\n",
       "       '361xx', '460xx', '240xx', '980xx', '945xx', '488xx', '378xx',\n",
       "       '190xx', '016xx', '284xx', '662xx', '087xx', '910xx', '339xx',\n",
       "       '082xx', '495xx', '071xx', '132xx', '337xx', '062xx', '100xx',\n",
       "       '597xx', '230xx', '261xx', '333xx', '104xx', '296xx', '329xx',\n",
       "       '640xx', '601xx', '303xx', '468xx', '763xx', '235xx', '630xx',\n",
       "       '068xx', '139xx', '334xx', '218xx', '081xx', '224xx', '595xx',\n",
       "       '253xx', '110xx', '740xx', '395xx', '559xx', '950xx', '140xx',\n",
       "       '121xx', '981xx', '453xx', '151xx', '940xx', '080xx', '786xx',\n",
       "       '184xx', '029xx', '703xx', '841xx', '479xx', '773xx', '336xx',\n",
       "       '641xx', '254xx', '038xx', '613xx', '435xx', '727xx', '780xx',\n",
       "       '322xx', '714xx', '907xx', '108xx', '956xx', '193xx', '306xx',\n",
       "       '617xx', '153xx', '920xx', '430xx', '916xx', '675xx', '209xx',\n",
       "       '672xx', '530xx', '754xx', '078xx', '535xx', '826xx', '605xx',\n",
       "       '706xx', '451xx', '212xx', '905xx', '167xx', '913xx', '064xx',\n",
       "       '985xx', '211xx', '550xx', '973xx', '531xx', '553xx', '142xx',\n",
       "       '851xx', '765xx', '770xx', '105xx', '107xx', '194xx', '120xx',\n",
       "       '600xx', '927xx', '545xx', '610xx', '539xx', '352xx', '173xx',\n",
       "       '809xx', '280xx', '066xx', '775xx', '803xx', '482xx', '544xx',\n",
       "       '292xx', '117xx', '115xx', '890xx', '226xx', '551xx', '721xx',\n",
       "       '864xx', '374xx', '342xx', '805xx', '906xx', '131xx', '570xx',\n",
       "       '547xx', '360xx', '801xx', '330xx', '152xx', '704xx', '111xx',\n",
       "       '846xx', '227xx', '214xx', '390xx', '820xx', '723xx', '489xx',\n",
       "       '315xx', '150xx', '263xx', '030xx', '372xx', '349xx', '656xx',\n",
       "       '335xx', '297xx', '923xx', '498xx', '305xx', '326xx', '249xx',\n",
       "       '101xx', '180xx', '346xx', '480xx', '255xx', '860xx', '286xx',\n",
       "       '154xx', '968xx', '198xx', '313xx', '609xx', '558xx', '603xx',\n",
       "       '882xx', '161xx', '537xx', '225xx', '843xx', '278xx', '344xx',\n",
       "       '015xx', '752xx', '020xx', '270xx', '445xx', '452xx', '027xx',\n",
       "       '103xx', '461xx', '912xx', '469xx', '776xx', '017xx', '825xx',\n",
       "       '744xx', '032xx', '072xx', '293xx', '319xx', '274xx', '731xx',\n",
       "       '024xx', '767xx', '257xx', '021xx', '476xx', '432xx', '061xx',\n",
       "       '941xx', '465xx', '441xx', '236xx', '557xx', '185xx', '341xx',\n",
       "       '396xx', '995xx', '622xx', '063xx', '804xx', '607xx', '741xx',\n",
       "       '119xx', '490xx', '183xx', '647xx', '073xx', '147xx', '593xx',\n",
       "       '401xx', '811xx', '456xx', '450xx', '172xx', '863xx', '930xx',\n",
       "       '325xx', '443xx', '903xx', '371xx', '543xx', '757xx', '497xx',\n",
       "       '014xx', '231xx', '974xx', '320xx', '785xx', '959xx', '206xx',\n",
       "       '162xx', '302xx', '637xx', '295xx', '986xx', '033xx', '935xx',\n",
       "       '894xx', '797xx', '645xx', '034xx', '806xx', '484xx', '143xx',\n",
       "       '546xx', '954xx', '128xx', '596xx', '013xx', '932xx', '611xx',\n",
       "       '338xx', '541xx', '085xx', '992xx', '652xx', '423xx', '317xx',\n",
       "       '781xx', '676xx', '790xx', '918xx', '381xx', '880xx', '195xx',\n",
       "       '241xx', '287xx', '124xx', '083xx', '491xx', '711xx', '354xx',\n",
       "       '565xx', '897xx', '712xx', '307xx', '475xx', '177xx', '952xx',\n",
       "       '299xx', '471xx', '366xx', '914xx', '376xx', '936xx', '272xx',\n",
       "       '844xx', '931xx', '178xx', '054xx', '386xx', '678xx', '573xx',\n",
       "       '991xx', '977xx', '726xx', '615xx', '405xx', '216xx', '134xx',\n",
       "       '050xx', '948xx', '747xx', '631xx', '314xx', '075xx', '160xx',\n",
       "       '562xx', '156xx', '808xx', '176xx', '436xx', '934xx', '875xx',\n",
       "       '245xx', '881xx', '458xx', '125xx', '720xx', '989xx', '197xx',\n",
       "       '365xx', '657xx', '010xx', '229xx', '382xx', '141xx', '486xx',\n",
       "       '288xx', '764xx', '856xx', '799xx', '373xx', '239xx', '447xx',\n",
       "       '439xx', '318xx', '148xx', '791xx', '437xx', '175xx', '788xx',\n",
       "       '874xx', '357xx', '759xx', '186xx', '290xx', '321xx', '182xx',\n",
       "       '633xx', '955xx', '813xx', '135xx', '271xx', '893xx', '018xx',\n",
       "       '387xx', '079xx', '171xx', '298xx', '383xx', '380xx', '233xx',\n",
       "       '493xx', '420xx', '655xx', '591xx', '602xx', '796xx', '990xx',\n",
       "       '816xx', '136xx', '362xx', '022xx', '146xx', '446xx', '181xx',\n",
       "       '310xx', '777xx', '728xx', '653xx', '067xx', '793xx', '870xx',\n",
       "       '431xx', '658xx', '174xx', '999xx', '756xx', '449xx', '779xx',\n",
       "       '026xx', '667xx', '316xx', '023xx', '898xx', '566xx', '666xx',\n",
       "       '116xx', '674xx', '978xx', '400xx', '650xx', '454xx', '285xx',\n",
       "       '877xx', '011xx', '277xx', '377xx', '477xx', '592xx', '636xx',\n",
       "       '356xx', '717xx', '222xx', '824xx', '915xx', '086xx', '137xx',\n",
       "       '701xx', '102xx', '933xx', '265xx', '165xx', '199xx', '648xx',\n",
       "       '769xx', '037xx', '118xx', '947xx', '394xx', '392xx', '828xx',\n",
       "       '598xx', '499xx', '665xx', '878xx', '168xx', '845xx', '351xx',\n",
       "       '737xx', '963xx', '664xx', '464xx', '564xx', '089xx', '388xx',\n",
       "       '794xx', '883xx', '279xx', '542xx', '238xx', '169xx', '997xx',\n",
       "       '577xx', '614xx', '368xx', '444xx', '129xx', '122xx', '729xx',\n",
       "       '065xx', '619xx', '421xx', '755xx', '738xx', '996xx', '291xx',\n",
       "       '138xx', '359xx', '433xx', '778xx', '661xx', '748xx', '415xx',\n",
       "       '798xx', '434xx', '304xx', '309xx', '228xx', '812xx', '716xx',\n",
       "       '312xx', '384xx', '792xx', '638xx', '961xx', '056xx', '187xx',\n",
       "       '496xx', '618xx', '739xx', '393xx', '538xx', '575xx', '487xx',\n",
       "       '718xx', '492xx', '457xx', '035xx', '406xx', '397xx', '766xx',\n",
       "       '829xx', '599xx', '424xx', '385xx', '332xx', '639xx', '242xx',\n",
       "       '448xx', '416xx', '815xx', '784xx', '540xx', '106xx', '052xx',\n",
       "       '485xx', '548xx', '478xx', '308xx', '719xx', '252xx', '051xx',\n",
       "       '367xx', '924xx', '998xx', '411xx', '474xx', '407xx', '472xx',\n",
       "       '847xx', '745xx', '094xx', '807xx', '025xx', '814xx', '736xx',\n",
       "       '149xx', '625xx', '724xx', '628xx', '646xx', '188xx', '262xx',\n",
       "       '594xx', '746xx', '624xx', '904xx', '612xx', '237xx', '364xx',\n",
       "       '671xx', '859xx', '251xx', '126xx', '012xx', '157xx', '166xx',\n",
       "       '155xx', '422xx', '911xx', '768xx', '722xx', '713xx', '127xx',\n",
       "       '734xx', '654xx', '247xx', '616xx', '626xx', '623xx', '831xx',\n",
       "       '243xx', '827xx', '260xx', '725xx', '534xx', '391xx', '091xx',\n",
       "       '246xx', '031xx', '096xx', '259xx', '473xx', '500xx', '244xx',\n",
       "       '429xx', '572xx', '873xx', '455xx', '219xx', '651xx', '133xx',\n",
       "       '979xx', '215xx', '855xx', '404xx', '163xx', '355xx', '608xx',\n",
       "       '256xx', '561xx', '267xx', '438xx', '266xx', '470xx', '994xx',\n",
       "       '830xx', '822xx', '164xx', '159xx', '879xx', '264xx', '258xx',\n",
       "       '865xx', '884xx', '417xx', '590xx', '682xx', '268xx', '556xx',\n",
       "       '398xx', '425xx', '634xx', '248xx', '976xx', '758xx', '289xx',\n",
       "       '772xx', '644xx', '677xx', '058xx', '679xx', '084xx', '389xx',\n",
       "       '943xx', '753xx', '427xx', '795xx', '311xx', '749xx', '250xx',\n",
       "       '408xx', '053xx', '854xx', '635xx', '369xx', '413xx', '414xx',\n",
       "       '409xx', '673xx', '743xx', '059xx', '090xx', '576xx', '412xx',\n",
       "       '668xx', '036xx', '669xx', '962xx', '523xx', '527xx', '938xx',\n",
       "       '685xx', '833xx', '418xx', '681xx', '008xx', '098xx', '823xx',\n",
       "       '426xx', '092xx', '510xx', '942xx', '680xx', '834xx', '821xx',\n",
       "       '587xx', '832xx', '511xx', '901xx', '043xx'], dtype=object)"
      ]
     },
     "execution_count": 107,
     "metadata": {},
     "output_type": "execute_result"
    }
   ],
   "source": [
    "df['zipcode'].unique()"
   ]
  },
  {
   "cell_type": "code",
   "execution_count": 111,
   "metadata": {},
   "outputs": [
    {
     "data": {
      "text/plain": [
       "array(['937xx', '077xx', '850xx', '331xx', '144xx'], dtype=object)"
      ]
     },
     "execution_count": 111,
     "metadata": {},
     "output_type": "execute_result"
    }
   ],
   "source": [
    "df['zipcode'].unique()[:5]"
   ]
  },
  {
   "cell_type": "code",
   "execution_count": 112,
   "metadata": {
    "collapsed": true
   },
   "outputs": [],
   "source": [
    "# convert zipcode to int\n",
    "df['zipcode'] = df['zipcode'].apply(lambda x: int(x[0:3]))"
   ]
  },
  {
   "cell_type": "code",
   "execution_count": 113,
   "metadata": {},
   "outputs": [
    {
     "data": {
      "text/plain": [
       "0    937\n",
       "2     77\n",
       "3    850\n",
       "6    331\n",
       "9    144\n",
       "Name: zipcode, dtype: int64"
      ]
     },
     "execution_count": 113,
     "metadata": {},
     "output_type": "execute_result"
    }
   ],
   "source": [
    "df['zipcode'][:5]"
   ]
  },
  {
   "cell_type": "code",
   "execution_count": 114,
   "metadata": {
    "collapsed": true
   },
   "outputs": [],
   "source": [
    "zipcode_freq = df.groupby(\"zipcode\").size().reset_index()"
   ]
  },
  {
   "cell_type": "code",
   "execution_count": 115,
   "metadata": {},
   "outputs": [
    {
     "data": {
      "text/html": [
       "<div>\n",
       "<style>\n",
       "    .dataframe thead tr:only-child th {\n",
       "        text-align: right;\n",
       "    }\n",
       "\n",
       "    .dataframe thead th {\n",
       "        text-align: left;\n",
       "    }\n",
       "\n",
       "    .dataframe tbody tr th {\n",
       "        vertical-align: top;\n",
       "    }\n",
       "</style>\n",
       "<table border=\"1\" class=\"dataframe\">\n",
       "  <thead>\n",
       "    <tr style=\"text-align: right;\">\n",
       "      <th></th>\n",
       "      <th>zipcode</th>\n",
       "      <th>0</th>\n",
       "    </tr>\n",
       "  </thead>\n",
       "  <tbody>\n",
       "    <tr>\n",
       "      <th>0</th>\n",
       "      <td>8</td>\n",
       "      <td>1</td>\n",
       "    </tr>\n",
       "    <tr>\n",
       "      <th>1</th>\n",
       "      <td>10</td>\n",
       "      <td>209</td>\n",
       "    </tr>\n",
       "    <tr>\n",
       "      <th>2</th>\n",
       "      <td>11</td>\n",
       "      <td>55</td>\n",
       "    </tr>\n",
       "    <tr>\n",
       "      <th>3</th>\n",
       "      <td>12</td>\n",
       "      <td>57</td>\n",
       "    </tr>\n",
       "    <tr>\n",
       "      <th>4</th>\n",
       "      <td>13</td>\n",
       "      <td>39</td>\n",
       "    </tr>\n",
       "  </tbody>\n",
       "</table>\n",
       "</div>"
      ],
      "text/plain": [
       "   zipcode    0\n",
       "0        8    1\n",
       "1       10  209\n",
       "2       11   55\n",
       "3       12   57\n",
       "4       13   39"
      ]
     },
     "execution_count": 115,
     "metadata": {},
     "output_type": "execute_result"
    }
   ],
   "source": [
    "zipcode_freq[:5]"
   ]
  },
  {
   "cell_type": "code",
   "execution_count": 116,
   "metadata": {},
   "outputs": [
    {
     "data": {
      "text/plain": [
       "750    1599\n",
       "945    1588\n",
       "112    1584\n",
       "606    1501\n",
       "300    1297\n",
       "100    1279\n",
       "900    1269\n",
       "331    1253\n",
       "770    1222\n",
       "70     1221\n",
       "917    1112\n",
       "891    1111\n",
       "104    1088\n",
       "330    1063\n",
       "117    1000\n",
       "921     992\n",
       "852     957\n",
       "913     887\n",
       "926     856\n",
       "925     842\n",
       "113     802\n",
       "334     798\n",
       "600     790\n",
       "481     774\n",
       "601     754\n",
       "604     754\n",
       "956     747\n",
       "941     730\n",
       "853     726\n",
       "928     724\n",
       "       ... \n",
       "94        4\n",
       "414       3\n",
       "91        3\n",
       "311       3\n",
       "90        3\n",
       "879       3\n",
       "884       3\n",
       "834       2\n",
       "98        2\n",
       "833       1\n",
       "938       1\n",
       "832       1\n",
       "500       1\n",
       "587       1\n",
       "511       1\n",
       "682       1\n",
       "901       1\n",
       "527       1\n",
       "43        1\n",
       "92        1\n",
       "429       1\n",
       "685       1\n",
       "8         1\n",
       "942       1\n",
       "680       1\n",
       "510       1\n",
       "854       1\n",
       "821       1\n",
       "681       1\n",
       "523       1\n",
       "Name: zipcode, Length: 852, dtype: int64"
      ]
     },
     "execution_count": 116,
     "metadata": {},
     "output_type": "execute_result"
    }
   ],
   "source": [
    "df['zipcode'].value_counts()"
   ]
  },
  {
   "cell_type": "code",
   "execution_count": 117,
   "metadata": {
    "collapsed": true
   },
   "outputs": [],
   "source": [
    "zipcode_freq.columns = [\"zipcode\", \"zipcode_freq\"]"
   ]
  },
  {
   "cell_type": "code",
   "execution_count": 118,
   "metadata": {
    "collapsed": true
   },
   "outputs": [],
   "source": [
    "df = pd.merge(df, zipcode_freq, how = 'left', on = 'zipcode')"
   ]
  },
  {
   "cell_type": "code",
   "execution_count": 119,
   "metadata": {},
   "outputs": [
    {
     "data": {
      "text/plain": [
       "0     224\n",
       "1     326\n",
       "2     664\n",
       "3    1253\n",
       "4     182\n",
       "Name: zipcode_freq, dtype: int64"
      ]
     },
     "execution_count": 119,
     "metadata": {},
     "output_type": "execute_result"
    }
   ],
   "source": [
    "df['zipcode_freq'][:5]"
   ]
  },
  {
   "cell_type": "code",
   "execution_count": 120,
   "metadata": {
    "collapsed": true
   },
   "outputs": [],
   "source": [
    "ob_feature.remove('zipcode')\n",
    "\n",
    "num_feature.append('zipcode')\n",
    "num_feature.append('zipcode_freq')"
   ]
  },
  {
   "cell_type": "code",
   "execution_count": 121,
   "metadata": {},
   "outputs": [
    {
     "name": "stdout",
     "output_type": "stream",
     "text": [
      "6 66\n"
     ]
    }
   ],
   "source": [
    "print (len(ob_feature), len(num_feature))"
   ]
  },
  {
   "cell_type": "code",
   "execution_count": null,
   "metadata": {
    "collapsed": true
   },
   "outputs": [],
   "source": []
  },
  {
   "cell_type": "markdown",
   "metadata": {},
   "source": [
    "#### emptitle-frequency encoding (can do some NLP for later stage)"
   ]
  },
  {
   "cell_type": "code",
   "execution_count": 122,
   "metadata": {
    "collapsed": true
   },
   "outputs": [],
   "source": [
    "emptitle_freq = df.groupby('emptitle').size().reset_index()"
   ]
  },
  {
   "cell_type": "code",
   "execution_count": 127,
   "metadata": {},
   "outputs": [
    {
     "data": {
      "text/html": [
       "<div>\n",
       "<style>\n",
       "    .dataframe thead tr:only-child th {\n",
       "        text-align: right;\n",
       "    }\n",
       "\n",
       "    .dataframe thead th {\n",
       "        text-align: left;\n",
       "    }\n",
       "\n",
       "    .dataframe tbody tr th {\n",
       "        vertical-align: top;\n",
       "    }\n",
       "</style>\n",
       "<table border=\"1\" class=\"dataframe\">\n",
       "  <thead>\n",
       "    <tr style=\"text-align: right;\">\n",
       "      <th></th>\n",
       "      <th>emptitle</th>\n",
       "      <th>emptitle_freq</th>\n",
       "    </tr>\n",
       "  </thead>\n",
       "  <tbody>\n",
       "    <tr>\n",
       "      <th>0</th>\n",
       "      <td>Credit rev specialist</td>\n",
       "      <td>1</td>\n",
       "    </tr>\n",
       "    <tr>\n",
       "      <th>1</th>\n",
       "      <td>Shipper/packer</td>\n",
       "      <td>1</td>\n",
       "    </tr>\n",
       "    <tr>\n",
       "      <th>2</th>\n",
       "      <td>AP Coordinator</td>\n",
       "      <td>1</td>\n",
       "    </tr>\n",
       "    <tr>\n",
       "      <th>3</th>\n",
       "      <td>Accounting &amp; HR &amp; Sales</td>\n",
       "      <td>1</td>\n",
       "    </tr>\n",
       "    <tr>\n",
       "      <th>4</th>\n",
       "      <td>Assistant Principal</td>\n",
       "      <td>1</td>\n",
       "    </tr>\n",
       "  </tbody>\n",
       "</table>\n",
       "</div>"
      ],
      "text/plain": [
       "                   emptitle  emptitle_freq\n",
       "0     Credit rev specialist              1\n",
       "1            Shipper/packer              1\n",
       "2            AP Coordinator              1\n",
       "3   Accounting & HR & Sales              1\n",
       "4       Assistant Principal              1"
      ]
     },
     "execution_count": 127,
     "metadata": {},
     "output_type": "execute_result"
    }
   ],
   "source": [
    "emptitle_freq[:5]"
   ]
  },
  {
   "cell_type": "code",
   "execution_count": 123,
   "metadata": {},
   "outputs": [
    {
     "data": {
      "text/plain": [
       "Teacher                                   2800\n",
       "Manager                                   2252\n",
       "Registered Nurse                          1220\n",
       "RN                                        1106\n",
       "Supervisor                                 976\n",
       "Owner                                      898\n",
       "Sales                                      876\n",
       "Project Manager                            799\n",
       "Office Manager                             760\n",
       "Driver                                     713\n",
       "manager                                    702\n",
       "teacher                                    637\n",
       "Director                                   598\n",
       "General Manager                            592\n",
       "President                                  519\n",
       "owner                                      517\n",
       "driver                                     516\n",
       "Engineer                                   491\n",
       "Administrative Assistant                   476\n",
       "Vice President                             448\n",
       "Attorney                                   446\n",
       "Accountant                                 419\n",
       "Operations Manager                         407\n",
       "supervisor                                 386\n",
       "sales                                      386\n",
       "Sales Manager                              363\n",
       "Police Officer                             331\n",
       "truck driver                               331\n",
       "Executive Assistant                        331\n",
       "Account Manager                            329\n",
       "                                          ... \n",
       "Test operation manager                       1\n",
       "Tool Rental Supervisor                       1\n",
       "Manager, Youth Sales                         1\n",
       "Specialist, Business Consulting              1\n",
       "Jaintor                                      1\n",
       "House Dic Jockey , Server                    1\n",
       "Senior Contract Specialist                   1\n",
       "Civil Foreman                                1\n",
       "Lead Brewer                                  1\n",
       "Assistant Commonwealth Attorney              1\n",
       "Business Relationship Management             1\n",
       "Assistant Director of Customer Service       1\n",
       "Finance and Accounting                       1\n",
       "driving                                      1\n",
       "Senior Clinical Data Coordinator             1\n",
       "Human Resources Manager Senior               1\n",
       "Office Support Associate                     1\n",
       "Admissions Manager                           1\n",
       "Driver manager                               1\n",
       "key hourly                                   1\n",
       "Process Engineering Manager                  1\n",
       "Sergeant Police                              1\n",
       "OSHA Log Coordinator-LPN                     1\n",
       "Medical Billing Supervisor                   1\n",
       "Program Operations Director                  1\n",
       "Mechanic electrician                         1\n",
       "Director of Physical Therapy                 1\n",
       "Analytics Specialist                         1\n",
       "System Support Service Desk Manager          1\n",
       "Wardrobe Consultant                          1\n",
       "Name: emptitle, Length: 50309, dtype: int64"
      ]
     },
     "execution_count": 123,
     "metadata": {},
     "output_type": "execute_result"
    }
   ],
   "source": [
    "df['emptitle'].value_counts()"
   ]
  },
  {
   "cell_type": "code",
   "execution_count": 124,
   "metadata": {
    "collapsed": true
   },
   "outputs": [],
   "source": [
    "emptitle_freq.columns = ['emptitle', 'emptitle_freq']"
   ]
  },
  {
   "cell_type": "code",
   "execution_count": 125,
   "metadata": {
    "collapsed": true
   },
   "outputs": [],
   "source": [
    "df = pd.merge(df, emptitle_freq, how = 'left', on = 'emptitle')"
   ]
  },
  {
   "cell_type": "code",
   "execution_count": 126,
   "metadata": {},
   "outputs": [
    {
     "data": {
      "text/plain": [
       "0      1.0\n",
       "1      4.0\n",
       "2     15.0\n",
       "3    876.0\n",
       "4     12.0\n",
       "Name: emptitle_freq, dtype: float64"
      ]
     },
     "execution_count": 126,
     "metadata": {},
     "output_type": "execute_result"
    }
   ],
   "source": [
    "df['emptitle_freq'][:5]"
   ]
  },
  {
   "cell_type": "code",
   "execution_count": 128,
   "metadata": {
    "collapsed": true
   },
   "outputs": [],
   "source": [
    "ob_feature.remove('emptitle')\n",
    "num_feature.append('emptitle_freq')"
   ]
  },
  {
   "cell_type": "code",
   "execution_count": 130,
   "metadata": {},
   "outputs": [
    {
     "name": "stdout",
     "output_type": "stream",
     "text": [
      "5 67\n"
     ]
    }
   ],
   "source": [
    "print (len(ob_feature), len(num_feature))"
   ]
  },
  {
   "cell_type": "markdown",
   "metadata": {},
   "source": [
    "#### Addr_state-feequency encoding"
   ]
  },
  {
   "cell_type": "code",
   "execution_count": 131,
   "metadata": {
    "collapsed": true
   },
   "outputs": [],
   "source": [
    "addrstate_freq = df.groupby('addrstate').size().reset_index()\n",
    "addrstate_freq.columns = ['addrstate', 'addrstate_freq']\n",
    "df = pd.merge(df, addrstate_freq, how='left', on='addrstate')"
   ]
  },
  {
   "cell_type": "code",
   "execution_count": 132,
   "metadata": {
    "collapsed": true
   },
   "outputs": [],
   "source": [
    "ob_feature.remove('addrstate')\n",
    "num_feature.append('addrstate_freq')"
   ]
  },
  {
   "cell_type": "code",
   "execution_count": 133,
   "metadata": {},
   "outputs": [
    {
     "name": "stdout",
     "output_type": "stream",
     "text": [
      "4 68\n"
     ]
    }
   ],
   "source": [
    "print (len(ob_feature), len(num_feature))"
   ]
  },
  {
   "cell_type": "code",
   "execution_count": null,
   "metadata": {
    "collapsed": true
   },
   "outputs": [],
   "source": []
  },
  {
   "cell_type": "markdown",
   "metadata": {},
   "source": [
    "#### One Hot Encoding"
   ]
  },
  {
   "cell_type": "code",
   "execution_count": 134,
   "metadata": {},
   "outputs": [
    {
     "data": {
      "text/plain": [
       "['homeownership', 'verificationstatus', 'purpose', 'initialliststatus']"
      ]
     },
     "execution_count": 134,
     "metadata": {},
     "output_type": "execute_result"
    }
   ],
   "source": [
    "ob_feature"
   ]
  },
  {
   "cell_type": "code",
   "execution_count": 135,
   "metadata": {
    "collapsed": true
   },
   "outputs": [],
   "source": [
    "dummy_feature = ob_feature"
   ]
  },
  {
   "cell_type": "code",
   "execution_count": 136,
   "metadata": {
    "collapsed": true
   },
   "outputs": [],
   "source": [
    "df_dummy = pd.get_dummies(df[dummy_feature])"
   ]
  },
  {
   "cell_type": "code",
   "execution_count": 137,
   "metadata": {},
   "outputs": [
    {
     "data": {
      "text/plain": [
       "['homeownership_ANY',\n",
       " 'homeownership_MORTGAGE',\n",
       " 'homeownership_OWN',\n",
       " 'homeownership_RENT',\n",
       " 'verificationstatus_Not Verified',\n",
       " 'verificationstatus_Source Verified',\n",
       " 'verificationstatus_Verified',\n",
       " 'purpose_car',\n",
       " 'purpose_credit_card',\n",
       " 'purpose_debt_consolidation',\n",
       " 'purpose_home_improvement',\n",
       " 'purpose_house',\n",
       " 'purpose_major_purchase',\n",
       " 'purpose_medical',\n",
       " 'purpose_moving',\n",
       " 'purpose_other',\n",
       " 'purpose_renewable_energy',\n",
       " 'purpose_small_business',\n",
       " 'purpose_vacation',\n",
       " 'purpose_wedding',\n",
       " 'initialliststatus_f',\n",
       " 'initialliststatus_w']"
      ]
     },
     "execution_count": 137,
     "metadata": {},
     "output_type": "execute_result"
    }
   ],
   "source": [
    "OHE_feature = list(df_dummy.columns.values)\n",
    "OHE_feature"
   ]
  },
  {
   "cell_type": "code",
   "execution_count": 138,
   "metadata": {},
   "outputs": [
    {
     "data": {
      "text/plain": [
       "22"
      ]
     },
     "execution_count": 138,
     "metadata": {},
     "output_type": "execute_result"
    }
   ],
   "source": [
    "len(OHE_feature)"
   ]
  },
  {
   "cell_type": "code",
   "execution_count": 139,
   "metadata": {
    "collapsed": true
   },
   "outputs": [],
   "source": [
    "df = pd.concat([df, df_dummy], axis = 1)"
   ]
  },
  {
   "cell_type": "code",
   "execution_count": 140,
   "metadata": {},
   "outputs": [
    {
     "data": {
      "text/plain": [
       "(145650, 102)"
      ]
     },
     "execution_count": 140,
     "metadata": {},
     "output_type": "execute_result"
    }
   ],
   "source": [
    "df.shape"
   ]
  },
  {
   "cell_type": "code",
   "execution_count": 141,
   "metadata": {},
   "outputs": [
    {
     "data": {
      "text/plain": [
       "90"
      ]
     },
     "execution_count": 141,
     "metadata": {},
     "output_type": "execute_result"
    }
   ],
   "source": [
    "select_feature = num_feature + OHE_feature\n",
    "len(select_feature)"
   ]
  },
  {
   "cell_type": "code",
   "execution_count": null,
   "metadata": {
    "collapsed": true
   },
   "outputs": [],
   "source": []
  },
  {
   "cell_type": "markdown",
   "metadata": {},
   "source": [
    "### XGBoost"
   ]
  },
  {
   "cell_type": "code",
   "execution_count": 142,
   "metadata": {},
   "outputs": [
    {
     "name": "stdout",
     "output_type": "stream",
     "text": [
      "['totalbclimit', 'loanamnt', 'numtloppast12m', 'pubrecbankruptcies', 'taxliens', 'totalilhighcreditlimit', 'pcttlnvrdlq', 'mosinrcnttl', 'accnowdelinq', 'totalbalexmort', 'tothicredlim', 'bcutil', 'mthssincerecentinq', 'mortacc', 'numrevaccts', 'numtl120dpd2m', 'mthssincelastdelinq', 'mthssincelastmajorderog', 'revolbal', 'mosinoldrevtlop', 'accopenpast24mths', 'mosinoldilacct', 'numiltl', 'ficorangehigh', 'totcollamt', 'installment', 'mosinrcntrevtlop', 'numtl90gdpd24m', 'inqlast6mths', 'numactvbctl', 'totcurbal', 'annualinc', 'openacc', 'mthssincerecentbcdlq', 'totalacc', 'collections12mthsexmed', 'totalrevhilim', 'dti', 'numrevtlbalgt0', 'numoprevtl', 'numtl30dpd', 'delinqamnt', 'numactvrevtl', 'numbcsats', 'numsats', 'bcopentobuy', 'ficorangelow', 'numacctsever120pd', 'chargeoffwithin12mths', 'pubrec', 'mthssincelastrecord', 'mthssincerecentrevoldelinq', 'delinq2yrs', 'mthssincerecentbc', 'numbctl', 'avgcurbal', 'percentbcgt75', 'earliestcrline_m', 'emplength', 'intrate', 'revolutil', 'grade', 'subgrade', 'withdesc', 'zipcode', 'zipcode_freq', 'emptitle_freq', 'addrstate_freq', 'homeownership_ANY', 'homeownership_MORTGAGE', 'homeownership_OWN', 'homeownership_RENT', 'verificationstatus_Not Verified', 'verificationstatus_Source Verified', 'verificationstatus_Verified', 'purpose_car', 'purpose_credit_card', 'purpose_debt_consolidation', 'purpose_home_improvement', 'purpose_house', 'purpose_major_purchase', 'purpose_medical', 'purpose_moving', 'purpose_other', 'purpose_renewable_energy', 'purpose_small_business', 'purpose_vacation', 'purpose_wedding', 'initialliststatus_f', 'initialliststatus_w']\n"
     ]
    }
   ],
   "source": [
    "feat = select_feature\n",
    "print(feat)"
   ]
  },
  {
   "cell_type": "markdown",
   "metadata": {},
   "source": [
    "#### Preliminary manually parameter tuning based on stratified train-test split"
   ]
  },
  {
   "cell_type": "code",
   "execution_count": 144,
   "metadata": {
    "collapsed": true
   },
   "outputs": [],
   "source": [
    "from sklearn.cross_validation import StratifiedKFold\n",
    "from sklearn.cross_validation import train_test_split\n",
    "# Kfolds = StratifiedKFold(df_all['loan_status'], n_folds = 3, shuffle = True, random_state = 2019)"
   ]
  },
  {
   "cell_type": "code",
   "execution_count": 146,
   "metadata": {
    "collapsed": true
   },
   "outputs": [],
   "source": [
    "df_train = df.query(\"train_flag == 1\")\n",
    "df_test = df.query(\"train_flag == 0\")"
   ]
  },
  {
   "cell_type": "code",
   "execution_count": 147,
   "metadata": {},
   "outputs": [
    {
     "data": {
      "text/plain": [
       "(111919, 102)"
      ]
     },
     "execution_count": 147,
     "metadata": {},
     "output_type": "execute_result"
    }
   ],
   "source": [
    "df_train.shape"
   ]
  },
  {
   "cell_type": "code",
   "execution_count": 148,
   "metadata": {},
   "outputs": [
    {
     "data": {
      "text/plain": [
       "(33731, 102)"
      ]
     },
     "execution_count": 148,
     "metadata": {},
     "output_type": "execute_result"
    }
   ],
   "source": [
    "df_test.shape"
   ]
  },
  {
   "cell_type": "code",
   "execution_count": 149,
   "metadata": {
    "collapsed": true
   },
   "outputs": [],
   "source": [
    "X_train, X_valid, y_train, y_valid = train_test_split(df_train[feat], df_train.loanstatus, test_size = 0.3,\n",
    "                                                     random_state = 2014, stratify = df_train.loanstatus)"
   ]
  },
  {
   "cell_type": "code",
   "execution_count": 150,
   "metadata": {
    "collapsed": true
   },
   "outputs": [],
   "source": [
    "X_test, y_test = df_test[feat], df_test.loanstatus"
   ]
  },
  {
   "cell_type": "code",
   "execution_count": 151,
   "metadata": {
    "collapsed": true
   },
   "outputs": [],
   "source": [
    "dtrain = xgb.DMatrix(X_train, y_train, missing = np.NAN)\n",
    "dvalid = xgb.DMatrix(X_valid, y_valid, missing = np.NAN)\n",
    "dtest = xgb.DMatrix(X_test, y_test, missing = np.NAN)"
   ]
  },
  {
   "cell_type": "code",
   "execution_count": 152,
   "metadata": {
    "collapsed": true
   },
   "outputs": [],
   "source": [
    "params = {\"objective\": \"binary:logistic\",\n",
    "         \"booster\": \"gbtree\",\n",
    "         \"eta\": 0.05,\n",
    "         \"max_depth\": 6,\n",
    "         \"subsample\": 0.632,\n",
    "         \"colsample_bytree\": 0.7,\n",
    "         #\"colsample_bylevel\": 0.6,\n",
    "         \"silent\": 1,\n",
    "         \"seed\": 1234,\n",
    "         \"eval_metric\": \"auc\",\n",
    "         #\"gamma\": 1,\n",
    "         \"min_child_weight\": 5}"
   ]
  },
  {
   "cell_type": "code",
   "execution_count": 153,
   "metadata": {},
   "outputs": [
    {
     "name": "stdout",
     "output_type": "stream",
     "text": [
      "[0]\ttrain-auc:0.669014\teval-auc:0.649026\n",
      "Multiple eval metrics have been passed: 'eval-auc' will be used for early stopping.\n",
      "\n",
      "Will train until eval-auc hasn't improved in 50 rounds.\n",
      "[1]\ttrain-auc:0.680749\teval-auc:0.657469\n",
      "[2]\ttrain-auc:0.688044\teval-auc:0.662378\n",
      "[3]\ttrain-auc:0.692913\teval-auc:0.665\n",
      "[4]\ttrain-auc:0.695559\teval-auc:0.667298\n",
      "[5]\ttrain-auc:0.697342\teval-auc:0.66809\n",
      "[6]\ttrain-auc:0.698981\teval-auc:0.668742\n",
      "[7]\ttrain-auc:0.700558\teval-auc:0.669703\n",
      "[8]\ttrain-auc:0.702272\teval-auc:0.670036\n",
      "[9]\ttrain-auc:0.703739\teval-auc:0.670737\n",
      "[10]\ttrain-auc:0.705008\teval-auc:0.671655\n",
      "[11]\ttrain-auc:0.706013\teval-auc:0.671777\n",
      "[12]\ttrain-auc:0.706915\teval-auc:0.671988\n",
      "[13]\ttrain-auc:0.7078\teval-auc:0.672713\n",
      "[14]\ttrain-auc:0.7086\teval-auc:0.672946\n",
      "[15]\ttrain-auc:0.709182\teval-auc:0.673493\n",
      "[16]\ttrain-auc:0.710106\teval-auc:0.673838\n",
      "[17]\ttrain-auc:0.710744\teval-auc:0.673708\n",
      "[18]\ttrain-auc:0.711421\teval-auc:0.673894\n",
      "[19]\ttrain-auc:0.71158\teval-auc:0.674006\n",
      "[20]\ttrain-auc:0.71207\teval-auc:0.674059\n",
      "[21]\ttrain-auc:0.71299\teval-auc:0.674186\n",
      "[22]\ttrain-auc:0.713557\teval-auc:0.674373\n",
      "[23]\ttrain-auc:0.714112\teval-auc:0.674431\n",
      "[24]\ttrain-auc:0.71465\teval-auc:0.674745\n",
      "[25]\ttrain-auc:0.71521\teval-auc:0.674779\n",
      "[26]\ttrain-auc:0.715654\teval-auc:0.675169\n",
      "[27]\ttrain-auc:0.715988\teval-auc:0.675421\n",
      "[28]\ttrain-auc:0.716508\teval-auc:0.675536\n",
      "[29]\ttrain-auc:0.716937\teval-auc:0.675512\n",
      "[30]\ttrain-auc:0.717387\teval-auc:0.675684\n",
      "[31]\ttrain-auc:0.71823\teval-auc:0.676065\n",
      "[32]\ttrain-auc:0.718781\teval-auc:0.676354\n",
      "[33]\ttrain-auc:0.719312\teval-auc:0.676326\n",
      "[34]\ttrain-auc:0.719807\teval-auc:0.676398\n",
      "[35]\ttrain-auc:0.720217\teval-auc:0.676504\n",
      "[36]\ttrain-auc:0.720862\teval-auc:0.67698\n",
      "[37]\ttrain-auc:0.72133\teval-auc:0.677251\n",
      "[38]\ttrain-auc:0.721885\teval-auc:0.677587\n",
      "[39]\ttrain-auc:0.722366\teval-auc:0.677784\n",
      "[40]\ttrain-auc:0.723091\teval-auc:0.678061\n",
      "[41]\ttrain-auc:0.723838\teval-auc:0.67831\n",
      "[42]\ttrain-auc:0.72435\teval-auc:0.678273\n",
      "[43]\ttrain-auc:0.724889\teval-auc:0.678522\n",
      "[44]\ttrain-auc:0.725198\teval-auc:0.678658\n",
      "[45]\ttrain-auc:0.725878\teval-auc:0.678916\n",
      "[46]\ttrain-auc:0.726892\teval-auc:0.679297\n",
      "[47]\ttrain-auc:0.727322\teval-auc:0.679297\n",
      "[48]\ttrain-auc:0.727969\teval-auc:0.679535\n",
      "[49]\ttrain-auc:0.728249\teval-auc:0.67956\n",
      "[50]\ttrain-auc:0.72898\teval-auc:0.679795\n",
      "[51]\ttrain-auc:0.729678\teval-auc:0.679827\n",
      "[52]\ttrain-auc:0.730077\teval-auc:0.679913\n",
      "[53]\ttrain-auc:0.730514\teval-auc:0.680093\n",
      "[54]\ttrain-auc:0.731399\teval-auc:0.680216\n",
      "[55]\ttrain-auc:0.732114\teval-auc:0.680321\n",
      "[56]\ttrain-auc:0.732638\teval-auc:0.68056\n",
      "[57]\ttrain-auc:0.733104\teval-auc:0.680676\n",
      "[58]\ttrain-auc:0.733707\teval-auc:0.680778\n",
      "[59]\ttrain-auc:0.7342\teval-auc:0.680863\n",
      "[60]\ttrain-auc:0.734956\teval-auc:0.680992\n",
      "[61]\ttrain-auc:0.735411\teval-auc:0.681066\n",
      "[62]\ttrain-auc:0.735891\teval-auc:0.681309\n",
      "[63]\ttrain-auc:0.736453\teval-auc:0.681617\n",
      "[64]\ttrain-auc:0.737244\teval-auc:0.681637\n",
      "[65]\ttrain-auc:0.73766\teval-auc:0.681702\n",
      "[66]\ttrain-auc:0.737963\teval-auc:0.681734\n",
      "[67]\ttrain-auc:0.738552\teval-auc:0.681865\n",
      "[68]\ttrain-auc:0.739024\teval-auc:0.682191\n",
      "[69]\ttrain-auc:0.739713\teval-auc:0.682373\n",
      "[70]\ttrain-auc:0.740477\teval-auc:0.682416\n",
      "[71]\ttrain-auc:0.741361\teval-auc:0.682515\n",
      "[72]\ttrain-auc:0.741768\teval-auc:0.682694\n",
      "[73]\ttrain-auc:0.742227\teval-auc:0.682816\n",
      "[74]\ttrain-auc:0.742788\teval-auc:0.683034\n",
      "[75]\ttrain-auc:0.743227\teval-auc:0.683207\n",
      "[76]\ttrain-auc:0.74375\teval-auc:0.683314\n",
      "[77]\ttrain-auc:0.744259\teval-auc:0.683374\n",
      "[78]\ttrain-auc:0.744799\teval-auc:0.683315\n",
      "[79]\ttrain-auc:0.745125\teval-auc:0.683523\n",
      "[80]\ttrain-auc:0.745906\teval-auc:0.683585\n",
      "[81]\ttrain-auc:0.746229\teval-auc:0.683639\n",
      "[82]\ttrain-auc:0.74705\teval-auc:0.68357\n",
      "[83]\ttrain-auc:0.74777\teval-auc:0.683742\n",
      "[84]\ttrain-auc:0.74825\teval-auc:0.683812\n",
      "[85]\ttrain-auc:0.748757\teval-auc:0.683981\n",
      "[86]\ttrain-auc:0.749457\teval-auc:0.684051\n",
      "[87]\ttrain-auc:0.749687\teval-auc:0.684068\n",
      "[88]\ttrain-auc:0.750485\teval-auc:0.683993\n",
      "[89]\ttrain-auc:0.750905\teval-auc:0.684021\n",
      "[90]\ttrain-auc:0.751565\teval-auc:0.684041\n",
      "[91]\ttrain-auc:0.752269\teval-auc:0.68418\n",
      "[92]\ttrain-auc:0.752574\teval-auc:0.684193\n",
      "[93]\ttrain-auc:0.752792\teval-auc:0.684185\n",
      "[94]\ttrain-auc:0.753408\teval-auc:0.684436\n",
      "[95]\ttrain-auc:0.753928\teval-auc:0.68455\n",
      "[96]\ttrain-auc:0.754627\teval-auc:0.684622\n",
      "[97]\ttrain-auc:0.755032\teval-auc:0.684673\n",
      "[98]\ttrain-auc:0.755589\teval-auc:0.684913\n",
      "[99]\ttrain-auc:0.756213\teval-auc:0.685034\n",
      "[100]\ttrain-auc:0.756703\teval-auc:0.685036\n",
      "[101]\ttrain-auc:0.757497\teval-auc:0.685102\n",
      "[102]\ttrain-auc:0.758296\teval-auc:0.685133\n",
      "[103]\ttrain-auc:0.758993\teval-auc:0.685091\n",
      "[104]\ttrain-auc:0.759235\teval-auc:0.685101\n",
      "[105]\ttrain-auc:0.75965\teval-auc:0.685097\n",
      "[106]\ttrain-auc:0.760139\teval-auc:0.685197\n",
      "[107]\ttrain-auc:0.760687\teval-auc:0.685298\n",
      "[108]\ttrain-auc:0.760994\teval-auc:0.68528\n",
      "[109]\ttrain-auc:0.761382\teval-auc:0.685271\n",
      "[110]\ttrain-auc:0.762086\teval-auc:0.685353\n",
      "[111]\ttrain-auc:0.76267\teval-auc:0.685526\n",
      "[112]\ttrain-auc:0.763346\teval-auc:0.68556\n",
      "[113]\ttrain-auc:0.763915\teval-auc:0.685635\n",
      "[114]\ttrain-auc:0.764295\teval-auc:0.685722\n",
      "[115]\ttrain-auc:0.764597\teval-auc:0.685742\n",
      "[116]\ttrain-auc:0.765042\teval-auc:0.685768\n",
      "[117]\ttrain-auc:0.7656\teval-auc:0.685718\n",
      "[118]\ttrain-auc:0.76611\teval-auc:0.685763\n",
      "[119]\ttrain-auc:0.766853\teval-auc:0.68572\n",
      "[120]\ttrain-auc:0.767288\teval-auc:0.685747\n",
      "[121]\ttrain-auc:0.767802\teval-auc:0.685747\n",
      "[122]\ttrain-auc:0.76843\teval-auc:0.685686\n",
      "[123]\ttrain-auc:0.769054\teval-auc:0.685645\n",
      "[124]\ttrain-auc:0.769704\teval-auc:0.685656\n",
      "[125]\ttrain-auc:0.770167\teval-auc:0.685728\n",
      "[126]\ttrain-auc:0.770742\teval-auc:0.685753\n",
      "[127]\ttrain-auc:0.771093\teval-auc:0.685753\n",
      "[128]\ttrain-auc:0.771463\teval-auc:0.685705\n",
      "[129]\ttrain-auc:0.771785\teval-auc:0.685781\n",
      "[130]\ttrain-auc:0.772172\teval-auc:0.685707\n",
      "[131]\ttrain-auc:0.772507\teval-auc:0.685747\n",
      "[132]\ttrain-auc:0.773063\teval-auc:0.685831\n",
      "[133]\ttrain-auc:0.773445\teval-auc:0.685878\n",
      "[134]\ttrain-auc:0.773924\teval-auc:0.686021\n",
      "[135]\ttrain-auc:0.77446\teval-auc:0.686014\n",
      "[136]\ttrain-auc:0.774954\teval-auc:0.68611\n",
      "[137]\ttrain-auc:0.775552\teval-auc:0.686074\n",
      "[138]\ttrain-auc:0.775935\teval-auc:0.686103\n",
      "[139]\ttrain-auc:0.776384\teval-auc:0.686027\n",
      "[140]\ttrain-auc:0.77664\teval-auc:0.685989\n",
      "[141]\ttrain-auc:0.777018\teval-auc:0.685863\n",
      "[142]\ttrain-auc:0.777623\teval-auc:0.686065\n",
      "[143]\ttrain-auc:0.778079\teval-auc:0.686132\n",
      "[144]\ttrain-auc:0.778348\teval-auc:0.686033\n",
      "[145]\ttrain-auc:0.778629\teval-auc:0.68599\n",
      "[146]\ttrain-auc:0.778927\teval-auc:0.68604\n",
      "[147]\ttrain-auc:0.779382\teval-auc:0.686062\n",
      "[148]\ttrain-auc:0.779676\teval-auc:0.685939\n",
      "[149]\ttrain-auc:0.779948\teval-auc:0.685901\n",
      "[150]\ttrain-auc:0.780434\teval-auc:0.685821\n",
      "[151]\ttrain-auc:0.780922\teval-auc:0.685766\n",
      "[152]\ttrain-auc:0.781179\teval-auc:0.685721\n",
      "[153]\ttrain-auc:0.781509\teval-auc:0.685781\n",
      "[154]\ttrain-auc:0.781741\teval-auc:0.685768\n",
      "[155]\ttrain-auc:0.782305\teval-auc:0.685761\n",
      "[156]\ttrain-auc:0.782634\teval-auc:0.685717\n",
      "[157]\ttrain-auc:0.783152\teval-auc:0.68573\n",
      "[158]\ttrain-auc:0.783528\teval-auc:0.685747\n",
      "[159]\ttrain-auc:0.783876\teval-auc:0.685828\n",
      "[160]\ttrain-auc:0.784255\teval-auc:0.685765\n",
      "[161]\ttrain-auc:0.784611\teval-auc:0.68576\n",
      "[162]\ttrain-auc:0.785014\teval-auc:0.685656\n",
      "[163]\ttrain-auc:0.785478\teval-auc:0.685675\n",
      "[164]\ttrain-auc:0.785687\teval-auc:0.685695\n",
      "[165]\ttrain-auc:0.785891\teval-auc:0.685681\n",
      "[166]\ttrain-auc:0.786269\teval-auc:0.685603\n",
      "[167]\ttrain-auc:0.786757\teval-auc:0.68564\n",
      "[168]\ttrain-auc:0.787023\teval-auc:0.685605\n",
      "[169]\ttrain-auc:0.787636\teval-auc:0.685695\n",
      "[170]\ttrain-auc:0.78799\teval-auc:0.685676\n",
      "[171]\ttrain-auc:0.788402\teval-auc:0.685696\n",
      "[172]\ttrain-auc:0.788901\teval-auc:0.685724\n",
      "[173]\ttrain-auc:0.789106\teval-auc:0.685712\n",
      "[174]\ttrain-auc:0.789661\teval-auc:0.68563\n",
      "[175]\ttrain-auc:0.789954\teval-auc:0.68557\n",
      "[176]\ttrain-auc:0.790202\teval-auc:0.685601\n",
      "[177]\ttrain-auc:0.790377\teval-auc:0.685553\n",
      "[178]\ttrain-auc:0.790511\teval-auc:0.685659\n",
      "[179]\ttrain-auc:0.791166\teval-auc:0.685681\n",
      "[180]\ttrain-auc:0.791313\teval-auc:0.685658\n",
      "[181]\ttrain-auc:0.791657\teval-auc:0.685686\n",
      "[182]\ttrain-auc:0.791876\teval-auc:0.685725\n",
      "[183]\ttrain-auc:0.791905\teval-auc:0.685807\n",
      "[184]\ttrain-auc:0.792447\teval-auc:0.685942\n",
      "[185]\ttrain-auc:0.792851\teval-auc:0.685988\n",
      "[186]\ttrain-auc:0.793346\teval-auc:0.686018\n",
      "[187]\ttrain-auc:0.793558\teval-auc:0.686028\n",
      "[188]\ttrain-auc:0.793793\teval-auc:0.686012\n",
      "[189]\ttrain-auc:0.794364\teval-auc:0.686229\n",
      "[190]\ttrain-auc:0.79459\teval-auc:0.686245\n",
      "[191]\ttrain-auc:0.795165\teval-auc:0.686382\n"
     ]
    },
    {
     "name": "stdout",
     "output_type": "stream",
     "text": [
      "[192]\ttrain-auc:0.795423\teval-auc:0.686493\n",
      "[193]\ttrain-auc:0.79584\teval-auc:0.6865\n",
      "[194]\ttrain-auc:0.796352\teval-auc:0.686468\n",
      "[195]\ttrain-auc:0.796713\teval-auc:0.686378\n",
      "[196]\ttrain-auc:0.797072\teval-auc:0.686338\n",
      "[197]\ttrain-auc:0.79735\teval-auc:0.686323\n",
      "[198]\ttrain-auc:0.797591\teval-auc:0.686471\n",
      "[199]\ttrain-auc:0.797814\teval-auc:0.686444\n",
      "[200]\ttrain-auc:0.798119\teval-auc:0.686508\n",
      "[201]\ttrain-auc:0.798578\teval-auc:0.686487\n",
      "[202]\ttrain-auc:0.798714\teval-auc:0.686521\n",
      "[203]\ttrain-auc:0.799107\teval-auc:0.686499\n",
      "[204]\ttrain-auc:0.799474\teval-auc:0.686475\n",
      "[205]\ttrain-auc:0.799876\teval-auc:0.686494\n",
      "[206]\ttrain-auc:0.800128\teval-auc:0.686443\n",
      "[207]\ttrain-auc:0.800757\teval-auc:0.686448\n",
      "[208]\ttrain-auc:0.801361\teval-auc:0.686461\n",
      "[209]\ttrain-auc:0.801475\teval-auc:0.686451\n",
      "[210]\ttrain-auc:0.801674\teval-auc:0.686461\n",
      "[211]\ttrain-auc:0.802171\teval-auc:0.686492\n",
      "[212]\ttrain-auc:0.802631\teval-auc:0.686548\n",
      "[213]\ttrain-auc:0.803375\teval-auc:0.686493\n",
      "[214]\ttrain-auc:0.803854\teval-auc:0.686577\n",
      "[215]\ttrain-auc:0.803978\teval-auc:0.686535\n",
      "[216]\ttrain-auc:0.804122\teval-auc:0.686565\n",
      "[217]\ttrain-auc:0.804458\teval-auc:0.686589\n",
      "[218]\ttrain-auc:0.80472\teval-auc:0.686548\n",
      "[219]\ttrain-auc:0.8051\teval-auc:0.686536\n",
      "[220]\ttrain-auc:0.805436\teval-auc:0.686531\n",
      "[221]\ttrain-auc:0.805668\teval-auc:0.686534\n",
      "[222]\ttrain-auc:0.805835\teval-auc:0.686477\n",
      "[223]\ttrain-auc:0.80601\teval-auc:0.686529\n",
      "[224]\ttrain-auc:0.806412\teval-auc:0.686522\n",
      "[225]\ttrain-auc:0.806662\teval-auc:0.686484\n",
      "[226]\ttrain-auc:0.80725\teval-auc:0.686287\n",
      "[227]\ttrain-auc:0.807535\teval-auc:0.6863\n",
      "[228]\ttrain-auc:0.807816\teval-auc:0.686368\n",
      "[229]\ttrain-auc:0.808293\teval-auc:0.686428\n",
      "[230]\ttrain-auc:0.809045\teval-auc:0.686349\n",
      "[231]\ttrain-auc:0.809456\teval-auc:0.686395\n",
      "[232]\ttrain-auc:0.80983\teval-auc:0.68637\n",
      "[233]\ttrain-auc:0.810105\teval-auc:0.686401\n",
      "[234]\ttrain-auc:0.810438\teval-auc:0.686421\n",
      "[235]\ttrain-auc:0.810807\teval-auc:0.68632\n",
      "[236]\ttrain-auc:0.811126\teval-auc:0.686222\n",
      "[237]\ttrain-auc:0.811532\teval-auc:0.686293\n",
      "[238]\ttrain-auc:0.811772\teval-auc:0.686316\n",
      "[239]\ttrain-auc:0.81215\teval-auc:0.686138\n",
      "[240]\ttrain-auc:0.812432\teval-auc:0.686125\n",
      "[241]\ttrain-auc:0.812631\teval-auc:0.68613\n",
      "[242]\ttrain-auc:0.812744\teval-auc:0.686061\n",
      "[243]\ttrain-auc:0.813187\teval-auc:0.686001\n",
      "[244]\ttrain-auc:0.813555\teval-auc:0.685979\n",
      "[245]\ttrain-auc:0.813962\teval-auc:0.685909\n",
      "[246]\ttrain-auc:0.814234\teval-auc:0.685912\n",
      "[247]\ttrain-auc:0.814521\teval-auc:0.685862\n",
      "[248]\ttrain-auc:0.814966\teval-auc:0.68592\n",
      "[249]\ttrain-auc:0.815118\teval-auc:0.685902\n",
      "[250]\ttrain-auc:0.815247\teval-auc:0.685821\n",
      "[251]\ttrain-auc:0.815442\teval-auc:0.685872\n",
      "[252]\ttrain-auc:0.815748\teval-auc:0.685878\n",
      "[253]\ttrain-auc:0.815976\teval-auc:0.685896\n",
      "[254]\ttrain-auc:0.816226\teval-auc:0.685919\n",
      "[255]\ttrain-auc:0.816566\teval-auc:0.68574\n",
      "[256]\ttrain-auc:0.816655\teval-auc:0.685739\n",
      "[257]\ttrain-auc:0.817163\teval-auc:0.685624\n",
      "[258]\ttrain-auc:0.817336\teval-auc:0.685637\n",
      "[259]\ttrain-auc:0.817518\teval-auc:0.685617\n",
      "[260]\ttrain-auc:0.818198\teval-auc:0.685644\n",
      "[261]\ttrain-auc:0.818475\teval-auc:0.685709\n",
      "[262]\ttrain-auc:0.818641\teval-auc:0.685661\n",
      "[263]\ttrain-auc:0.819149\teval-auc:0.685668\n",
      "[264]\ttrain-auc:0.819638\teval-auc:0.685575\n",
      "[265]\ttrain-auc:0.819754\teval-auc:0.685526\n",
      "[266]\ttrain-auc:0.820159\teval-auc:0.685529\n",
      "[267]\ttrain-auc:0.82046\teval-auc:0.685494\n",
      "Stopping. Best iteration:\n",
      "[217]\ttrain-auc:0.804458\teval-auc:0.686589\n",
      "\n"
     ]
    }
   ],
   "source": [
    "watchlist = [(dtrain, 'train'), (dvalid, 'eval')]\n",
    "num_boost_round = 1500\n",
    "gbm = xgb.train(params, dtrain, num_boost_round, evals = watchlist,\\\n",
    "               early_stopping_rounds = 50)"
   ]
  },
  {
   "cell_type": "markdown",
   "metadata": {},
   "source": [
    "#### ROC curve"
   ]
  },
  {
   "cell_type": "code",
   "execution_count": 154,
   "metadata": {
    "collapsed": true
   },
   "outputs": [],
   "source": [
    "from sklearn.metrics import roc_curve, auc\n",
    "from sklearn import linear_model, datasets\n",
    "import pylab as pl"
   ]
  },
  {
   "cell_type": "code",
   "execution_count": 155,
   "metadata": {
    "collapsed": true
   },
   "outputs": [],
   "source": [
    "def draw_ROC(model, dtrain, dvalid, dtest, y_train, y_valid, y_test):\n",
    "    probas_ = model.predict(dvalid, ntree_limit = model.best_ntree_limit)\n",
    "    probas_1 = model.predict(dtrain, ntree_limit = model.best_ntree_limit)\n",
    "    probas_2 = model.predict(dtest, ntree_limit = model.best_ntree_limit)\n",
    "    \n",
    "    fpr, tpr, thresholds = roc_curve(y_valid, probas_)\n",
    "    fpr_1, tpr_1, thresholds_1 = roc_curve(y_train, probas_1)\n",
    "    fpr_2, tpr_2, thresholds_2 = roc_curve(y_test, probas_2)\n",
    "    \n",
    "    roc_auc = auc(fpr, tpr)\n",
    "    roc_auc_1 = auc(fpr_1, tpr_1)\n",
    "    roc_auc_2 = auc(fpr_2, tpr_2)\n",
    "    \n",
    "    print (\"Area under the ROC curve - validation: %f\" % roc_auc)\n",
    "    print (\"Area under the ROC curve - train: %f\" % roc_auc_1)\n",
    "    print (\"Area under the ROC curve - test: %f\" % roc_auc_2)\n",
    "    \n",
    "    #Plot ROC curve\n",
    "    plt.figure(figsize = (8,8))\n",
    "    plt.plot(fpr, tpr, label = 'ROC curve - test(AUC = %0.2f)' % roc_auc, color = 'r')\n",
    "    plt.plot(fpr_1, tpr_1, label = 'ROC curve - train(AUC = %0.2f)' % roc_auc_1, color = 'b')\n",
    "    plt.plot(fpr_2, tpr_2, label = 'ROC curve - train(AUC = %0.2f)' % roc_auc_2, color = 'g')\n",
    "    plt.plot([0,1], [0,1], 'k--')\n",
    "    plt.xlim([0.1, 1.0])\n",
    "    plt.ylim([0.1, 1.0])\n",
    "    plt.xlabel('False Positive Rate')\n",
    "    plt.ylabel('True Positive Rate')\n",
    "    plt.title('ROC for lead score model')\n",
    "    plt.legend(loc = \"lower right\")\n",
    "    plt.show()"
   ]
  },
  {
   "cell_type": "code",
   "execution_count": 156,
   "metadata": {},
   "outputs": [
    {
     "name": "stdout",
     "output_type": "stream",
     "text": [
      "Area under the ROC curve - validation: 0.686589\n",
      "Area under the ROC curve - train: 0.804458\n",
      "Area under the ROC curve - test: 0.704105\n"
     ]
    },
    {
     "data": {
      "image/png": "[encoded data removed]",
      "text/plain": [
       "<matplotlib.figure.Figure at 0x7ff7bd800b70>"
      ]
     },
     "metadata": {},
     "output_type": "display_data"
    }
   ],
   "source": [
    "draw_ROC(gbm, dtrain, dvalid, dtest, y_train, y_valid, y_test)"
   ]
  },
  {
   "cell_type": "code",
   "execution_count": null,
   "metadata": {
    "collapsed": true
   },
   "outputs": [],
   "source": []
  },
  {
   "cell_type": "markdown",
   "metadata": {},
   "source": [
    "#### Distribution of predicted values"
   ]
  },
  {
   "cell_type": "code",
   "execution_count": 157,
   "metadata": {
    "collapsed": true
   },
   "outputs": [],
   "source": [
    "y_pred = gbm.predict(dtest)"
   ]
  },
  {
   "cell_type": "code",
   "execution_count": 158,
   "metadata": {},
   "outputs": [
    {
     "name": "stdout",
     "output_type": "stream",
     "text": [
      "0.758609 0.00539377 0.138716\n"
     ]
    }
   ],
   "source": [
    "print (y_pred.max(), y_pred.min(), y_pred.mean())"
   ]
  },
  {
   "cell_type": "code",
   "execution_count": null,
   "metadata": {
    "collapsed": true
   },
   "outputs": [],
   "source": []
  },
  {
   "cell_type": "markdown",
   "metadata": {},
   "source": [
    "#### Feature importance"
   ]
  },
  {
   "cell_type": "code",
   "execution_count": 177,
   "metadata": {
    "collapsed": true
   },
   "outputs": [],
   "source": [
    "importance = gbm.get_fscore()"
   ]
  },
  {
   "cell_type": "code",
   "execution_count": 192,
   "metadata": {
    "collapsed": true
   },
   "outputs": [],
   "source": [
    "df_importance = pd.DataFrame(list(importance.items()), columns = ['feature', 'fscore'])\n",
    "# importance为dict格式，feature为keys，要将其转化为feature字段的取值——list(importance.items())"
   ]
  },
  {
   "cell_type": "code",
   "execution_count": 193,
   "metadata": {
    "collapsed": true
   },
   "outputs": [],
   "source": [
    "df_importance['fscore'] = df_importance['fscore'] / df_importance['fscore'].sum()"
   ]
  },
  {
   "cell_type": "code",
   "execution_count": 194,
   "metadata": {},
   "outputs": [
    {
     "data": {
      "text/html": [
       "<div>\n",
       "<style>\n",
       "    .dataframe thead tr:only-child th {\n",
       "        text-align: right;\n",
       "    }\n",
       "\n",
       "    .dataframe thead th {\n",
       "        text-align: left;\n",
       "    }\n",
       "\n",
       "    .dataframe tbody tr th {\n",
       "        vertical-align: top;\n",
       "    }\n",
       "</style>\n",
       "<table border=\"1\" class=\"dataframe\">\n",
       "  <thead>\n",
       "    <tr style=\"text-align: right;\">\n",
       "      <th></th>\n",
       "      <th>feature</th>\n",
       "      <th>fscore</th>\n",
       "    </tr>\n",
       "  </thead>\n",
       "  <tbody>\n",
       "    <tr>\n",
       "      <th>26</th>\n",
       "      <td>dti</td>\n",
       "      <td>0.044360</td>\n",
       "    </tr>\n",
       "    <tr>\n",
       "      <th>13</th>\n",
       "      <td>mosinoldrevtlop</td>\n",
       "      <td>0.035633</td>\n",
       "    </tr>\n",
       "    <tr>\n",
       "      <th>31</th>\n",
       "      <td>installment</td>\n",
       "      <td>0.035451</td>\n",
       "    </tr>\n",
       "    <tr>\n",
       "      <th>19</th>\n",
       "      <td>mosinoldilacct</td>\n",
       "      <td>0.034542</td>\n",
       "    </tr>\n",
       "    <tr>\n",
       "      <th>4</th>\n",
       "      <td>annualinc</td>\n",
       "      <td>0.031815</td>\n",
       "    </tr>\n",
       "    <tr>\n",
       "      <th>7</th>\n",
       "      <td>emptitle_freq</td>\n",
       "      <td>0.028634</td>\n",
       "    </tr>\n",
       "    <tr>\n",
       "      <th>32</th>\n",
       "      <td>revolutil</td>\n",
       "      <td>0.027634</td>\n",
       "    </tr>\n",
       "    <tr>\n",
       "      <th>36</th>\n",
       "      <td>bcopentobuy</td>\n",
       "      <td>0.027361</td>\n",
       "    </tr>\n",
       "    <tr>\n",
       "      <th>47</th>\n",
       "      <td>earliestcrline_m</td>\n",
       "      <td>0.026998</td>\n",
       "    </tr>\n",
       "    <tr>\n",
       "      <th>39</th>\n",
       "      <td>avgcurbal</td>\n",
       "      <td>0.026998</td>\n",
       "    </tr>\n",
       "    <tr>\n",
       "      <th>22</th>\n",
       "      <td>bcutil</td>\n",
       "      <td>0.026452</td>\n",
       "    </tr>\n",
       "    <tr>\n",
       "      <th>33</th>\n",
       "      <td>zipcode_freq</td>\n",
       "      <td>0.025816</td>\n",
       "    </tr>\n",
       "    <tr>\n",
       "      <th>46</th>\n",
       "      <td>zipcode</td>\n",
       "      <td>0.025452</td>\n",
       "    </tr>\n",
       "    <tr>\n",
       "      <th>34</th>\n",
       "      <td>revolbal</td>\n",
       "      <td>0.024271</td>\n",
       "    </tr>\n",
       "    <tr>\n",
       "      <th>37</th>\n",
       "      <td>totalbclimit</td>\n",
       "      <td>0.023543</td>\n",
       "    </tr>\n",
       "    <tr>\n",
       "      <th>6</th>\n",
       "      <td>mthssincerecentbc</td>\n",
       "      <td>0.023452</td>\n",
       "    </tr>\n",
       "    <tr>\n",
       "      <th>1</th>\n",
       "      <td>intrate</td>\n",
       "      <td>0.023089</td>\n",
       "    </tr>\n",
       "    <tr>\n",
       "      <th>24</th>\n",
       "      <td>tothicredlim</td>\n",
       "      <td>0.022725</td>\n",
       "    </tr>\n",
       "    <tr>\n",
       "      <th>55</th>\n",
       "      <td>mthssincerecentinq</td>\n",
       "      <td>0.022453</td>\n",
       "    </tr>\n",
       "    <tr>\n",
       "      <th>2</th>\n",
       "      <td>mthssincelastdelinq</td>\n",
       "      <td>0.021543</td>\n",
       "    </tr>\n",
       "    <tr>\n",
       "      <th>35</th>\n",
       "      <td>totalbalexmort</td>\n",
       "      <td>0.020725</td>\n",
       "    </tr>\n",
       "    <tr>\n",
       "      <th>41</th>\n",
       "      <td>totalilhighcreditlimit</td>\n",
       "      <td>0.019453</td>\n",
       "    </tr>\n",
       "    <tr>\n",
       "      <th>15</th>\n",
       "      <td>totalrevhilim</td>\n",
       "      <td>0.019362</td>\n",
       "    </tr>\n",
       "    <tr>\n",
       "      <th>8</th>\n",
       "      <td>loanamnt</td>\n",
       "      <td>0.018544</td>\n",
       "    </tr>\n",
       "    <tr>\n",
       "      <th>9</th>\n",
       "      <td>accopenpast24mths</td>\n",
       "      <td>0.018453</td>\n",
       "    </tr>\n",
       "    <tr>\n",
       "      <th>53</th>\n",
       "      <td>totcurbal</td>\n",
       "      <td>0.018271</td>\n",
       "    </tr>\n",
       "    <tr>\n",
       "      <th>54</th>\n",
       "      <td>addrstate_freq</td>\n",
       "      <td>0.017180</td>\n",
       "    </tr>\n",
       "    <tr>\n",
       "      <th>27</th>\n",
       "      <td>mthssincerecentbcdlq</td>\n",
       "      <td>0.016089</td>\n",
       "    </tr>\n",
       "    <tr>\n",
       "      <th>20</th>\n",
       "      <td>emplength</td>\n",
       "      <td>0.014908</td>\n",
       "    </tr>\n",
       "    <tr>\n",
       "      <th>57</th>\n",
       "      <td>pcttlnvrdlq</td>\n",
       "      <td>0.014726</td>\n",
       "    </tr>\n",
       "    <tr>\n",
       "      <th>...</th>\n",
       "      <td>...</td>\n",
       "      <td>...</td>\n",
       "    </tr>\n",
       "    <tr>\n",
       "      <th>56</th>\n",
       "      <td>homeownership_RENT</td>\n",
       "      <td>0.004727</td>\n",
       "    </tr>\n",
       "    <tr>\n",
       "      <th>14</th>\n",
       "      <td>ficorangelow</td>\n",
       "      <td>0.004272</td>\n",
       "    </tr>\n",
       "    <tr>\n",
       "      <th>0</th>\n",
       "      <td>grade</td>\n",
       "      <td>0.003363</td>\n",
       "    </tr>\n",
       "    <tr>\n",
       "      <th>3</th>\n",
       "      <td>delinq2yrs</td>\n",
       "      <td>0.003091</td>\n",
       "    </tr>\n",
       "    <tr>\n",
       "      <th>71</th>\n",
       "      <td>numacctsever120pd</td>\n",
       "      <td>0.003091</td>\n",
       "    </tr>\n",
       "    <tr>\n",
       "      <th>69</th>\n",
       "      <td>verificationstatus_Source Verified</td>\n",
       "      <td>0.002818</td>\n",
       "    </tr>\n",
       "    <tr>\n",
       "      <th>74</th>\n",
       "      <td>initialliststatus_f</td>\n",
       "      <td>0.002273</td>\n",
       "    </tr>\n",
       "    <tr>\n",
       "      <th>52</th>\n",
       "      <td>purpose_small_business</td>\n",
       "      <td>0.001909</td>\n",
       "    </tr>\n",
       "    <tr>\n",
       "      <th>73</th>\n",
       "      <td>purpose_debt_consolidation</td>\n",
       "      <td>0.001818</td>\n",
       "    </tr>\n",
       "    <tr>\n",
       "      <th>50</th>\n",
       "      <td>homeownership_MORTGAGE</td>\n",
       "      <td>0.001727</td>\n",
       "    </tr>\n",
       "    <tr>\n",
       "      <th>70</th>\n",
       "      <td>pubrecbankruptcies</td>\n",
       "      <td>0.001545</td>\n",
       "    </tr>\n",
       "    <tr>\n",
       "      <th>64</th>\n",
       "      <td>verificationstatus_Verified</td>\n",
       "      <td>0.001364</td>\n",
       "    </tr>\n",
       "    <tr>\n",
       "      <th>61</th>\n",
       "      <td>verificationstatus_Not Verified</td>\n",
       "      <td>0.001273</td>\n",
       "    </tr>\n",
       "    <tr>\n",
       "      <th>68</th>\n",
       "      <td>purpose_medical</td>\n",
       "      <td>0.001273</td>\n",
       "    </tr>\n",
       "    <tr>\n",
       "      <th>62</th>\n",
       "      <td>purpose_credit_card</td>\n",
       "      <td>0.001273</td>\n",
       "    </tr>\n",
       "    <tr>\n",
       "      <th>72</th>\n",
       "      <td>pubrec</td>\n",
       "      <td>0.001182</td>\n",
       "    </tr>\n",
       "    <tr>\n",
       "      <th>67</th>\n",
       "      <td>withdesc</td>\n",
       "      <td>0.001000</td>\n",
       "    </tr>\n",
       "    <tr>\n",
       "      <th>21</th>\n",
       "      <td>homeownership_OWN</td>\n",
       "      <td>0.000818</td>\n",
       "    </tr>\n",
       "    <tr>\n",
       "      <th>77</th>\n",
       "      <td>initialliststatus_w</td>\n",
       "      <td>0.000818</td>\n",
       "    </tr>\n",
       "    <tr>\n",
       "      <th>75</th>\n",
       "      <td>purpose_moving</td>\n",
       "      <td>0.000727</td>\n",
       "    </tr>\n",
       "    <tr>\n",
       "      <th>79</th>\n",
       "      <td>purpose_home_improvement</td>\n",
       "      <td>0.000727</td>\n",
       "    </tr>\n",
       "    <tr>\n",
       "      <th>66</th>\n",
       "      <td>purpose_other</td>\n",
       "      <td>0.000636</td>\n",
       "    </tr>\n",
       "    <tr>\n",
       "      <th>58</th>\n",
       "      <td>numtl120dpd2m</td>\n",
       "      <td>0.000545</td>\n",
       "    </tr>\n",
       "    <tr>\n",
       "      <th>78</th>\n",
       "      <td>purpose_major_purchase</td>\n",
       "      <td>0.000545</td>\n",
       "    </tr>\n",
       "    <tr>\n",
       "      <th>42</th>\n",
       "      <td>taxliens</td>\n",
       "      <td>0.000455</td>\n",
       "    </tr>\n",
       "    <tr>\n",
       "      <th>76</th>\n",
       "      <td>numtl90gdpd24m</td>\n",
       "      <td>0.000455</td>\n",
       "    </tr>\n",
       "    <tr>\n",
       "      <th>51</th>\n",
       "      <td>collections12mthsexmed</td>\n",
       "      <td>0.000364</td>\n",
       "    </tr>\n",
       "    <tr>\n",
       "      <th>80</th>\n",
       "      <td>delinqamnt</td>\n",
       "      <td>0.000091</td>\n",
       "    </tr>\n",
       "    <tr>\n",
       "      <th>81</th>\n",
       "      <td>chargeoffwithin12mths</td>\n",
       "      <td>0.000091</td>\n",
       "    </tr>\n",
       "    <tr>\n",
       "      <th>82</th>\n",
       "      <td>purpose_house</td>\n",
       "      <td>0.000091</td>\n",
       "    </tr>\n",
       "  </tbody>\n",
       "</table>\n",
       "<p>83 rows × 2 columns</p>\n",
       "</div>"
      ],
      "text/plain": [
       "                               feature    fscore\n",
       "26                                 dti  0.044360\n",
       "13                     mosinoldrevtlop  0.035633\n",
       "31                         installment  0.035451\n",
       "19                      mosinoldilacct  0.034542\n",
       "4                            annualinc  0.031815\n",
       "7                        emptitle_freq  0.028634\n",
       "32                           revolutil  0.027634\n",
       "36                         bcopentobuy  0.027361\n",
       "47                    earliestcrline_m  0.026998\n",
       "39                           avgcurbal  0.026998\n",
       "22                              bcutil  0.026452\n",
       "33                        zipcode_freq  0.025816\n",
       "46                             zipcode  0.025452\n",
       "34                            revolbal  0.024271\n",
       "37                        totalbclimit  0.023543\n",
       "6                    mthssincerecentbc  0.023452\n",
       "1                              intrate  0.023089\n",
       "24                        tothicredlim  0.022725\n",
       "55                  mthssincerecentinq  0.022453\n",
       "2                  mthssincelastdelinq  0.021543\n",
       "35                      totalbalexmort  0.020725\n",
       "41              totalilhighcreditlimit  0.019453\n",
       "15                       totalrevhilim  0.019362\n",
       "8                             loanamnt  0.018544\n",
       "9                    accopenpast24mths  0.018453\n",
       "53                           totcurbal  0.018271\n",
       "54                      addrstate_freq  0.017180\n",
       "27                mthssincerecentbcdlq  0.016089\n",
       "20                           emplength  0.014908\n",
       "57                         pcttlnvrdlq  0.014726\n",
       "..                                 ...       ...\n",
       "56                  homeownership_RENT  0.004727\n",
       "14                        ficorangelow  0.004272\n",
       "0                                grade  0.003363\n",
       "3                           delinq2yrs  0.003091\n",
       "71                   numacctsever120pd  0.003091\n",
       "69  verificationstatus_Source Verified  0.002818\n",
       "74                 initialliststatus_f  0.002273\n",
       "52              purpose_small_business  0.001909\n",
       "73          purpose_debt_consolidation  0.001818\n",
       "50              homeownership_MORTGAGE  0.001727\n",
       "70                  pubrecbankruptcies  0.001545\n",
       "64         verificationstatus_Verified  0.001364\n",
       "61     verificationstatus_Not Verified  0.001273\n",
       "68                     purpose_medical  0.001273\n",
       "62                 purpose_credit_card  0.001273\n",
       "72                              pubrec  0.001182\n",
       "67                            withdesc  0.001000\n",
       "21                   homeownership_OWN  0.000818\n",
       "77                 initialliststatus_w  0.000818\n",
       "75                      purpose_moving  0.000727\n",
       "79            purpose_home_improvement  0.000727\n",
       "66                       purpose_other  0.000636\n",
       "58                       numtl120dpd2m  0.000545\n",
       "78              purpose_major_purchase  0.000545\n",
       "42                            taxliens  0.000455\n",
       "76                      numtl90gdpd24m  0.000455\n",
       "51              collections12mthsexmed  0.000364\n",
       "80                          delinqamnt  0.000091\n",
       "81               chargeoffwithin12mths  0.000091\n",
       "82                       purpose_house  0.000091\n",
       "\n",
       "[83 rows x 2 columns]"
      ]
     },
     "execution_count": 194,
     "metadata": {},
     "output_type": "execute_result"
    }
   ],
   "source": [
    "df_importance.sort_values(['fscore'], ascending = False, inplace = True)\n",
    "df_importance"
   ]
  },
  {
   "cell_type": "code",
   "execution_count": 195,
   "metadata": {},
   "outputs": [
    {
     "data": {
      "text/plain": [
       "<matplotlib.figure.Figure at 0x7ff798c32630>"
      ]
     },
     "metadata": {},
     "output_type": "display_data"
    },
    {
     "data": {
      "image/png": "[encoded data removed]",
      "text/plain": [
       "<matplotlib.figure.Figure at 0x7ff798b94cf8>"
      ]
     },
     "metadata": {},
     "output_type": "display_data"
    }
   ],
   "source": [
    "plt.figure(figsize = (32,32))\n",
    "df_importance[:20].plot(kind='barh', x='feature', y='fscore', legend= False, figsize = (6,10))\n",
    "plt.title('XGBoost Feature Importance')\n",
    "plt.xlabel('relative importance')\n",
    "plt.gcf().savefig('../output/feature_importance_xgb.png')"
   ]
  },
  {
   "cell_type": "code",
   "execution_count": 198,
   "metadata": {},
   "outputs": [
    {
     "data": {
      "text/html": [
       "<div>\n",
       "<style>\n",
       "    .dataframe thead tr:only-child th {\n",
       "        text-align: right;\n",
       "    }\n",
       "\n",
       "    .dataframe thead th {\n",
       "        text-align: left;\n",
       "    }\n",
       "\n",
       "    .dataframe tbody tr th {\n",
       "        vertical-align: top;\n",
       "    }\n",
       "</style>\n",
       "<table border=\"1\" class=\"dataframe\">\n",
       "  <thead>\n",
       "    <tr style=\"text-align: right;\">\n",
       "      <th></th>\n",
       "      <th>feature</th>\n",
       "      <th>fscore</th>\n",
       "    </tr>\n",
       "  </thead>\n",
       "  <tbody>\n",
       "    <tr>\n",
       "      <th>0</th>\n",
       "      <td>grade</td>\n",
       "      <td>0.003363</td>\n",
       "    </tr>\n",
       "  </tbody>\n",
       "</table>\n",
       "</div>"
      ],
      "text/plain": [
       "  feature    fscore\n",
       "0   grade  0.003363"
      ]
     },
     "execution_count": 198,
     "metadata": {},
     "output_type": "execute_result"
    }
   ],
   "source": [
    "grade_importance = df_importance.query(\"feature == 'grade'\")\n",
    "grade_importance"
   ]
  },
  {
   "cell_type": "code",
   "execution_count": 199,
   "metadata": {},
   "outputs": [
    {
     "data": {
      "text/html": [
       "<div>\n",
       "<style>\n",
       "    .dataframe thead tr:only-child th {\n",
       "        text-align: right;\n",
       "    }\n",
       "\n",
       "    .dataframe thead th {\n",
       "        text-align: left;\n",
       "    }\n",
       "\n",
       "    .dataframe tbody tr th {\n",
       "        vertical-align: top;\n",
       "    }\n",
       "</style>\n",
       "<table border=\"1\" class=\"dataframe\">\n",
       "  <thead>\n",
       "    <tr style=\"text-align: right;\">\n",
       "      <th></th>\n",
       "      <th>feature</th>\n",
       "      <th>fscore</th>\n",
       "    </tr>\n",
       "  </thead>\n",
       "  <tbody>\n",
       "    <tr>\n",
       "      <th>44</th>\n",
       "      <td>subgrade</td>\n",
       "      <td>0.011635</td>\n",
       "    </tr>\n",
       "  </tbody>\n",
       "</table>\n",
       "</div>"
      ],
      "text/plain": [
       "     feature    fscore\n",
       "44  subgrade  0.011635"
      ]
     },
     "execution_count": 199,
     "metadata": {},
     "output_type": "execute_result"
    }
   ],
   "source": [
    "subgrade_importance = df_importance.query(\"feature == 'subgrade'\")\n",
    "subgrade_importance"
   ]
  },
  {
   "cell_type": "code",
   "execution_count": 200,
   "metadata": {},
   "outputs": [
    {
     "data": {
      "text/html": [
       "<div>\n",
       "<style>\n",
       "    .dataframe thead tr:only-child th {\n",
       "        text-align: right;\n",
       "    }\n",
       "\n",
       "    .dataframe thead th {\n",
       "        text-align: left;\n",
       "    }\n",
       "\n",
       "    .dataframe tbody tr th {\n",
       "        vertical-align: top;\n",
       "    }\n",
       "</style>\n",
       "<table border=\"1\" class=\"dataframe\">\n",
       "  <thead>\n",
       "    <tr style=\"text-align: right;\">\n",
       "      <th></th>\n",
       "      <th>feature</th>\n",
       "      <th>fscore</th>\n",
       "    </tr>\n",
       "  </thead>\n",
       "  <tbody>\n",
       "    <tr>\n",
       "      <th>1</th>\n",
       "      <td>intrate</td>\n",
       "      <td>0.023089</td>\n",
       "    </tr>\n",
       "  </tbody>\n",
       "</table>\n",
       "</div>"
      ],
      "text/plain": [
       "   feature    fscore\n",
       "1  intrate  0.023089"
      ]
     },
     "execution_count": 200,
     "metadata": {},
     "output_type": "execute_result"
    }
   ],
   "source": [
    "intrate_importance = df_importance.query(\"feature == 'intrate'\")\n",
    "intrate_importance"
   ]
  },
  {
   "cell_type": "code",
   "execution_count": 202,
   "metadata": {},
   "outputs": [
    {
     "data": {
      "text/html": [
       "<div>\n",
       "<style>\n",
       "    .dataframe thead tr:only-child th {\n",
       "        text-align: right;\n",
       "    }\n",
       "\n",
       "    .dataframe thead th {\n",
       "        text-align: left;\n",
       "    }\n",
       "\n",
       "    .dataframe tbody tr th {\n",
       "        vertical-align: top;\n",
       "    }\n",
       "</style>\n",
       "<table border=\"1\" class=\"dataframe\">\n",
       "  <thead>\n",
       "    <tr style=\"text-align: right;\">\n",
       "      <th></th>\n",
       "      <th>feature</th>\n",
       "      <th>fscore</th>\n",
       "    </tr>\n",
       "  </thead>\n",
       "  <tbody>\n",
       "    <tr>\n",
       "      <th>8</th>\n",
       "      <td>loanamnt</td>\n",
       "      <td>0.018544</td>\n",
       "    </tr>\n",
       "  </tbody>\n",
       "</table>\n",
       "</div>"
      ],
      "text/plain": [
       "    feature    fscore\n",
       "8  loanamnt  0.018544"
      ]
     },
     "execution_count": 202,
     "metadata": {},
     "output_type": "execute_result"
    }
   ],
   "source": [
    "df_importance.query(\"feature == 'loanamnt'\")"
   ]
  },
  {
   "cell_type": "code",
   "execution_count": 203,
   "metadata": {},
   "outputs": [
    {
     "data": {
      "text/plain": [
       "<matplotlib.text.Text at 0x7ff78ec08cc0>"
      ]
     },
     "execution_count": 203,
     "metadata": {},
     "output_type": "execute_result"
    },
    {
     "data": {
      "text/plain": [
       "<matplotlib.figure.Figure at 0x7ff78ec2b828>"
      ]
     },
     "metadata": {},
     "output_type": "display_data"
    },
    {
     "data": {
      "image/png": "[encoded data removed]",
      "text/plain": [
       "<matplotlib.figure.Figure at 0x7ff7be4f25f8>"
      ]
     },
     "metadata": {},
     "output_type": "display_data"
    }
   ],
   "source": [
    "plt.figure(figsize = (32,32))\n",
    "df_importance.plot(kind = 'barh', x = 'feature', y = 'fscore', legend = False, figsize = (6,10))\n",
    "plt.title('XGBoost Feature Importance')\n",
    "plt.xlabel('relative importance')"
   ]
  },
  {
   "cell_type": "code",
   "execution_count": null,
   "metadata": {
    "collapsed": true
   },
   "outputs": [],
   "source": []
  },
  {
   "cell_type": "markdown",
   "metadata": {},
   "source": [
    "### Save model"
   ]
  },
  {
   "cell_type": "code",
   "execution_count": 212,
   "metadata": {
    "collapsed": true
   },
   "outputs": [],
   "source": [
    "import pickle"
   ]
  },
  {
   "cell_type": "code",
   "execution_count": 213,
   "metadata": {
    "collapsed": true
   },
   "outputs": [],
   "source": [
    "pickle.dump(gbm, open('../output/model.pkl', \"wb\"))"
   ]
  },
  {
   "cell_type": "code",
   "execution_count": 215,
   "metadata": {},
   "outputs": [
    {
     "data": {
      "text/plain": [
       "['../output/pima.joblib.dat']"
      ]
     },
     "execution_count": 215,
     "metadata": {},
     "output_type": "execute_result"
    }
   ],
   "source": [
    "from sklearn.externals import joblib\n",
    "joblib.dump(gbm, \"../output/pima.joblib.dat\")"
   ]
  },
  {
   "cell_type": "code",
   "execution_count": 216,
   "metadata": {
    "collapsed": true
   },
   "outputs": [],
   "source": [
    "with open('../output/model2.pkl', 'wb') as outfile:\n",
    "    pickle.dump(gbm, outfile)"
   ]
  },
  {
   "cell_type": "code",
   "execution_count": null,
   "metadata": {
    "collapsed": true
   },
   "outputs": [],
   "source": []
  },
  {
   "cell_type": "code",
   "execution_count": null,
   "metadata": {
    "collapsed": true
   },
   "outputs": [],
   "source": []
  }
 ],
 "metadata": {
  "kernelspec": {
   "display_name": "Python 3",
   "language": "python",
   "name": "python3"
  },
  "language_info": {
   "codemirror_mode": {
    "name": "ipython",
    "version": 3
   },
   "file_extension": ".py",
   "mimetype": "text/x-python",
   "name": "python",
   "nbconvert_exporter": "python",
   "pygments_lexer": "ipython3",
   "version": "3.6.1"
  }
 },
 "nbformat": 4,
 "nbformat_minor": 2
}
